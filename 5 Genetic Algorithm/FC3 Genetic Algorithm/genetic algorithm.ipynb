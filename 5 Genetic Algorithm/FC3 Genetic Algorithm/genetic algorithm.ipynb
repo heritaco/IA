{
 "cells": [
  {
   "cell_type": "code",
   "execution_count": 141,
   "metadata": {},
   "outputs": [],
   "source": [
    "import random\n",
    "from typing import List, Tuple\n",
    "from rutas import *\n",
    "from parameters import *\n",
    "import matplotlib.pyplot as plt"
   ]
  },
  {
   "cell_type": "code",
   "execution_count": 142,
   "metadata": {},
   "outputs": [
    {
     "name": "stdout",
     "output_type": "stream",
     "text": [
      "([31, 27, 70, 15, 70, 69, 14, 87, 27, 70, 33, 88, 15, 28, 29, 108], 37, ['6', '5', '3', '3', '3', '3', '3', '6', '5', '3', '6', '6', '3', '5', '5', 'B'], [('El Rosario', 'Instituto del Petroleo'), ('Instituto del Petroleo', 'La Raza'), ('La Raza', 'Deportivo 18 de Marzo'), ('Deportivo 18 de Marzo', 'La Raza'), ('La Raza', 'Deportivo 18 de Marzo'), ('Deportivo 18 de Marzo', 'Indios Verdes'), ('Indios Verdes', 'Deportivo 18 de Marzo'), ('Deportivo 18 de Marzo', 'Instituto del Petroleo'), ('Instituto del Petroleo', 'La Raza'), ('La Raza', 'Deportivo 18 de Marzo'), ('Deportivo 18 de Marzo', 'Martín Carrera'), ('Martín Carrera', 'Deportivo 18 de Marzo'), ('Deportivo 18 de Marzo', 'La Raza'), ('La Raza', 'Consulado'), ('Consulado', 'Oceanía'), ('Oceanía', 'San Lázaro')])\n"
     ]
    }
   ],
   "source": [
    "Genome = Tuple[List[int], int, List[str], List[Tuple[str, str]]]\n",
    "\n",
    "def generate_genome(rutas: List[Ruta], start_point: str, end_point: str) -> Genome:\n",
    "    # Initialize the current_point with the start_point, and create empty lists for indexes and stages\n",
    "    current_point, indexes, stages = start_point, [], []\n",
    "    # Continue the loop until the current_point is not the end_point\n",
    "    while current_point != end_point:\n",
    "        # Choose a random route from the list of routes where the start of the route is the current_point\n",
    "        i = random.choice([i for i, ruta in enumerate(rutas) if current_point == ruta.start])\n",
    "        # Append the index of the chosen route to the indexes list\n",
    "        indexes.append(i)\n",
    "        # Append the current_point and the end of the chosen route to the stages list\n",
    "        stages.append((current_point, rutas[i].end))\n",
    "        # Update the current_point to the end of the chosen route\n",
    "        current_point = rutas[i].end\n",
    "    # Calculate the total time by summing up the time of each route in the indexes list\n",
    "    time = sum(rutas[i].time for i in indexes)\n",
    "    # Create a list of lines by getting the line of each route in the indexes list\n",
    "    lineas = [rutas[i].linea for i in indexes]\n",
    "    # Return the indexes, time, lines, and stages as a Genome\n",
    "    return indexes, time, lineas, stages\n",
    "\n",
    "genome_example = generate_genome(rutas, start_point, end_point)\n",
    "print(genome_example)"
   ]
  },
  {
   "cell_type": "code",
   "execution_count": 143,
   "metadata": {},
   "outputs": [
    {
     "name": "stdout",
     "output_type": "stream",
     "text": [
      "([34, 89, 31, 86, 34, 89, 31, 86, 34, 35, 36, 91, 0, 1, 40, 44, 80, 4], 69, ['7', '7', '6', '6', '7', '7', '6', '6', '7', '7', '7', '7', '1', '1', '8', '9', '4', '1'], [('El Rosario', 'Tacuba'), ('Tacuba', 'El Rosario'), ('El Rosario', 'Instituto del Petroleo'), ('Instituto del Petroleo', 'El Rosario'), ('El Rosario', 'Tacuba'), ('Tacuba', 'El Rosario'), ('El Rosario', 'Instituto del Petroleo'), ('Instituto del Petroleo', 'El Rosario'), ('El Rosario', 'Tacuba'), ('Tacuba', 'Tacubaya'), ('Tacubaya', 'Mixcoac'), ('Mixcoac', 'Tacubaya'), ('Tacubaya', 'Balderas'), ('Balderas', 'Salto del Agua'), ('Salto del Agua', 'Chabacano'), ('Chabacano', 'Jamaica'), ('Jamaica', 'Candelaria'), ('Candelaria', 'San Lázaro')]) \n",
      "\n",
      "([34, 35, 36, 91, 42, 20, 21, 76, 75, 43, 98, 43, 66, 11, 66, 11, 44, 80, 79, 52], 49, ['7', '7', '7', '7', '9', '3', '3', '3', '3', '9', '9', '9', '2', '2', '2', '2', '9', '4', '4', 'B'], [('El Rosario', 'Tacuba'), ('Tacuba', 'Tacubaya'), ('Tacubaya', 'Mixcoac'), ('Mixcoac', 'Tacubaya'), ('Tacubaya', 'Centro Médico'), ('Centro Médico', 'Zapata'), ('Zapata', 'Universidad'), ('Universidad', 'Zapata'), ('Zapata', 'Centro Médico'), ('Centro Médico', 'Chabacano'), ('Chabacano', 'Centro Médico'), ('Centro Médico', 'Chabacano'), ('Chabacano', 'Pino Suárez'), ('Pino Suárez', 'Chabacano'), ('Chabacano', 'Pino Suárez'), ('Pino Suárez', 'Chabacano'), ('Chabacano', 'Jamaica'), ('Jamaica', 'Candelaria'), ('Candelaria', 'Morelos'), ('Morelos', 'San Lázaro')]) \n",
      "\n",
      "([31, 81, 26, 86, 34, 89, 34, 35, 90, 89, 31, 81, 26, 81, 26, 86, 34, 35, 8, 18, 19, 97, 42, 43, 95, 40, 98, 43, 98, 20, 75, 20, 101, 91, 42, 20, 47, 13, 68, 102, 75, 74, 55, 8, 63, 42, 20, 47, 48, 96, 95, 2, 65, 39, 40, 41, 96, 44, 80, 79, 52], 211, ['6', '5', '5', '6', '7', '7', '7', '7', '7', '7', '6', '5', '5', '5', '5', '6', '7', '7', '2', '3', '3', '9', '9', '9', '8', '8', '9', '9', '9', '3', '3', '3', '12', '7', '9', '3', '12', '2', '2', '12', '3', '3', '1', '2', '2', '9', '3', '12', '12', '8', '8', '1', '2', '8', '8', '8', '8', '9', '4', '4', 'B'], [('El Rosario', 'Instituto del Petroleo'), ('Instituto del Petroleo', 'Politécnico'), ('Politécnico', 'Instituto del Petroleo'), ('Instituto del Petroleo', 'El Rosario'), ('El Rosario', 'Tacuba'), ('Tacuba', 'El Rosario'), ('El Rosario', 'Tacuba'), ('Tacuba', 'Tacubaya'), ('Tacubaya', 'Tacuba'), ('Tacuba', 'El Rosario'), ('El Rosario', 'Instituto del Petroleo'), ('Instituto del Petroleo', 'Politécnico'), ('Politécnico', 'Instituto del Petroleo'), ('Instituto del Petroleo', 'Politécnico'), ('Politécnico', 'Instituto del Petroleo'), ('Instituto del Petroleo', 'El Rosario'), ('El Rosario', 'Tacuba'), ('Tacuba', 'Tacubaya'), ('Tacubaya', 'Hidalgo'), ('Hidalgo', 'Balderas'), ('Balderas', 'Centro Médico'), ('Centro Médico', 'Tacubaya'), ('Tacubaya', 'Centro Médico'), ('Centro Médico', 'Chabacano'), ('Chabacano', 'Salto del Agua'), ('Salto del Agua', 'Chabacano'), ('Chabacano', 'Centro Médico'), ('Centro Médico', 'Chabacano'), ('Chabacano', 'Centro Médico'), ('Centro Médico', 'Zapata'), ('Zapata', 'Centro Médico'), ('Centro Médico', 'Zapata'), ('Zapata', 'Mixcoac'), ('Mixcoac', 'Tacubaya'), ('Tacubaya', 'Centro Médico'), ('Centro Médico', 'Zapata'), ('Zapata', 'Ermita'), ('Ermita', 'Tasqueña'), ('Tasqueña', 'Ermita'), ('Ermita', 'Zapata'), ('Zapata', 'Centro Médico'), ('Centro Médico', 'Balderas'), ('Balderas', 'Tacubaya'), ('Tacubaya', 'Hidalgo'), ('Hidalgo', 'Tacubaya'), ('Tacubaya', 'Centro Médico'), ('Centro Médico', 'Zapata'), ('Zapata', 'Ermita'), ('Ermita', 'Atlalilco'), ('Atlalilco', 'Chabacano'), ('Chabacano', 'Salto del Agua'), ('Salto del Agua', 'Pino Suárez'), ('Pino Suárez', 'Bellas Artes'), ('Bellas Artes', 'Salto del Agua'), ('Salto del Agua', 'Chabacano'), ('Chabacano', 'Atlalilco'), ('Atlalilco', 'Chabacano'), ('Chabacano', 'Jamaica'), ('Jamaica', 'Candelaria'), ('Candelaria', 'Morelos'), ('Morelos', 'San Lázaro')]) \n",
      "\n",
      "([34, 35, 0, 55, 0, 55, 0, 55, 36, 37, 92, 46, 75, 74, 73, 18, 55, 42, 20, 47, 67, 44, 45, 85, 54, 109, 108], 100, ['7', '7', '1', '1', '1', '1', '1', '1', '7', '7', '7', '12', '3', '3', '3', '3', '1', '9', '3', '12', '2', '9', '9', '5', 'B', 'B', 'B'], [('El Rosario', 'Tacuba'), ('Tacuba', 'Tacubaya'), ('Tacubaya', 'Balderas'), ('Balderas', 'Tacubaya'), ('Tacubaya', 'Balderas'), ('Balderas', 'Tacubaya'), ('Tacubaya', 'Balderas'), ('Balderas', 'Tacubaya'), ('Tacubaya', 'Mixcoac'), ('Mixcoac', 'Barranca del Muerto'), ('Barranca del Muerto', 'Mixcoac'), ('Mixcoac', 'Zapata'), ('Zapata', 'Centro Médico'), ('Centro Médico', 'Balderas'), ('Balderas', 'Hidalgo'), ('Hidalgo', 'Balderas'), ('Balderas', 'Tacubaya'), ('Tacubaya', 'Centro Médico'), ('Centro Médico', 'Zapata'), ('Zapata', 'Ermita'), ('Ermita', 'Chabacano'), ('Chabacano', 'Jamaica'), ('Jamaica', 'Pantitlán'), ('Pantitlán', 'Oceanía'), ('Oceanía', 'Ciudad Azteca'), ('Ciudad Azteca', 'Oceanía'), ('Oceanía', 'San Lázaro')]) \n",
      "\n",
      "([34, 35, 42, 97, 42, 20, 47, 102, 21, 76, 101, 91, 90, 89, 31, 81, 26, 86, 31, 81, 26, 32, 33, 22, 29, 54, 109, 30, 61, 60], 90, ['7', '7', '9', '9', '9', '3', '12', '12', '3', '3', '12', '7', '7', '7', '6', '5', '5', '6', '6', '5', '5', '6', '6', '4', '5', 'B', 'B', '5', '1', '1'], [('El Rosario', 'Tacuba'), ('Tacuba', 'Tacubaya'), ('Tacubaya', 'Centro Médico'), ('Centro Médico', 'Tacubaya'), ('Tacubaya', 'Centro Médico'), ('Centro Médico', 'Zapata'), ('Zapata', 'Ermita'), ('Ermita', 'Zapata'), ('Zapata', 'Universidad'), ('Universidad', 'Zapata'), ('Zapata', 'Mixcoac'), ('Mixcoac', 'Tacubaya'), ('Tacubaya', 'Tacuba'), ('Tacuba', 'El Rosario'), ('El Rosario', 'Instituto del Petroleo'), ('Instituto del Petroleo', 'Politécnico'), ('Politécnico', 'Instituto del Petroleo'), ('Instituto del Petroleo', 'El Rosario'), ('El Rosario', 'Instituto del Petroleo'), ('Instituto del Petroleo', 'Politécnico'), ('Politécnico', 'Instituto del Petroleo'), ('Instituto del Petroleo', 'Deportivo 18 de Marzo'), ('Deportivo 18 de Marzo', 'Martín Carrera'), ('Martín Carrera', 'Consulado'), ('Consulado', 'Oceanía'), ('Oceanía', 'Ciudad Azteca'), ('Ciudad Azteca', 'Oceanía'), ('Oceanía', 'Pantitlán'), ('Pantitlán', 'Gómez Farías'), ('Gómez Farías', 'San Lázaro')]) \n",
      "\n",
      "([34, 89, 31, 27, 16, 71, 70, 15, 28, 23, 24, 58, 11, 44, 99, 98, 20, 75, 20, 101, 46, 21, 76, 47, 67, 44, 99, 66, 57, 40, 66, 65, 39, 94, 39, 40, 98, 97, 0, 1, 2, 3, 79, 52], 110, ['7', '7', '6', '5', '3', '3', '3', '3', '5', '4', '4', '1', '2', '9', '9', '9', '3', '3', '3', '12', '12', '3', '3', '12', '2', '9', '9', '2', '1', '8', '2', '2', '8', '8', '8', '8', '9', '9', '1', '1', '1', '1', '4', 'B'], [('El Rosario', 'Tacuba'), ('Tacuba', 'El Rosario'), ('El Rosario', 'Instituto del Petroleo'), ('Instituto del Petroleo', 'La Raza'), ('La Raza', 'Guerrero'), ('Guerrero', 'La Raza'), ('La Raza', 'Deportivo 18 de Marzo'), ('Deportivo 18 de Marzo', 'La Raza'), ('La Raza', 'Consulado'), ('Consulado', 'Morelos'), ('Morelos', 'Candelaria'), ('Candelaria', 'Pino Suárez'), ('Pino Suárez', 'Chabacano'), ('Chabacano', 'Jamaica'), ('Jamaica', 'Chabacano'), ('Chabacano', 'Centro Médico'), ('Centro Médico', 'Zapata'), ('Zapata', 'Centro Médico'), ('Centro Médico', 'Zapata'), ('Zapata', 'Mixcoac'), ('Mixcoac', 'Zapata'), ('Zapata', 'Universidad'), ('Universidad', 'Zapata'), ('Zapata', 'Ermita'), ('Ermita', 'Chabacano'), ('Chabacano', 'Jamaica'), ('Jamaica', 'Chabacano'), ('Chabacano', 'Pino Suárez'), ('Pino Suárez', 'Salto del Agua'), ('Salto del Agua', 'Chabacano'), ('Chabacano', 'Pino Suárez'), ('Pino Suárez', 'Bellas Artes'), ('Bellas Artes', 'Salto del Agua'), ('Salto del Agua', 'Bellas Artes'), ('Bellas Artes', 'Salto del Agua'), ('Salto del Agua', 'Chabacano'), ('Chabacano', 'Centro Médico'), ('Centro Médico', 'Tacubaya'), ('Tacubaya', 'Balderas'), ('Balderas', 'Salto del Agua'), ('Salto del Agua', 'Pino Suárez'), ('Pino Suárez', 'Candelaria'), ('Candelaria', 'Morelos'), ('Morelos', 'San Lázaro')]) \n",
      "\n",
      "([31, 27, 82, 32, 69, 14, 87, 86, 31, 86, 31, 32, 33, 88, 87, 81, 26, 32, 33, 88, 15, 16, 50, 38, 93, 51, 106, 51, 78, 83, 82, 32, 87, 86, 34, 35, 8, 18, 73, 18, 73, 18, 1, 40, 41, 103, 48, 96, 66, 57, 2, 57, 94, 10, 65, 64, 18, 19, 74, 1, 94, 39, 40, 66, 65, 39, 40, 41, 96, 98, 20, 101, 46, 101, 91, 36, 46, 101, 46, 75, 97, 62, 7, 0, 55, 42, 97, 8, 72, 50, 38, 10, 3, 25, 99, 44, 99, 95, 2, 57, 56, 73, 63, 0, 1, 2, 3, 4], 304, ['6', '5', '5', '6', '3', '3', '6', '6', '6', '6', '6', '6', '6', '6', '6', '5', '5', '6', '6', '6', '3', '3', 'B', '8', '8', 'B', 'B', 'B', '4', '5', '5', '6', '6', '6', '7', '7', '2', '3', '3', '3', '3', '3', '1', '8', '8', '12', '12', '8', '2', '1', '1', '1', '8', '2', '2', '2', '3', '3', '3', '1', '8', '8', '8', '2', '2', '8', '8', '8', '8', '9', '3', '12', '12', '12', '7', '7', '12', '12', '12', '3', '9', '2', '2', '1', '1', '9', '9', '2', '3', 'B', '8', '2', '1', '4', '9', '9', '9', '8', '1', '1', '1', '3', '2', '1', '1', '1', '1', '1'], [('El Rosario', 'Instituto del Petroleo'), ('Instituto del Petroleo', 'La Raza'), ('La Raza', 'Instituto del Petroleo'), ('Instituto del Petroleo', 'Deportivo 18 de Marzo'), ('Deportivo 18 de Marzo', 'Indios Verdes'), ('Indios Verdes', 'Deportivo 18 de Marzo'), ('Deportivo 18 de Marzo', 'Instituto del Petroleo'), ('Instituto del Petroleo', 'El Rosario'), ('El Rosario', 'Instituto del Petroleo'), ('Instituto del Petroleo', 'El Rosario'), ('El Rosario', 'Instituto del Petroleo'), ('Instituto del Petroleo', 'Deportivo 18 de Marzo'), ('Deportivo 18 de Marzo', 'Martín Carrera'), ('Martín Carrera', 'Deportivo 18 de Marzo'), ('Deportivo 18 de Marzo', 'Instituto del Petroleo'), ('Instituto del Petroleo', 'Politécnico'), ('Politécnico', 'Instituto del Petroleo'), ('Instituto del Petroleo', 'Deportivo 18 de Marzo'), ('Deportivo 18 de Marzo', 'Martín Carrera'), ('Martín Carrera', 'Deportivo 18 de Marzo'), ('Deportivo 18 de Marzo', 'La Raza'), ('La Raza', 'Guerrero'), ('Guerrero', 'Garibaldi'), ('Garibaldi', 'Bellas Artes'), ('Bellas Artes', 'Garibaldi'), ('Garibaldi', 'Morelos'), ('Morelos', 'Garibaldi'), ('Garibaldi', 'Morelos'), ('Morelos', 'Consulado'), ('Consulado', 'La Raza'), ('La Raza', 'Instituto del Petroleo'), ('Instituto del Petroleo', 'Deportivo 18 de Marzo'), ('Deportivo 18 de Marzo', 'Instituto del Petroleo'), ('Instituto del Petroleo', 'El Rosario'), ('El Rosario', 'Tacuba'), ('Tacuba', 'Tacubaya'), ('Tacubaya', 'Hidalgo'), ('Hidalgo', 'Balderas'), ('Balderas', 'Hidalgo'), ('Hidalgo', 'Balderas'), ('Balderas', 'Hidalgo'), ('Hidalgo', 'Balderas'), ('Balderas', 'Salto del Agua'), ('Salto del Agua', 'Chabacano'), ('Chabacano', 'Atlalilco'), ('Atlalilco', 'Ermita'), ('Ermita', 'Atlalilco'), ('Atlalilco', 'Chabacano'), ('Chabacano', 'Pino Suárez'), ('Pino Suárez', 'Salto del Agua'), ('Salto del Agua', 'Pino Suárez'), ('Pino Suárez', 'Salto del Agua'), ('Salto del Agua', 'Bellas Artes'), ('Bellas Artes', 'Pino Suárez'), ('Pino Suárez', 'Bellas Artes'), ('Bellas Artes', 'Hidalgo'), ('Hidalgo', 'Balderas'), ('Balderas', 'Centro Médico'), ('Centro Médico', 'Balderas'), ('Balderas', 'Salto del Agua'), ('Salto del Agua', 'Bellas Artes'), ('Bellas Artes', 'Salto del Agua'), ('Salto del Agua', 'Chabacano'), ('Chabacano', 'Pino Suárez'), ('Pino Suárez', 'Bellas Artes'), ('Bellas Artes', 'Salto del Agua'), ('Salto del Agua', 'Chabacano'), ('Chabacano', 'Atlalilco'), ('Atlalilco', 'Chabacano'), ('Chabacano', 'Centro Médico'), ('Centro Médico', 'Zapata'), ('Zapata', 'Mixcoac'), ('Mixcoac', 'Zapata'), ('Zapata', 'Mixcoac'), ('Mixcoac', 'Tacubaya'), ('Tacubaya', 'Mixcoac'), ('Mixcoac', 'Zapata'), ('Zapata', 'Mixcoac'), ('Mixcoac', 'Zapata'), ('Zapata', 'Centro Médico'), ('Centro Médico', 'Tacubaya'), ('Tacubaya', 'Cuatro Caminos'), ('Cuatro Caminos', 'Tacubaya'), ('Tacubaya', 'Balderas'), ('Balderas', 'Tacubaya'), ('Tacubaya', 'Centro Médico'), ('Centro Médico', 'Tacubaya'), ('Tacubaya', 'Hidalgo'), ('Hidalgo', 'Guerrero'), ('Guerrero', 'Garibaldi'), ('Garibaldi', 'Bellas Artes'), ('Bellas Artes', 'Pino Suárez'), ('Pino Suárez', 'Candelaria'), ('Candelaria', 'Jamaica'), ('Jamaica', 'Chabacano'), ('Chabacano', 'Jamaica'), ('Jamaica', 'Chabacano'), ('Chabacano', 'Salto del Agua'), ('Salto del Agua', 'Pino Suárez'), ('Pino Suárez', 'Salto del Agua'), ('Salto del Agua', 'Balderas'), ('Balderas', 'Hidalgo'), ('Hidalgo', 'Tacubaya'), ('Tacubaya', 'Balderas'), ('Balderas', 'Salto del Agua'), ('Salto del Agua', 'Pino Suárez'), ('Pino Suárez', 'Candelaria'), ('Candelaria', 'San Lázaro')]) \n",
      "\n",
      "([34, 89, 34, 35, 36, 37, 92, 91, 36, 91, 90, 89, 34, 35, 62, 7, 42, 97, 8, 63, 90, 35, 36, 46, 47, 48, 96, 95, 94, 39, 40, 12, 102, 101, 37, 92, 46, 101, 37, 92, 46, 75, 43, 44, 80, 4], 145, ['7', '7', '7', '7', '7', '7', '7', '7', '7', '7', '7', '7', '7', '7', '2', '2', '9', '9', '2', '2', '7', '7', '7', '12', '12', '12', '8', '8', '8', '8', '8', '2', '12', '12', '7', '7', '12', '12', '7', '7', '12', '3', '9', '9', '4', '1'], [('El Rosario', 'Tacuba'), ('Tacuba', 'El Rosario'), ('El Rosario', 'Tacuba'), ('Tacuba', 'Tacubaya'), ('Tacubaya', 'Mixcoac'), ('Mixcoac', 'Barranca del Muerto'), ('Barranca del Muerto', 'Mixcoac'), ('Mixcoac', 'Tacubaya'), ('Tacubaya', 'Mixcoac'), ('Mixcoac', 'Tacubaya'), ('Tacubaya', 'Tacuba'), ('Tacuba', 'El Rosario'), ('El Rosario', 'Tacuba'), ('Tacuba', 'Tacubaya'), ('Tacubaya', 'Cuatro Caminos'), ('Cuatro Caminos', 'Tacubaya'), ('Tacubaya', 'Centro Médico'), ('Centro Médico', 'Tacubaya'), ('Tacubaya', 'Hidalgo'), ('Hidalgo', 'Tacubaya'), ('Tacubaya', 'Tacuba'), ('Tacuba', 'Tacubaya'), ('Tacubaya', 'Mixcoac'), ('Mixcoac', 'Zapata'), ('Zapata', 'Ermita'), ('Ermita', 'Atlalilco'), ('Atlalilco', 'Chabacano'), ('Chabacano', 'Salto del Agua'), ('Salto del Agua', 'Bellas Artes'), ('Bellas Artes', 'Salto del Agua'), ('Salto del Agua', 'Chabacano'), ('Chabacano', 'Ermita'), ('Ermita', 'Zapata'), ('Zapata', 'Mixcoac'), ('Mixcoac', 'Barranca del Muerto'), ('Barranca del Muerto', 'Mixcoac'), ('Mixcoac', 'Zapata'), ('Zapata', 'Mixcoac'), ('Mixcoac', 'Barranca del Muerto'), ('Barranca del Muerto', 'Mixcoac'), ('Mixcoac', 'Zapata'), ('Zapata', 'Centro Médico'), ('Centro Médico', 'Chabacano'), ('Chabacano', 'Jamaica'), ('Jamaica', 'Candelaria'), ('Candelaria', 'San Lázaro')]) \n",
      "\n",
      "([31, 27, 16, 50, 51, 52], 15, ['6', '5', '3', 'B', 'B', 'B'], [('El Rosario', 'Instituto del Petroleo'), ('Instituto del Petroleo', 'La Raza'), ('La Raza', 'Guerrero'), ('Guerrero', 'Garibaldi'), ('Garibaldi', 'Morelos'), ('Morelos', 'San Lázaro')]) \n",
      "\n",
      "([34, 35, 8, 18, 73, 72, 71, 82, 81, 26, 81, 26, 27, 28, 77, 88, 87, 81, 26, 27, 28, 29, 54, 109, 108], 56, ['7', '7', '2', '3', '3', '3', '3', '5', '5', '5', '5', '5', '5', '5', '4', '6', '6', '5', '5', '5', '5', '5', 'B', 'B', 'B'], [('El Rosario', 'Tacuba'), ('Tacuba', 'Tacubaya'), ('Tacubaya', 'Hidalgo'), ('Hidalgo', 'Balderas'), ('Balderas', 'Hidalgo'), ('Hidalgo', 'Guerrero'), ('Guerrero', 'La Raza'), ('La Raza', 'Instituto del Petroleo'), ('Instituto del Petroleo', 'Politécnico'), ('Politécnico', 'Instituto del Petroleo'), ('Instituto del Petroleo', 'Politécnico'), ('Politécnico', 'Instituto del Petroleo'), ('Instituto del Petroleo', 'La Raza'), ('La Raza', 'Consulado'), ('Consulado', 'Martín Carrera'), ('Martín Carrera', 'Deportivo 18 de Marzo'), ('Deportivo 18 de Marzo', 'Instituto del Petroleo'), ('Instituto del Petroleo', 'Politécnico'), ('Politécnico', 'Instituto del Petroleo'), ('Instituto del Petroleo', 'La Raza'), ('La Raza', 'Consulado'), ('Consulado', 'Oceanía'), ('Oceanía', 'Ciudad Azteca'), ('Ciudad Azteca', 'Oceanía'), ('Oceanía', 'San Lázaro')]) \n",
      "\n",
      "([34, 89, 31, 32, 15, 16, 71, 28, 29, 84, 83, 16, 50, 105, 50, 38, 39, 2, 57, 2, 3, 79, 106, 105, 50, 51, 106, 51, 106, 38, 64, 63, 62, 7, 36, 46, 75, 43, 12, 67, 12, 13, 68, 48, 96, 98, 74, 1, 40, 44, 99, 41, 96, 66, 3, 25, 80, 4], 157, ['7', '7', '6', '6', '3', '3', '3', '5', '5', '5', '5', '3', 'B', 'B', 'B', '8', '8', '1', '1', '1', '1', '4', 'B', 'B', 'B', 'B', 'B', 'B', 'B', '8', '2', '2', '2', '2', '7', '12', '3', '9', '2', '2', '2', '2', '2', '12', '8', '9', '3', '1', '8', '9', '9', '8', '8', '2', '1', '4', '4', '1'], [('El Rosario', 'Tacuba'), ('Tacuba', 'El Rosario'), ('El Rosario', 'Instituto del Petroleo'), ('Instituto del Petroleo', 'Deportivo 18 de Marzo'), ('Deportivo 18 de Marzo', 'La Raza'), ('La Raza', 'Guerrero'), ('Guerrero', 'La Raza'), ('La Raza', 'Consulado'), ('Consulado', 'Oceanía'), ('Oceanía', 'Consulado'), ('Consulado', 'La Raza'), ('La Raza', 'Guerrero'), ('Guerrero', 'Garibaldi'), ('Garibaldi', 'Guerrero'), ('Guerrero', 'Garibaldi'), ('Garibaldi', 'Bellas Artes'), ('Bellas Artes', 'Salto del Agua'), ('Salto del Agua', 'Pino Suárez'), ('Pino Suárez', 'Salto del Agua'), ('Salto del Agua', 'Pino Suárez'), ('Pino Suárez', 'Candelaria'), ('Candelaria', 'Morelos'), ('Morelos', 'Garibaldi'), ('Garibaldi', 'Guerrero'), ('Guerrero', 'Garibaldi'), ('Garibaldi', 'Morelos'), ('Morelos', 'Garibaldi'), ('Garibaldi', 'Morelos'), ('Morelos', 'Garibaldi'), ('Garibaldi', 'Bellas Artes'), ('Bellas Artes', 'Hidalgo'), ('Hidalgo', 'Tacubaya'), ('Tacubaya', 'Cuatro Caminos'), ('Cuatro Caminos', 'Tacubaya'), ('Tacubaya', 'Mixcoac'), ('Mixcoac', 'Zapata'), ('Zapata', 'Centro Médico'), ('Centro Médico', 'Chabacano'), ('Chabacano', 'Ermita'), ('Ermita', 'Chabacano'), ('Chabacano', 'Ermita'), ('Ermita', 'Tasqueña'), ('Tasqueña', 'Ermita'), ('Ermita', 'Atlalilco'), ('Atlalilco', 'Chabacano'), ('Chabacano', 'Centro Médico'), ('Centro Médico', 'Balderas'), ('Balderas', 'Salto del Agua'), ('Salto del Agua', 'Chabacano'), ('Chabacano', 'Jamaica'), ('Jamaica', 'Chabacano'), ('Chabacano', 'Atlalilco'), ('Atlalilco', 'Chabacano'), ('Chabacano', 'Pino Suárez'), ('Pino Suárez', 'Candelaria'), ('Candelaria', 'Jamaica'), ('Jamaica', 'Candelaria'), ('Candelaria', 'San Lázaro')]) \n",
      "\n",
      "([34, 89, 31, 32, 33, 88, 15, 70, 69, 14, 33, 22, 29, 30, 100, 45, 85, 84, 23, 52], 56, ['7', '7', '6', '6', '6', '6', '3', '3', '3', '3', '6', '4', '5', '5', '9', '9', '5', '5', '4', 'B'], [('El Rosario', 'Tacuba'), ('Tacuba', 'El Rosario'), ('El Rosario', 'Instituto del Petroleo'), ('Instituto del Petroleo', 'Deportivo 18 de Marzo'), ('Deportivo 18 de Marzo', 'Martín Carrera'), ('Martín Carrera', 'Deportivo 18 de Marzo'), ('Deportivo 18 de Marzo', 'La Raza'), ('La Raza', 'Deportivo 18 de Marzo'), ('Deportivo 18 de Marzo', 'Indios Verdes'), ('Indios Verdes', 'Deportivo 18 de Marzo'), ('Deportivo 18 de Marzo', 'Martín Carrera'), ('Martín Carrera', 'Consulado'), ('Consulado', 'Oceanía'), ('Oceanía', 'Pantitlán'), ('Pantitlán', 'Jamaica'), ('Jamaica', 'Pantitlán'), ('Pantitlán', 'Oceanía'), ('Oceanía', 'Consulado'), ('Consulado', 'Morelos'), ('Morelos', 'San Lázaro')]) \n",
      "\n"
     ]
    }
   ],
   "source": [
    "# This function generates a population of genomes.\n",
    "def generate_population(rutas: List[Ruta], size_pop) -> List[Genome]:\n",
    "    # Each genome is a path from the start point to the end point.\n",
    "    # The population size is determined by the size_pop parameter.\n",
    "    return [generate_genome(rutas, start_point, end_point) for _ in range(size_pop)]\n",
    "\n",
    "population_example = generate_population(rutas, size_pop)\n",
    "for genome in population_example:\n",
    "    print(genome, \"\\n\")"
   ]
  },
  {
   "cell_type": "code",
   "execution_count": 144,
   "metadata": {},
   "outputs": [
    {
     "name": "stdout",
     "output_type": "stream",
     "text": [
      "0.014492753623188406\n",
      "0.02040816326530612\n",
      "0.004739336492890996\n",
      "0.01\n",
      "0.011111111111111112\n",
      "0.00909090909090909\n",
      "0.003289473684210526\n",
      "0.006896551724137931\n",
      "0.06666666666666667\n",
      "0.017857142857142856\n",
      "0.006369426751592357\n",
      "0.017857142857142856\n"
     ]
    }
   ],
   "source": [
    "# This function calculates the fitness of a genome.\n",
    "def fitness(genome: Genome, rutas: List[Ruta]) -> float:\n",
    "    # The fitness is defined as the inverse of the total time of the path represented by the genome.\n",
    "    # If the total time is 0, the fitness is also 0 to avoid division by zero.\n",
    "    return 1/genome[1] if genome[1] != 0 else 0\n",
    "\n",
    "for genome in population_example:\n",
    "    print(fitness(genome, rutas))"
   ]
  },
  {
   "cell_type": "code",
   "execution_count": 145,
   "metadata": {},
   "outputs": [
    {
     "name": "stdout",
     "output_type": "stream",
     "text": [
      "([31, 27, 16, 50, 51, 52], 15, ['6', '5', '3', 'B', 'B', 'B'], [('El Rosario', 'Instituto del Petroleo'), ('Instituto del Petroleo', 'La Raza'), ('La Raza', 'Guerrero'), ('Guerrero', 'Garibaldi'), ('Garibaldi', 'Morelos'), ('Morelos', 'San Lázaro')]) \n",
      "\n",
      "([34, 35, 36, 91, 42, 20, 21, 76, 75, 43, 98, 43, 66, 11, 66, 11, 44, 80, 79, 52], 49, ['7', '7', '7', '7', '9', '3', '3', '3', '3', '9', '9', '9', '2', '2', '2', '2', '9', '4', '4', 'B'], [('El Rosario', 'Tacuba'), ('Tacuba', 'Tacubaya'), ('Tacubaya', 'Mixcoac'), ('Mixcoac', 'Tacubaya'), ('Tacubaya', 'Centro Médico'), ('Centro Médico', 'Zapata'), ('Zapata', 'Universidad'), ('Universidad', 'Zapata'), ('Zapata', 'Centro Médico'), ('Centro Médico', 'Chabacano'), ('Chabacano', 'Centro Médico'), ('Centro Médico', 'Chabacano'), ('Chabacano', 'Pino Suárez'), ('Pino Suárez', 'Chabacano'), ('Chabacano', 'Pino Suárez'), ('Pino Suárez', 'Chabacano'), ('Chabacano', 'Jamaica'), ('Jamaica', 'Candelaria'), ('Candelaria', 'Morelos'), ('Morelos', 'San Lázaro')]) \n",
      "\n",
      "([34, 35, 8, 18, 73, 72, 71, 82, 81, 26, 81, 26, 27, 28, 77, 88, 87, 81, 26, 27, 28, 29, 54, 109, 108], 56, ['7', '7', '2', '3', '3', '3', '3', '5', '5', '5', '5', '5', '5', '5', '4', '6', '6', '5', '5', '5', '5', '5', 'B', 'B', 'B'], [('El Rosario', 'Tacuba'), ('Tacuba', 'Tacubaya'), ('Tacubaya', 'Hidalgo'), ('Hidalgo', 'Balderas'), ('Balderas', 'Hidalgo'), ('Hidalgo', 'Guerrero'), ('Guerrero', 'La Raza'), ('La Raza', 'Instituto del Petroleo'), ('Instituto del Petroleo', 'Politécnico'), ('Politécnico', 'Instituto del Petroleo'), ('Instituto del Petroleo', 'Politécnico'), ('Politécnico', 'Instituto del Petroleo'), ('Instituto del Petroleo', 'La Raza'), ('La Raza', 'Consulado'), ('Consulado', 'Martín Carrera'), ('Martín Carrera', 'Deportivo 18 de Marzo'), ('Deportivo 18 de Marzo', 'Instituto del Petroleo'), ('Instituto del Petroleo', 'Politécnico'), ('Politécnico', 'Instituto del Petroleo'), ('Instituto del Petroleo', 'La Raza'), ('La Raza', 'Consulado'), ('Consulado', 'Oceanía'), ('Oceanía', 'Ciudad Azteca'), ('Ciudad Azteca', 'Oceanía'), ('Oceanía', 'San Lázaro')]) \n",
      "\n",
      "([34, 89, 31, 32, 33, 88, 15, 70, 69, 14, 33, 22, 29, 30, 100, 45, 85, 84, 23, 52], 56, ['7', '7', '6', '6', '6', '6', '3', '3', '3', '3', '6', '4', '5', '5', '9', '9', '5', '5', '4', 'B'], [('El Rosario', 'Tacuba'), ('Tacuba', 'El Rosario'), ('El Rosario', 'Instituto del Petroleo'), ('Instituto del Petroleo', 'Deportivo 18 de Marzo'), ('Deportivo 18 de Marzo', 'Martín Carrera'), ('Martín Carrera', 'Deportivo 18 de Marzo'), ('Deportivo 18 de Marzo', 'La Raza'), ('La Raza', 'Deportivo 18 de Marzo'), ('Deportivo 18 de Marzo', 'Indios Verdes'), ('Indios Verdes', 'Deportivo 18 de Marzo'), ('Deportivo 18 de Marzo', 'Martín Carrera'), ('Martín Carrera', 'Consulado'), ('Consulado', 'Oceanía'), ('Oceanía', 'Pantitlán'), ('Pantitlán', 'Jamaica'), ('Jamaica', 'Pantitlán'), ('Pantitlán', 'Oceanía'), ('Oceanía', 'Consulado'), ('Consulado', 'Morelos'), ('Morelos', 'San Lázaro')]) \n",
      "\n"
     ]
    }
   ],
   "source": [
    "# This function selects the top genomes from the population based on their fitness.\n",
    "def elitism(population: List[Genome], rutas: List[Ruta], elite_size: int) -> List[Genome]:\n",
    "    # The number of genomes to select is determined by the elite_size parameter.\n",
    "    # If elite_size is less than 2, it is set to 2 to ensure that at least two genomes are selected.\n",
    "    # The genomes are sorted in descending order of fitness, and the top genomes are returned.\n",
    "    elite_size = max(2, elite_size)\n",
    "    return sorted(population, key=lambda genome: fitness(genome, rutas), reverse=True)[:elite_size]\n",
    "\n",
    "\n",
    "elite_example = elitism(population_example, rutas, elite_size)\n",
    "for genome in elite_example:\n",
    "    print(genome, \"\\n\")"
   ]
  },
  {
   "cell_type": "code",
   "execution_count": 146,
   "metadata": {},
   "outputs": [
    {
     "name": "stdout",
     "output_type": "stream",
     "text": [
      "original: ([31, 27, 70, 15, 70, 69, 14, 87, 27, 70, 33, 88, 15, 28, 29, 108], 37, ['6', '5', '3', '3', '3', '3', '3', '6', '5', '3', '6', '6', '3', '5', '5', 'B'], [('El Rosario', 'Instituto del Petroleo'), ('Instituto del Petroleo', 'La Raza'), ('La Raza', 'Deportivo 18 de Marzo'), ('Deportivo 18 de Marzo', 'La Raza'), ('La Raza', 'Deportivo 18 de Marzo'), ('Deportivo 18 de Marzo', 'Indios Verdes'), ('Indios Verdes', 'Deportivo 18 de Marzo'), ('Deportivo 18 de Marzo', 'Instituto del Petroleo'), ('Instituto del Petroleo', 'La Raza'), ('La Raza', 'Deportivo 18 de Marzo'), ('Deportivo 18 de Marzo', 'Martín Carrera'), ('Martín Carrera', 'Deportivo 18 de Marzo'), ('Deportivo 18 de Marzo', 'La Raza'), ('La Raza', 'Consulado'), ('Consulado', 'Oceanía'), ('Oceanía', 'San Lázaro')]) \n",
      "mutated : ([31, 27, 70, 15, 70, 69, 14, 15, 70, 69, 14, 15, 28, 77, 88, 15, 28, 77, 22, 83, 28, 77, 88, 87, 27, 82, 81, 26, 27, 16, 50, 105, 17, 63, 0, 55, 8, 63, 90, 35, 0, 1, 40, 44, 45, 61, 60], 134, ['6', '5', '3', '3', '3', '3', '3', '3', '3', '3', '3', '3', '5', '4', '6', '3', '5', '4', '4', '5', '5', '4', '6', '6', '5', '5', '5', '5', '5', '3', 'B', 'B', '3', '2', '1', '1', '2', '2', '7', '7', '1', '1', '8', '9', '9', '1', '1'], [('El Rosario', 'Instituto del Petroleo'), ('Instituto del Petroleo', 'La Raza'), ('La Raza', 'Deportivo 18 de Marzo'), ('Deportivo 18 de Marzo', 'La Raza'), ('La Raza', 'Deportivo 18 de Marzo'), ('Deportivo 18 de Marzo', 'Indios Verdes'), ('Indios Verdes', 'Deportivo 18 de Marzo'), ('Deportivo 18 de Marzo', 'La Raza'), ('La Raza', 'Deportivo 18 de Marzo'), ('Deportivo 18 de Marzo', 'Indios Verdes'), ('Indios Verdes', 'Deportivo 18 de Marzo'), ('Deportivo 18 de Marzo', 'La Raza'), ('La Raza', 'Consulado'), ('Consulado', 'Martín Carrera'), ('Martín Carrera', 'Deportivo 18 de Marzo'), ('Deportivo 18 de Marzo', 'La Raza'), ('La Raza', 'Consulado'), ('Consulado', 'Martín Carrera'), ('Martín Carrera', 'Consulado'), ('Consulado', 'La Raza'), ('La Raza', 'Consulado'), ('Consulado', 'Martín Carrera'), ('Martín Carrera', 'Deportivo 18 de Marzo'), ('Deportivo 18 de Marzo', 'Instituto del Petroleo'), ('Instituto del Petroleo', 'La Raza'), ('La Raza', 'Instituto del Petroleo'), ('Instituto del Petroleo', 'Politécnico'), ('Politécnico', 'Instituto del Petroleo'), ('Instituto del Petroleo', 'La Raza'), ('La Raza', 'Guerrero'), ('Guerrero', 'Garibaldi'), ('Garibaldi', 'Guerrero'), ('Guerrero', 'Hidalgo'), ('Hidalgo', 'Tacubaya'), ('Tacubaya', 'Balderas'), ('Balderas', 'Tacubaya'), ('Tacubaya', 'Hidalgo'), ('Hidalgo', 'Tacubaya'), ('Tacubaya', 'Tacuba'), ('Tacuba', 'Tacubaya'), ('Tacubaya', 'Balderas'), ('Balderas', 'Salto del Agua'), ('Salto del Agua', 'Chabacano'), ('Chabacano', 'Jamaica'), ('Jamaica', 'Pantitlán'), ('Pantitlán', 'Gómez Farías'), ('Gómez Farías', 'San Lázaro')])\n"
     ]
    }
   ],
   "source": [
    "# This function mutates a genome by changing a part of its path.\n",
    "def mutate_genome(genome: Genome, rutas: List[Ruta], start_point: str, end_point: str) -> Genome:    \n",
    "    # Choose a random index in the genome to mutate\n",
    "    index_to_mutate = random.randint(1, len(genome[0]) - 1)\n",
    "    # Determine the new start point for the path to be generated\n",
    "    new_start_point = rutas[genome[0][index_to_mutate - 1]].end\n",
    "    # Generate a new path from the new start point to the end point\n",
    "    new_route = generate_genome(rutas, new_start_point, end_point)\n",
    "    # Create a new genome by replacing the part of the path after the mutation index with the new path\n",
    "    new_genome = list(genome)\n",
    "    new_genome[0] = new_genome[0][:index_to_mutate] + new_route[0]\n",
    "    # Update the total time of the new genome\n",
    "    new_genome[1] = sum(rutas[i].time for i in new_genome[0])\n",
    "    # Update the lines of the new genome\n",
    "    new_genome[2] = [rutas[i].linea for i in new_genome[0]]\n",
    "    # Update the stages of the new genome\n",
    "    new_genome[3] = [(rutas[i].start, rutas[i].end) for i in new_genome[0]]\n",
    "    # Return the new genome\n",
    "    return tuple(new_genome)\n",
    "\n",
    "mutate_example = mutate_genome(genome_example, rutas, start_point, end_point)\n",
    "print('original:', genome_example,\n",
    "    '\\nmutated :', mutate_example)"
   ]
  },
  {
   "cell_type": "code",
   "execution_count": 147,
   "metadata": {},
   "outputs": [
    {
     "name": "stdout",
     "output_type": "stream",
     "text": [
      "([31, 27, 16, 50, 51, 52], 15, ['6', '5', '3', 'B', 'B', 'B'], [('El Rosario', 'Instituto del Petroleo'), ('Instituto del Petroleo', 'La Raza'), ('La Raza', 'Guerrero'), ('Guerrero', 'Garibaldi'), ('Garibaldi', 'Morelos'), ('Morelos', 'San Lázaro')])\n"
     ]
    }
   ],
   "source": [
    "# This function performs a crossover operation between two parent genomes to produce a child genome.\n",
    "def crossover(parent1: Genome, parent2: Genome, rutas: List[Ruta]) -> Genome:\n",
    "    # Find the common stages between the two parents\n",
    "    common_points = set(parent1[3]).intersection(set(parent2[3]))\n",
    "    # If there are common stages, choose one at random to be the crossover point\n",
    "    if common_points:\n",
    "        crossover_point = random.choice(list(common_points))\n",
    "        # Find the index of the crossover point in each parent\n",
    "        crossover_index1 = parent1[3].index(crossover_point)\n",
    "        crossover_index2 = parent2[3].index(crossover_point)\n",
    "        # Create the child's route by taking the part of the first parent's route up to the crossover point\n",
    "        # and the part of the second parent's route after the crossover point\n",
    "        child_route = parent1[0][:crossover_index1+1] + parent2[0][crossover_index2+1:]\n",
    "        # Do the same for the stages\n",
    "        child_stages = parent1[3][:crossover_index1+1] + parent2[3][crossover_index2+1:]\n",
    "    else:\n",
    "        # If there are no common stages, the child is a copy of the first parent\n",
    "        child_route = parent1[0]\n",
    "        child_stages = parent1[3]\n",
    "    # Calculate the total time of the child's route\n",
    "    child_time = sum(rutas[i].time for i in child_route)\n",
    "    # Get the lines of the child's route\n",
    "    child_lineas = [rutas[i].linea for i in child_route]\n",
    "    # Return the child genome\n",
    "    return child_route, child_time, child_lineas, child_stages\n",
    "\n",
    "crossover_example = crossover(elite_example[0], elite_example[1], rutas)\n",
    "print(crossover_example)"
   ]
  },
  {
   "cell_type": "code",
   "execution_count": 148,
   "metadata": {},
   "outputs": [
    {
     "name": "stdout",
     "output_type": "stream",
     "text": [
      "([31, 27, 16, 50, 51, 52], 15, ['6', '5', '3', 'B', 'B', 'B'], [('El Rosario', 'Instituto del Petroleo'), ('Instituto del Petroleo', 'La Raza'), ('La Raza', 'Guerrero'), ('Guerrero', 'Garibaldi'), ('Garibaldi', 'Morelos'), ('Morelos', 'San Lázaro')]) \n",
      "\n",
      "([34, 35, 36, 91, 42, 20, 21, 76, 75, 43, 98, 43, 66, 11, 66, 11, 44, 80, 79, 52], 49, ['7', '7', '7', '7', '9', '3', '3', '3', '3', '9', '9', '9', '2', '2', '2', '2', '9', '4', '4', 'B'], [('El Rosario', 'Tacuba'), ('Tacuba', 'Tacubaya'), ('Tacubaya', 'Mixcoac'), ('Mixcoac', 'Tacubaya'), ('Tacubaya', 'Centro Médico'), ('Centro Médico', 'Zapata'), ('Zapata', 'Universidad'), ('Universidad', 'Zapata'), ('Zapata', 'Centro Médico'), ('Centro Médico', 'Chabacano'), ('Chabacano', 'Centro Médico'), ('Centro Médico', 'Chabacano'), ('Chabacano', 'Pino Suárez'), ('Pino Suárez', 'Chabacano'), ('Chabacano', 'Pino Suárez'), ('Pino Suárez', 'Chabacano'), ('Chabacano', 'Jamaica'), ('Jamaica', 'Candelaria'), ('Candelaria', 'Morelos'), ('Morelos', 'San Lázaro')]) \n",
      "\n",
      "([34, 35, 8, 18, 73, 72, 71, 82, 81, 26, 81, 26, 27, 28, 77, 88, 87, 81, 26, 27, 28, 29, 54, 109, 108], 56, ['7', '7', '2', '3', '3', '3', '3', '5', '5', '5', '5', '5', '5', '5', '4', '6', '6', '5', '5', '5', '5', '5', 'B', 'B', 'B'], [('El Rosario', 'Tacuba'), ('Tacuba', 'Tacubaya'), ('Tacubaya', 'Hidalgo'), ('Hidalgo', 'Balderas'), ('Balderas', 'Hidalgo'), ('Hidalgo', 'Guerrero'), ('Guerrero', 'La Raza'), ('La Raza', 'Instituto del Petroleo'), ('Instituto del Petroleo', 'Politécnico'), ('Politécnico', 'Instituto del Petroleo'), ('Instituto del Petroleo', 'Politécnico'), ('Politécnico', 'Instituto del Petroleo'), ('Instituto del Petroleo', 'La Raza'), ('La Raza', 'Consulado'), ('Consulado', 'Martín Carrera'), ('Martín Carrera', 'Deportivo 18 de Marzo'), ('Deportivo 18 de Marzo', 'Instituto del Petroleo'), ('Instituto del Petroleo', 'Politécnico'), ('Politécnico', 'Instituto del Petroleo'), ('Instituto del Petroleo', 'La Raza'), ('La Raza', 'Consulado'), ('Consulado', 'Oceanía'), ('Oceanía', 'Ciudad Azteca'), ('Ciudad Azteca', 'Oceanía'), ('Oceanía', 'San Lázaro')]) \n",
      "\n",
      "([34, 89, 31, 32, 33, 88, 15, 70, 69, 14, 33, 22, 29, 30, 100, 45, 85, 84, 23, 52], 56, ['7', '7', '6', '6', '6', '6', '3', '3', '3', '3', '6', '4', '5', '5', '9', '9', '5', '5', '4', 'B'], [('El Rosario', 'Tacuba'), ('Tacuba', 'El Rosario'), ('El Rosario', 'Instituto del Petroleo'), ('Instituto del Petroleo', 'Deportivo 18 de Marzo'), ('Deportivo 18 de Marzo', 'Martín Carrera'), ('Martín Carrera', 'Deportivo 18 de Marzo'), ('Deportivo 18 de Marzo', 'La Raza'), ('La Raza', 'Deportivo 18 de Marzo'), ('Deportivo 18 de Marzo', 'Indios Verdes'), ('Indios Verdes', 'Deportivo 18 de Marzo'), ('Deportivo 18 de Marzo', 'Martín Carrera'), ('Martín Carrera', 'Consulado'), ('Consulado', 'Oceanía'), ('Oceanía', 'Pantitlán'), ('Pantitlán', 'Jamaica'), ('Jamaica', 'Pantitlán'), ('Pantitlán', 'Oceanía'), ('Oceanía', 'Consulado'), ('Consulado', 'Morelos'), ('Morelos', 'San Lázaro')]) \n",
      "\n",
      "([31, 27, 16, 50, 51, 52], 15, ['6', '5', '3', 'B', 'B', 'B'], [('El Rosario', 'Instituto del Petroleo'), ('Instituto del Petroleo', 'La Raza'), ('La Raza', 'Guerrero'), ('Guerrero', 'Garibaldi'), ('Garibaldi', 'Morelos'), ('Morelos', 'San Lázaro')]) \n",
      "\n",
      "([34, 35, 36, 91, 42, 20, 21, 76, 75, 43, 98, 43, 66, 11, 66, 11, 44, 80, 79, 52], 49, ['7', '7', '7', '7', '9', '3', '3', '3', '3', '9', '9', '9', '2', '2', '2', '2', '9', '4', '4', 'B'], [('El Rosario', 'Tacuba'), ('Tacuba', 'Tacubaya'), ('Tacubaya', 'Mixcoac'), ('Mixcoac', 'Tacubaya'), ('Tacubaya', 'Centro Médico'), ('Centro Médico', 'Zapata'), ('Zapata', 'Universidad'), ('Universidad', 'Zapata'), ('Zapata', 'Centro Médico'), ('Centro Médico', 'Chabacano'), ('Chabacano', 'Centro Médico'), ('Centro Médico', 'Chabacano'), ('Chabacano', 'Pino Suárez'), ('Pino Suárez', 'Chabacano'), ('Chabacano', 'Pino Suárez'), ('Pino Suárez', 'Chabacano'), ('Chabacano', 'Jamaica'), ('Jamaica', 'Candelaria'), ('Candelaria', 'Morelos'), ('Morelos', 'San Lázaro')]) \n",
      "\n",
      "([34, 35, 8, 18, 73, 72, 71, 82, 81, 26, 81, 26, 27, 28, 77, 88, 87, 81, 26, 27, 28, 29, 54, 109, 108], 56, ['7', '7', '2', '3', '3', '3', '3', '5', '5', '5', '5', '5', '5', '5', '4', '6', '6', '5', '5', '5', '5', '5', 'B', 'B', 'B'], [('El Rosario', 'Tacuba'), ('Tacuba', 'Tacubaya'), ('Tacubaya', 'Hidalgo'), ('Hidalgo', 'Balderas'), ('Balderas', 'Hidalgo'), ('Hidalgo', 'Guerrero'), ('Guerrero', 'La Raza'), ('La Raza', 'Instituto del Petroleo'), ('Instituto del Petroleo', 'Politécnico'), ('Politécnico', 'Instituto del Petroleo'), ('Instituto del Petroleo', 'Politécnico'), ('Politécnico', 'Instituto del Petroleo'), ('Instituto del Petroleo', 'La Raza'), ('La Raza', 'Consulado'), ('Consulado', 'Martín Carrera'), ('Martín Carrera', 'Deportivo 18 de Marzo'), ('Deportivo 18 de Marzo', 'Instituto del Petroleo'), ('Instituto del Petroleo', 'Politécnico'), ('Politécnico', 'Instituto del Petroleo'), ('Instituto del Petroleo', 'La Raza'), ('La Raza', 'Consulado'), ('Consulado', 'Oceanía'), ('Oceanía', 'Ciudad Azteca'), ('Ciudad Azteca', 'Oceanía'), ('Oceanía', 'San Lázaro')]) \n",
      "\n",
      "([34, 89, 31, 32, 33, 88, 15, 70, 69, 14, 33, 22, 29, 30, 100, 45, 85, 84, 23, 52], 56, ['7', '7', '6', '6', '6', '6', '3', '3', '3', '3', '6', '4', '5', '5', '9', '9', '5', '5', '4', 'B'], [('El Rosario', 'Tacuba'), ('Tacuba', 'El Rosario'), ('El Rosario', 'Instituto del Petroleo'), ('Instituto del Petroleo', 'Deportivo 18 de Marzo'), ('Deportivo 18 de Marzo', 'Martín Carrera'), ('Martín Carrera', 'Deportivo 18 de Marzo'), ('Deportivo 18 de Marzo', 'La Raza'), ('La Raza', 'Deportivo 18 de Marzo'), ('Deportivo 18 de Marzo', 'Indios Verdes'), ('Indios Verdes', 'Deportivo 18 de Marzo'), ('Deportivo 18 de Marzo', 'Martín Carrera'), ('Martín Carrera', 'Consulado'), ('Consulado', 'Oceanía'), ('Oceanía', 'Pantitlán'), ('Pantitlán', 'Jamaica'), ('Jamaica', 'Pantitlán'), ('Pantitlán', 'Oceanía'), ('Oceanía', 'Consulado'), ('Consulado', 'Morelos'), ('Morelos', 'San Lázaro')]) \n",
      "\n",
      "([34, 89, 31, 27, 16, 50, 51, 52], 23, ['7', '7', '6', '5', '3', 'B', 'B', 'B'], [('El Rosario', 'Tacuba'), ('Tacuba', 'El Rosario'), ('El Rosario', 'Instituto del Petroleo'), ('Instituto del Petroleo', 'La Raza'), ('La Raza', 'Guerrero'), ('Guerrero', 'Garibaldi'), ('Garibaldi', 'Morelos'), ('Morelos', 'San Lázaro')]) \n",
      "\n",
      "([34, 89, 31, 32, 33, 88, 15, 70, 69, 14, 33, 22, 29, 30, 100, 45, 85, 84, 23, 52], 56, ['7', '7', '6', '6', '6', '6', '3', '3', '3', '3', '6', '4', '5', '5', '9', '9', '5', '5', '4', 'B'], [('El Rosario', 'Tacuba'), ('Tacuba', 'El Rosario'), ('El Rosario', 'Instituto del Petroleo'), ('Instituto del Petroleo', 'Deportivo 18 de Marzo'), ('Deportivo 18 de Marzo', 'Martín Carrera'), ('Martín Carrera', 'Deportivo 18 de Marzo'), ('Deportivo 18 de Marzo', 'La Raza'), ('La Raza', 'Deportivo 18 de Marzo'), ('Deportivo 18 de Marzo', 'Indios Verdes'), ('Indios Verdes', 'Deportivo 18 de Marzo'), ('Deportivo 18 de Marzo', 'Martín Carrera'), ('Martín Carrera', 'Consulado'), ('Consulado', 'Oceanía'), ('Oceanía', 'Pantitlán'), ('Pantitlán', 'Jamaica'), ('Jamaica', 'Pantitlán'), ('Pantitlán', 'Oceanía'), ('Oceanía', 'Consulado'), ('Consulado', 'Morelos'), ('Morelos', 'San Lázaro')]) \n",
      "\n",
      "([31, 27, 28, 77, 88, 87, 81, 26, 27, 28, 29, 54, 109, 108], 33, ['6', '5', '5', '4', '6', '6', '5', '5', '5', '5', '5', 'B', 'B', 'B'], [('El Rosario', 'Instituto del Petroleo'), ('Instituto del Petroleo', 'La Raza'), ('La Raza', 'Consulado'), ('Consulado', 'Martín Carrera'), ('Martín Carrera', 'Deportivo 18 de Marzo'), ('Deportivo 18 de Marzo', 'Instituto del Petroleo'), ('Instituto del Petroleo', 'Politécnico'), ('Politécnico', 'Instituto del Petroleo'), ('Instituto del Petroleo', 'La Raza'), ('La Raza', 'Consulado'), ('Consulado', 'Oceanía'), ('Oceanía', 'Ciudad Azteca'), ('Ciudad Azteca', 'Oceanía'), ('Oceanía', 'San Lázaro')]) \n",
      "\n",
      "([34, 35, 8, 18, 73, 72, 71, 82, 81, 26, 81, 26, 27, 28, 77, 88, 87, 81, 26, 27, 28, 29, 54, 109, 108], 56, ['7', '7', '2', '3', '3', '3', '3', '5', '5', '5', '5', '5', '5', '5', '4', '6', '6', '5', '5', '5', '5', '5', 'B', 'B', 'B'], [('El Rosario', 'Tacuba'), ('Tacuba', 'Tacubaya'), ('Tacubaya', 'Hidalgo'), ('Hidalgo', 'Balderas'), ('Balderas', 'Hidalgo'), ('Hidalgo', 'Guerrero'), ('Guerrero', 'La Raza'), ('La Raza', 'Instituto del Petroleo'), ('Instituto del Petroleo', 'Politécnico'), ('Politécnico', 'Instituto del Petroleo'), ('Instituto del Petroleo', 'Politécnico'), ('Politécnico', 'Instituto del Petroleo'), ('Instituto del Petroleo', 'La Raza'), ('La Raza', 'Consulado'), ('Consulado', 'Martín Carrera'), ('Martín Carrera', 'Deportivo 18 de Marzo'), ('Deportivo 18 de Marzo', 'Instituto del Petroleo'), ('Instituto del Petroleo', 'Politécnico'), ('Politécnico', 'Instituto del Petroleo'), ('Instituto del Petroleo', 'La Raza'), ('La Raza', 'Consulado'), ('Consulado', 'Oceanía'), ('Oceanía', 'Ciudad Azteca'), ('Ciudad Azteca', 'Oceanía'), ('Oceanía', 'San Lázaro')]) \n",
      "\n",
      "([34, 35, 36, 91, 42, 20, 21, 76, 75, 43, 98, 43, 66, 11, 66, 11, 44, 80, 79, 52], 49, ['7', '7', '7', '7', '9', '3', '3', '3', '3', '9', '9', '9', '2', '2', '2', '2', '9', '4', '4', 'B'], [('El Rosario', 'Tacuba'), ('Tacuba', 'Tacubaya'), ('Tacubaya', 'Mixcoac'), ('Mixcoac', 'Tacubaya'), ('Tacubaya', 'Centro Médico'), ('Centro Médico', 'Zapata'), ('Zapata', 'Universidad'), ('Universidad', 'Zapata'), ('Zapata', 'Centro Médico'), ('Centro Médico', 'Chabacano'), ('Chabacano', 'Centro Médico'), ('Centro Médico', 'Chabacano'), ('Chabacano', 'Pino Suárez'), ('Pino Suárez', 'Chabacano'), ('Chabacano', 'Pino Suárez'), ('Pino Suárez', 'Chabacano'), ('Chabacano', 'Jamaica'), ('Jamaica', 'Candelaria'), ('Candelaria', 'Morelos'), ('Morelos', 'San Lázaro')]) \n",
      "\n",
      "([34, 35, 36, 91, 42, 20, 21, 76, 75, 43, 98, 43, 66, 11, 66, 11, 44, 80, 79, 52], 49, ['7', '7', '7', '7', '9', '3', '3', '3', '3', '9', '9', '9', '2', '2', '2', '2', '9', '4', '4', 'B'], [('El Rosario', 'Tacuba'), ('Tacuba', 'Tacubaya'), ('Tacubaya', 'Mixcoac'), ('Mixcoac', 'Tacubaya'), ('Tacubaya', 'Centro Médico'), ('Centro Médico', 'Zapata'), ('Zapata', 'Universidad'), ('Universidad', 'Zapata'), ('Zapata', 'Centro Médico'), ('Centro Médico', 'Chabacano'), ('Chabacano', 'Centro Médico'), ('Centro Médico', 'Chabacano'), ('Chabacano', 'Pino Suárez'), ('Pino Suárez', 'Chabacano'), ('Chabacano', 'Pino Suárez'), ('Pino Suárez', 'Chabacano'), ('Chabacano', 'Jamaica'), ('Jamaica', 'Candelaria'), ('Candelaria', 'Morelos'), ('Morelos', 'San Lázaro')]) \n",
      "\n",
      "([34, 35, 36, 91, 42, 20, 21, 76, 75, 43, 98, 43, 66, 11, 66, 11, 44, 80, 79, 52], 49, ['7', '7', '7', '7', '9', '3', '3', '3', '3', '9', '9', '9', '2', '2', '2', '2', '9', '4', '4', 'B'], [('El Rosario', 'Tacuba'), ('Tacuba', 'Tacubaya'), ('Tacubaya', 'Mixcoac'), ('Mixcoac', 'Tacubaya'), ('Tacubaya', 'Centro Médico'), ('Centro Médico', 'Zapata'), ('Zapata', 'Universidad'), ('Universidad', 'Zapata'), ('Zapata', 'Centro Médico'), ('Centro Médico', 'Chabacano'), ('Chabacano', 'Centro Médico'), ('Centro Médico', 'Chabacano'), ('Chabacano', 'Pino Suárez'), ('Pino Suárez', 'Chabacano'), ('Chabacano', 'Pino Suárez'), ('Pino Suárez', 'Chabacano'), ('Chabacano', 'Jamaica'), ('Jamaica', 'Candelaria'), ('Candelaria', 'Morelos'), ('Morelos', 'San Lázaro')]) \n",
      "\n",
      "([34, 89, 31, 32, 33, 88, 15, 70, 69, 14, 33, 22, 29, 30, 100, 45, 85, 84, 23, 52], 56, ['7', '7', '6', '6', '6', '6', '3', '3', '3', '3', '6', '4', '5', '5', '9', '9', '5', '5', '4', 'B'], [('El Rosario', 'Tacuba'), ('Tacuba', 'El Rosario'), ('El Rosario', 'Instituto del Petroleo'), ('Instituto del Petroleo', 'Deportivo 18 de Marzo'), ('Deportivo 18 de Marzo', 'Martín Carrera'), ('Martín Carrera', 'Deportivo 18 de Marzo'), ('Deportivo 18 de Marzo', 'La Raza'), ('La Raza', 'Deportivo 18 de Marzo'), ('Deportivo 18 de Marzo', 'Indios Verdes'), ('Indios Verdes', 'Deportivo 18 de Marzo'), ('Deportivo 18 de Marzo', 'Martín Carrera'), ('Martín Carrera', 'Consulado'), ('Consulado', 'Oceanía'), ('Oceanía', 'Pantitlán'), ('Pantitlán', 'Jamaica'), ('Jamaica', 'Pantitlán'), ('Pantitlán', 'Oceanía'), ('Oceanía', 'Consulado'), ('Consulado', 'Morelos'), ('Morelos', 'San Lázaro')]) \n",
      "\n"
     ]
    }
   ],
   "source": [
    "# This function creates a new population of genomes for the next generation of the genetic algorithm.\n",
    "def create_new_population(population: List[Genome], rutas: List[Ruta], elite_size: int, mutation_rate: float) -> List[Genome]:\n",
    "    # Select the top genomes from the current population based on their fitness\n",
    "    elite = elitism(population, rutas, elite_size)\n",
    "    # Create a copy of the elite genomes\n",
    "    elite_copy = [genome for genome in elite]\n",
    "    # Initialize an empty list for the children genomes\n",
    "    children = []\n",
    "    # Generate the children genomes by performing crossover on pairs of elite genomes\n",
    "    for _ in range(size_pop - len(elite)):\n",
    "        # Select two parents for crossover from the elite genomes\n",
    "        parent1, parent2 = random.sample(elite, 2)\n",
    "        # Perform crossover on the parents to produce a child\n",
    "        child = crossover(parent1, parent2, rutas)\n",
    "        # Add the child to the children list\n",
    "        children.append(child)\n",
    "    # Perform mutation on the elite genomes with a certain probability\n",
    "    for i in range(len(elite)):\n",
    "        # If a random number is less than the mutation rate, perform mutation on the genome\n",
    "        if random.random() < mutation_rate:\n",
    "            # Perform mutation on the genome\n",
    "            mutated = mutate_genome(elite[i], rutas, start_point, end_point)\n",
    "            # If the fitness of the mutated genome is higher than the original genome, replace the original genome with the mutated one\n",
    "            if fitness(mutated, rutas) > fitness(elite[i], rutas):\n",
    "                elite[i] = mutated\n",
    "    # Combine the elite genomes, their copies, and the children to form the new population\n",
    "    return elite + elite_copy + children\n",
    "\n",
    "new_population_example = create_new_population(population_example, rutas, elite_size, mutation_rate)\n",
    "for genome in new_population_example:\n",
    "    print(genome, \"\\n\")"
   ]
  },
  {
   "cell_type": "code",
   "execution_count": 149,
   "metadata": {},
   "outputs": [
    {
     "name": "stdout",
     "output_type": "stream",
     "text": [
      "([31, 27, 28, 23, 52], 14, ['6', '5', '5', '4', 'B'], [('El Rosario', 'Instituto del Petroleo'), ('Instituto del Petroleo', 'La Raza'), ('La Raza', 'Consulado'), ('Consulado', 'Morelos'), ('Morelos', 'San Lázaro')]) [17, 17, 17, 14, 14, 14, 14, 14, 14, 14, 14, 14, 14, 14, 14, 14, 14, 14, 14, 14, 14, 14, 14, 14, 14, 14, 14, 14, 14, 14, 14, 14, 14, 14, 14, 14, 14, 14, 14, 14, 14, 14, 14, 14, 14, 14, 14, 14, 14, 14, 14, 14, 14, 14, 14, 14, 14, 14, 14, 14, 14, 14, 14, 14, 14, 14, 14, 14, 14, 14, 14, 14, 14, 14, 14, 14, 14, 14, 14, 14, 14, 14, 14, 14, 14, 14, 14, 14, 14, 14, 14, 14, 14, 14, 14, 14, 14, 14, 14, 14]\n"
     ]
    }
   ],
   "source": [
    "# This function runs the genetic algorithm for a certain number of generations.\n",
    "def genetic_algorithm(rutas: List[Ruta], num_generations: int, elite_size: int, mutation_rate: float) -> Tuple[Genome, List[int]]:\n",
    "    # Initialize the population with randomly generated genomes\n",
    "    population = generate_population(rutas, size_pop)\n",
    "    # Initialize a list to keep track of the best time in each generation\n",
    "    best_times = []\n",
    "    # Run the genetic algorithm for the specified number of generations\n",
    "    for _ in range(num_generations):\n",
    "        # Create a new population for the next generation\n",
    "        population = create_new_population(population, rutas, elite_size, mutation_rate)\n",
    "        # Perform mutation on the genomes with a certain probability\n",
    "        for i in range(len(population)):\n",
    "            # If a random number is less than the mutation rate, perform mutation on the genome\n",
    "            if random.random() < mutation_rate:\n",
    "                mutated = mutate_genome(population[i], rutas, start_point, end_point)\n",
    "                # If the fitness of the mutated genome is higher than the original genome, replace the original genome with the mutated one\n",
    "                if fitness(mutated, rutas) > fitness(population[i], rutas):\n",
    "                    population[i] = mutated\n",
    "        # Find the best genome in the population and its time\n",
    "        best_genome = max(population, key=lambda genome: fitness(genome, rutas))\n",
    "        best_time = 1/best_genome[1] if best_genome[1] < 1 else best_genome[1]\n",
    "        # Add the best time to the list of best times\n",
    "        best_times.append(best_time)\n",
    "        # Update elite_size based on the size of the elite from the last generation\n",
    "        elite_size = len(elitism(population, rutas, elite_size))\n",
    "    # Return the best genome and the list of best times\n",
    "    return best_genome, best_times\n",
    "\n",
    "best_genome_example, best_times_example = genetic_algorithm(rutas, num_generations, elite_size, mutation_rate)\n",
    "print(best_genome_example, best_times_example)"
   ]
  },
  {
   "cell_type": "code",
   "execution_count": 150,
   "metadata": {},
   "outputs": [
    {
     "data": {
      "image/png": "[encoded data removed]",
      "text/plain": [
       "<Figure size 640x480 with 1 Axes>"
      ]
     },
     "metadata": {},
     "output_type": "display_data"
    },
    {
     "name": "stdout",
     "output_type": "stream",
     "text": [
      "The total time was of: 14, \n",
      "from 'El Rosario' to 'Instituto del Petroleo' in ' linea 6', \n",
      "from 'Instituto del Petroleo' to 'La Raza' in ' linea 5', \n",
      "from 'La Raza' to 'Consulado' in ' linea 5', \n",
      "from 'Consulado' to 'Morelos' in ' linea 4', \n",
      "from 'Morelos' to 'San Lázaro' in ' linea B'\n"
     ]
    }
   ],
   "source": [
    "# Run the genetic algorithm with the given parameters\n",
    "best_genome, best_times = genetic_algorithm(rutas, num_generations, elite_size, mutation_rate)\n",
    "\n",
    "# Plot the best times for each generation\n",
    "plt.plot(best_times)\n",
    "plt.title('Best time in each generation')  # Set the title of the plot\n",
    "plt.xlabel('Generation')  # Set the x-axis label\n",
    "plt.ylabel('Best time')  # Set the y-axis label\n",
    "plt.show()  # Display the plot\n",
    "\n",
    "# Print the total time and the route of the best genome\n",
    "print(f\"The total time was of: {best_genome[1]}, \" + \", \".join(f\"\\nfrom '{a}' to '{b}' in ' linea {linea}'\" for (a, b), linea in zip(best_genome[3], best_genome[2])))"
   ]
  }
 ],
 "metadata": {
  "kernelspec": {
   "display_name": "Python 3",
   "language": "python",
   "name": "python3"
  },
  "language_info": {
   "codemirror_mode": {
    "name": "ipython",
    "version": 3
   },
   "file_extension": ".py",
   "mimetype": "text/x-python",
   "name": "python",
   "nbconvert_exporter": "python",
   "pygments_lexer": "ipython3",
   "version": "3.12.1"
  }
 },
 "nbformat": 4,
 "nbformat_minor": 2
}
