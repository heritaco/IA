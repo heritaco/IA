{
 "cells": [
  {
   "cell_type": "code",
   "execution_count": 4,
   "metadata": {},
   "outputs": [],
   "source": [
    "def find_longest_common_subsequences(str1, str2):\n",
    "    m = len(str1)\n",
    "    n = len(str2)\n",
    "\n",
    "    # Create a 2D table to store the lengths of longest common subsequences\n",
    "    lcs_lengths = [[0] * (n + 1) for _ in range(m + 1)]\n",
    "\n",
    "    # Compute the lengths of longest common subsequences\n",
    "    for i in range(1, m + 1):\n",
    "        for j in range(1, n + 1):\n",
    "            if str1[i - 1] == str2[j - 1]:\n",
    "                lcs_lengths[i][j] = lcs_lengths[i - 1][j - 1] + 1\n",
    "            else:\n",
    "                lcs_lengths[i][j] = max(\n",
    "                    lcs_lengths[i - 1][j], lcs_lengths[i][j - 1])\n",
    "\n",
    "    # Find all the longest common subsequences\n",
    "    subsequences = []\n",
    "    find_subsequences(str1, str2, m, n, lcs_lengths, \"\", subsequences)\n",
    "\n",
    "    # Print the longest common subsequences\n",
    "    for subsequence in subsequences:\n",
    "        print(subsequence)\n",
    "\n",
    "\n",
    "def find_subsequences(str1, str2, i, j, lcs_lengths, current_subsequence, subsequences):\n",
    "    if i == 0 or j == 0:\n",
    "        subsequences.append(current_subsequence[::-1])\n",
    "        return\n",
    "\n",
    "    if str1[i - 1] == str2[j - 1]:\n",
    "        find_subsequences(str1, str2, i - 1, j - 1, lcs_lengths,\n",
    "                          str1[i - 1] + current_subsequence, subsequences)\n",
    "    elif lcs_lengths[i - 1][j] >= lcs_lengths[i][j - 1]:\n",
    "        find_subsequences(str1, str2, i - 1, j, lcs_lengths,\n",
    "                          current_subsequence, subsequences)\n",
    "    else:\n",
    "        find_subsequences(str1, str2, i, j - 1, lcs_lengths,\n",
    "                          current_subsequence, subsequences)\n"
   ]
  },
  {
   "cell_type": "code",
   "execution_count": 6,
   "metadata": {},
   "outputs": [
    {
     "name": "stdout",
     "output_type": "stream",
     "text": [
      "oigalp se otse\n"
     ]
    }
   ],
   "source": [
    "# Test the function\n",
    "str1 = \"hola como estás? esto es plagio\"\n",
    "str2 = \"esto es plagio\"\n",
    "\n",
    "find_longest_common_subsequences(str1, str2)"
   ]
  },
  {
   "cell_type": "code",
   "execution_count": 13,
   "metadata": {},
   "outputs": [
    {
     "name": "stdout",
     "output_type": "stream",
     "text": [
      "oigalp se otse\n",
      "None\n"
     ]
    }
   ],
   "source": [
    "my_string = find_longest_common_subsequences(str1, str2)\n",
    "print(my_string)"
   ]
  },
  {
   "cell_type": "code",
   "execution_count": 12,
   "metadata": {},
   "outputs": [
    {
     "name": "stdout",
     "output_type": "stream",
     "text": [
      "oigalp se otse\n",
      "None\n"
     ]
    },
    {
     "ename": "TypeError",
     "evalue": "'NoneType' object is not subscriptable",
     "output_type": "error",
     "traceback": [
      "\u001b[1;31m---------------------------------------------------------------------------\u001b[0m",
      "\u001b[1;31mTypeError\u001b[0m                                 Traceback (most recent call last)",
      "Cell \u001b[1;32mIn[12], line 4\u001b[0m\n\u001b[0;32m      2\u001b[0m \u001b[38;5;28mprint\u001b[39m(my_string)\n\u001b[0;32m      3\u001b[0m \u001b[38;5;66;03m# Reverse the string using slicing\u001b[39;00m\n\u001b[1;32m----> 4\u001b[0m reversed_string \u001b[38;5;241m=\u001b[39m \u001b[43mmy_string\u001b[49m\u001b[43m[\u001b[49m\u001b[43m:\u001b[49m\u001b[43m:\u001b[49m\u001b[38;5;241;43m-\u001b[39;49m\u001b[38;5;241;43m1\u001b[39;49m\u001b[43m]\u001b[49m\n\u001b[0;32m      6\u001b[0m \u001b[38;5;66;03m# Print the reversed string\u001b[39;00m\n\u001b[0;32m      7\u001b[0m \u001b[38;5;28mprint\u001b[39m(reversed_string)\n",
      "\u001b[1;31mTypeError\u001b[0m: 'NoneType' object is not subscriptable"
     ]
    }
   ],
   "source": [
    "my_string = find_longest_common_subsequences(str1, str2)\n",
    "print(my_string)\n",
    "# Reverse the string using slicing\n",
    "reversed_string = my_string[::-1]\n",
    "\n",
    "# Print the reversed string\n",
    "print(reversed_string)\n"
   ]
  }
 ],
 "metadata": {
  "kernelspec": {
   "display_name": "Python 3",
   "language": "python",
   "name": "python3"
  },
  "language_info": {
   "codemirror_mode": {
    "name": "ipython",
    "version": 3
   },
   "file_extension": ".py",
   "mimetype": "text/x-python",
   "name": "python",
   "nbconvert_exporter": "python",
   "pygments_lexer": "ipython3",
   "version": "3.12.1"
  }
 },
 "nbformat": 4,
 "nbformat_minor": 2
}
