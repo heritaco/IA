{
 "cells": [
  {
   "cell_type": "code",
   "execution_count": 12,
   "metadata": {},
   "outputs": [],
   "source": [
    "\"\"\"FC3 Genetic Alorithm from El Rosario to Consulado\"\"\"\n",
    "\n",
    "import random\n",
    "from typing import List, Tuple\n",
    "\n",
    "\n",
    "class Ruta:\n",
    "    \"\"\"Clase para representar una ruta entre dos puntos de la ciudad\"\"\"\n",
    "    def __init__(self, a: str, b: str, time: int, linea: str):\n",
    "        self.start = a\n",
    "        self.end = b\n",
    "        self.time = time\n",
    "        self.linea = linea\n",
    "\n",
    "    def __str__(self):\n",
    "        return f'Ruta: de {self.start} a {self.end} (Linea {self.linea})'\n",
    "\n",
    "estaciones = [\n",
    "    \"Atlalilco\",          # 0\n",
    "    \"Balderas\",           # 1\n",
    "    \"Barranca del Muerto\",  # 2\n",
    "    \"Bellas Artes\",       # 3\n",
    "    \"Candelaria\",         # 4\n",
    "    \"Centro Médico\",      # 5\n",
    "    \"Chabacano\",          # 6\n",
    "    \"Ciudad Azteca\",      # 7\n",
    "    \"Consulado\",          # 8\n",
    "    \"Cuatro Caminos\",     # 9\n",
    "    \"Deportivo 18 de Marzo\",  # 10\n",
    "    \"El Rosario\",         # 11\n",
    "    \"Ermita\",             # 12\n",
    "    \"Garibaldi\",          # 13\n",
    "    \"Gómez Farías\",       # 14\n",
    "    \"Guerrero\",           # 15\n",
    "    \"Hidalgo\",            # 16\n",
    "    \"Indios Verdes\",      # 17\n",
    "    \"Instituto del Petroleo\",  # 18\n",
    "    \"Jamaica\",            # 19\n",
    "    \"La Raza\",            # 20\n",
    "    \"Martín Carrera\",     # 21\n",
    "    \"Mixcoac\",            # 22\n",
    "    \"Morelos\",            # 23\n",
    "    \"Oceanía\",            # 24\n",
    "    \"Pantitlán\",          # 25\n",
    "    \"Pino Suárez\",        # 26\n",
    "    \"Politécnico\",        # 27\n",
    "    \"Salto del Agua\",     # 28\n",
    "    \"San Lázaro\",         # 29\n",
    "    \"Tacuba\",             # 30\n",
    "    \"Tacubaya\",           # 31\n",
    "    \"Tasqueña\",           # 32\n",
    "    \"Tláhuac\",            # 33\n",
    "    \"Universidad\",        # 34\n",
    "    \"Zapata\"              # 35\n",
    "]\n",
    "\n",
    "\n",
    "rutas = [\n",
    "    Ruta(estaciones[3], estaciones[8], 1, '1'),\n",
    "    Ruta(estaciones[2], estaciones[12], 10, '2'),\n",
    "    Ruta(estaciones[2], estaciones[3], 1, '3'),\n",
    "    Ruta(estaciones[2], estaciones[8], 100, '4'),\n",
    "    Ruta(estaciones[1], estaciones[2], 1, '5'),\n",
    "    Ruta(estaciones[11], estaciones[16], 10, '6'),\n",
    "    Ruta(estaciones[16], estaciones [8], 3, '7'),\n",
    "    Ruta(estaciones[18], estaciones[20], 1, '8'),\n",
    "    Ruta(estaciones[20], estaciones[8], 1, '9'),\n",
    "    Ruta(estaciones[20], estaciones[10], 3, '10'),\n",
    "    Ruta(estaciones[8], estaciones[3], 1, '1'),\n",
    "    Ruta(estaciones[12], estaciones[2], 10, '2'),\n",
    "    Ruta(estaciones[3], estaciones[2], 1, '3'),\n",
    "    Ruta(estaciones[8], estaciones[2], 100, '4'),\n",
    "    Ruta(estaciones[2], estaciones[1], 1, '5'),\n",
    "    Ruta(estaciones[16], estaciones[11], 10, '6'),\n",
    "    Ruta(estaciones[8], estaciones[16], 3, '7'),\n",
    "    Ruta(estaciones[20], estaciones[18], 1, '8'),\n",
    "    Ruta(estaciones[8], estaciones[20], 1, '9'),\n",
    "    Ruta(estaciones[10], estaciones[20], 3, '10')]"
   ]
  },
  {
   "cell_type": "code",
   "execution_count": 13,
   "metadata": {},
   "outputs": [],
   "source": [
    "\n",
    "start_point = 'Balderas'\n",
    "end_point = 'Consulado'\n",
    "size_pop = 5\n",
    "num_generations = 10\n",
    "elite_size = 3\n",
    "mutation_rate = 0\n",
    "# Genome"
   ]
  },
  {
   "cell_type": "code",
   "execution_count": 14,
   "metadata": {},
   "outputs": [
    {
     "name": "stdout",
     "output_type": "stream",
     "text": [
      " El tiempo fue de: 7, Rutas disponibles tomadas: [4, 14, 4, 14, 4, 2, 0], Las estaciones fueron de: [('Balderas', 'Barranca del Muerto'), ('Barranca del Muerto', 'Balderas'), ('Balderas', 'Barranca del Muerto'), ('Barranca del Muerto', 'Balderas'), ('Balderas', 'Barranca del Muerto'), ('Barranca del Muerto', 'Bellas Artes'), ('Bellas Artes', 'Consulado')], en las lineas: ['5', '5', '5', '5', '5', '3', '1'],\n"
     ]
    }
   ],
   "source": [
    "\n",
    "Genome = Tuple[List[int], int, List[str], List[Tuple[str, str]]]\n",
    "# List of indexes, time, lineas, stages\n",
    "\n",
    "def generate_genome(rutas: List[Ruta], start_point: str, end_point: str) -> Genome:\n",
    "    current_point = start_point\n",
    "    indexes = []\n",
    "    stages = []\n",
    "    while current_point != end_point:\n",
    "        available_routes = [i for i, ruta in enumerate(rutas) if current_point == ruta.start]\n",
    "        if not available_routes:\n",
    "            raise ValueError(f\"No available routes from {current_point}\")\n",
    "        i = random.choice(available_routes)\n",
    "        indexes.append(i)\n",
    "        next_point = rutas[i].end\n",
    "        stages.append((current_point, next_point))\n",
    "        current_point = next_point\n",
    "    time = sum(rutas[i].time for i in indexes)\n",
    "    lineas = [rutas[i].linea for i in indexes]\n",
    "    genome_str = f\" El tiempo fue de: {time}, Rutas disponibles tomadas: {indexes}, Las estaciones fueron de: {stages}, en las lineas: {lineas},\"\n",
    "    return indexes, time, lineas, stages, genome_str\n",
    "\n",
    "genome = generate_genome(rutas, start_point, end_point)\n",
    "print(genome[4])"
   ]
  },
  {
   "cell_type": "code",
   "execution_count": 15,
   "metadata": {},
   "outputs": [
    {
     "name": "stdout",
     "output_type": "stream",
     "text": [
      "([4, 1, 11, 3], 121, ['5', '2', '2', '4'], [('Balderas', 'Barranca del Muerto'), ('Barranca del Muerto', 'Ermita'), ('Ermita', 'Barranca del Muerto'), ('Barranca del Muerto', 'Consulado')], \" El tiempo fue de: 121, Rutas disponibles tomadas: [4, 1, 11, 3], Las estaciones fueron de: [('Balderas', 'Barranca del Muerto'), ('Barranca del Muerto', 'Ermita'), ('Ermita', 'Barranca del Muerto'), ('Barranca del Muerto', 'Consulado')], en las lineas: ['5', '2', '2', '4'],\")\n",
      "([4, 2, 0], 3, ['5', '3', '1'], [('Balderas', 'Barranca del Muerto'), ('Barranca del Muerto', 'Bellas Artes'), ('Bellas Artes', 'Consulado')], \" El tiempo fue de: 3, Rutas disponibles tomadas: [4, 2, 0], Las estaciones fueron de: [('Balderas', 'Barranca del Muerto'), ('Barranca del Muerto', 'Bellas Artes'), ('Bellas Artes', 'Consulado')], en las lineas: ['5', '3', '1'],\")\n",
      "([4, 1, 11, 2, 12, 1, 11, 3], 143, ['5', '2', '2', '3', '3', '2', '2', '4'], [('Balderas', 'Barranca del Muerto'), ('Barranca del Muerto', 'Ermita'), ('Ermita', 'Barranca del Muerto'), ('Barranca del Muerto', 'Bellas Artes'), ('Bellas Artes', 'Barranca del Muerto'), ('Barranca del Muerto', 'Ermita'), ('Ermita', 'Barranca del Muerto'), ('Barranca del Muerto', 'Consulado')], \" El tiempo fue de: 143, Rutas disponibles tomadas: [4, 1, 11, 2, 12, 1, 11, 3], Las estaciones fueron de: [('Balderas', 'Barranca del Muerto'), ('Barranca del Muerto', 'Ermita'), ('Ermita', 'Barranca del Muerto'), ('Barranca del Muerto', 'Bellas Artes'), ('Bellas Artes', 'Barranca del Muerto'), ('Barranca del Muerto', 'Ermita'), ('Ermita', 'Barranca del Muerto'), ('Barranca del Muerto', 'Consulado')], en las lineas: ['5', '2', '2', '3', '3', '2', '2', '4'],\")\n",
      "([4, 14, 4, 2, 12, 3], 105, ['5', '5', '5', '3', '3', '4'], [('Balderas', 'Barranca del Muerto'), ('Barranca del Muerto', 'Balderas'), ('Balderas', 'Barranca del Muerto'), ('Barranca del Muerto', 'Bellas Artes'), ('Bellas Artes', 'Barranca del Muerto'), ('Barranca del Muerto', 'Consulado')], \" El tiempo fue de: 105, Rutas disponibles tomadas: [4, 14, 4, 2, 12, 3], Las estaciones fueron de: [('Balderas', 'Barranca del Muerto'), ('Barranca del Muerto', 'Balderas'), ('Balderas', 'Barranca del Muerto'), ('Barranca del Muerto', 'Bellas Artes'), ('Bellas Artes', 'Barranca del Muerto'), ('Barranca del Muerto', 'Consulado')], en las lineas: ['5', '5', '5', '3', '3', '4'],\")\n",
      "([4, 14, 4, 14, 4, 1, 11, 1, 11, 14, 4, 14, 4, 14, 4, 3], 151, ['5', '5', '5', '5', '5', '2', '2', '2', '2', '5', '5', '5', '5', '5', '5', '4'], [('Balderas', 'Barranca del Muerto'), ('Barranca del Muerto', 'Balderas'), ('Balderas', 'Barranca del Muerto'), ('Barranca del Muerto', 'Balderas'), ('Balderas', 'Barranca del Muerto'), ('Barranca del Muerto', 'Ermita'), ('Ermita', 'Barranca del Muerto'), ('Barranca del Muerto', 'Ermita'), ('Ermita', 'Barranca del Muerto'), ('Barranca del Muerto', 'Balderas'), ('Balderas', 'Barranca del Muerto'), ('Barranca del Muerto', 'Balderas'), ('Balderas', 'Barranca del Muerto'), ('Barranca del Muerto', 'Balderas'), ('Balderas', 'Barranca del Muerto'), ('Barranca del Muerto', 'Consulado')], \" El tiempo fue de: 151, Rutas disponibles tomadas: [4, 14, 4, 14, 4, 1, 11, 1, 11, 14, 4, 14, 4, 14, 4, 3], Las estaciones fueron de: [('Balderas', 'Barranca del Muerto'), ('Barranca del Muerto', 'Balderas'), ('Balderas', 'Barranca del Muerto'), ('Barranca del Muerto', 'Balderas'), ('Balderas', 'Barranca del Muerto'), ('Barranca del Muerto', 'Ermita'), ('Ermita', 'Barranca del Muerto'), ('Barranca del Muerto', 'Ermita'), ('Ermita', 'Barranca del Muerto'), ('Barranca del Muerto', 'Balderas'), ('Balderas', 'Barranca del Muerto'), ('Barranca del Muerto', 'Balderas'), ('Balderas', 'Barranca del Muerto'), ('Barranca del Muerto', 'Balderas'), ('Balderas', 'Barranca del Muerto'), ('Barranca del Muerto', 'Consulado')], en las lineas: ['5', '5', '5', '5', '5', '2', '2', '2', '2', '5', '5', '5', '5', '5', '5', '4'],\")\n"
     ]
    }
   ],
   "source": [
    "# Population\n",
    "Population = List[Genome]\n",
    "\n",
    "def generate_population(rutas: List[Ruta], size_pop) -> Population:\n",
    "    \"\"\"function to generate a population of genomes\"\"\"\n",
    "    return [generate_genome(rutas, start_point, end_point) for _ in range(size_pop)]\n",
    "\n",
    "population = generate_population(rutas, size_pop)\n",
    "print('\\n'.join(map(str, population)))"
   ]
  },
  {
   "cell_type": "code",
   "execution_count": 16,
   "metadata": {},
   "outputs": [],
   "source": [
    "def fitness(genome: Genome, rutas: List[Ruta]) -> float:\n",
    "    \"\"\"function to calculate the fitness of a genome\"\"\"\n",
    "    time = genome[1]  # genome[1] is the total time\n",
    "    value = 1/time if time != 0 else 0  # Avoid division by zero\n",
    "    return value"
   ]
  },
  {
   "cell_type": "code",
   "execution_count": 17,
   "metadata": {},
   "outputs": [
    {
     "name": "stdout",
     "output_type": "stream",
     "text": [
      "\n",
      "Fitness values:\n",
      "0.008264462809917356\n",
      "0.3333333333333333\n",
      "0.006993006993006993\n",
      "0.009523809523809525\n",
      "0.006622516556291391\n",
      "\n",
      "Fitness values afer sorting:\n",
      "0.3333333333333333\n",
      "0.009523809523809525\n",
      "0.008264462809917356\n",
      "0.006993006993006993\n",
      "0.006622516556291391\n",
      "\n",
      "Best genomes:\n",
      "(([4, 2, 0], 3, ['5', '3', '1'], [('Balderas', 'Barranca del Muerto'), ('Barranca del Muerto', 'Bellas Artes'), ('Bellas Artes', 'Consulado')], \" El tiempo fue de: 3, Rutas disponibles tomadas: [4, 2, 0], Las estaciones fueron de: [('Balderas', 'Barranca del Muerto'), ('Barranca del Muerto', 'Bellas Artes'), ('Bellas Artes', 'Consulado')], en las lineas: ['5', '3', '1'],\"), 0.3333333333333333)\n",
      "(([4, 14, 4, 2, 12, 3], 105, ['5', '5', '5', '3', '3', '4'], [('Balderas', 'Barranca del Muerto'), ('Barranca del Muerto', 'Balderas'), ('Balderas', 'Barranca del Muerto'), ('Barranca del Muerto', 'Bellas Artes'), ('Bellas Artes', 'Barranca del Muerto'), ('Barranca del Muerto', 'Consulado')], \" El tiempo fue de: 105, Rutas disponibles tomadas: [4, 14, 4, 2, 12, 3], Las estaciones fueron de: [('Balderas', 'Barranca del Muerto'), ('Barranca del Muerto', 'Balderas'), ('Balderas', 'Barranca del Muerto'), ('Barranca del Muerto', 'Bellas Artes'), ('Bellas Artes', 'Barranca del Muerto'), ('Barranca del Muerto', 'Consulado')], en las lineas: ['5', '5', '5', '3', '3', '4'],\"), 0.009523809523809525)\n",
      "(([4, 1, 11, 3], 121, ['5', '2', '2', '4'], [('Balderas', 'Barranca del Muerto'), ('Barranca del Muerto', 'Ermita'), ('Ermita', 'Barranca del Muerto'), ('Barranca del Muerto', 'Consulado')], \" El tiempo fue de: 121, Rutas disponibles tomadas: [4, 1, 11, 3], Las estaciones fueron de: [('Balderas', 'Barranca del Muerto'), ('Barranca del Muerto', 'Ermita'), ('Ermita', 'Barranca del Muerto'), ('Barranca del Muerto', 'Consulado')], en las lineas: ['5', '2', '2', '4'],\"), 0.008264462809917356)\n"
     ]
    }
   ],
   "source": [
    "def elitism(population: Population, rutas: List[Ruta], elite_size: int) -> Population:\n",
    "    \"\"\"function to carry over the top individuals to the next generation\"\"\"\n",
    "    fitness_values = [(genome, fitness(genome, rutas)) for genome in population]\n",
    "    sorted_by_fitness = sorted(fitness_values, key=lambda x: x[1], reverse=True)\n",
    "    elite = [genome for genome in sorted_by_fitness[:elite_size]]\n",
    "    return elite, fitness_values, sorted_by_fitness\n",
    "\n",
    "elite, fitness_values, sorted_by_fitness = elitism(population, rutas, elite_size)\n",
    "\n",
    "print(\"\\nFitness values:\")\n",
    "for i, genome in enumerate(population):\n",
    "    print(fitness_values[i][1])\n",
    "\n",
    "print(\"\\nFitness values afer sorting:\")\n",
    "for i, genome in enumerate(population):\n",
    "    print(sorted_by_fitness[i][1])\n",
    "\n",
    "print(\"\\nBest genomes:\")\n",
    "for genome in elite:\n",
    "    print(genome)"
   ]
  },
  {
   "cell_type": "markdown",
   "metadata": {},
   "source": [
    "No tengo idea como hacer el crossover, supongo que cuando haya un punto en comun, pero pueden tomar muchos muchos muchos caminos, mejor solo usamos elitismo"
   ]
  },
  {
   "cell_type": "code",
   "execution_count": 18,
   "metadata": {},
   "outputs": [
    {
     "name": "stdout",
     "output_type": "stream",
     "text": [
      "\n",
      "Original genome:\n",
      "([4, 1, 11, 3], 121, ['5', '2', '2', '4'], [('Balderas', 'Barranca del Muerto'), ('Barranca del Muerto', 'Ermita'), ('Ermita', 'Barranca del Muerto'), ('Barranca del Muerto', 'Consulado')], \" El tiempo fue de: 121, Rutas disponibles tomadas: [4, 1, 11, 3], Las estaciones fueron de: [('Balderas', 'Barranca del Muerto'), ('Barranca del Muerto', 'Ermita'), ('Ermita', 'Barranca del Muerto'), ('Barranca del Muerto', 'Consulado')], en las lineas: ['5', '2', '2', '4'],\")\n",
      "\n",
      "Mutated genome:\n",
      "[[4, 1, 11, 2, 12, 1, 11, 3], 143, ['5', '2', '2', '3', '3', '2', '2', '4'], [('Balderas', 'Barranca del Muerto'), ('Barranca del Muerto', 'Ermita'), ('Ermita', 'Barranca del Muerto'), ('Barranca del Muerto', 'Bellas Artes'), ('Bellas Artes', 'Barranca del Muerto'), ('Barranca del Muerto', 'Ermita'), ('Ermita', 'Barranca del Muerto'), ('Barranca del Muerto', 'Consulado')], \" El tiempo fue de: 143, Rutas disponibles tomadas: [4, 1, 11, 2, 12, 1, 11, 3], Las estaciones fueron de: [('Balderas', 'Barranca del Muerto'), ('Barranca del Muerto', 'Ermita'), ('Ermita', 'Barranca del Muerto'), ('Barranca del Muerto', 'Bellas Artes'), ('Bellas Artes', 'Barranca del Muerto'), ('Barranca del Muerto', 'Ermita'), ('Ermita', 'Barranca del Muerto'), ('Barranca del Muerto', 'Consulado')], en las lineas: ['5', '2', '2', '3', '3', '2', '2', '4'],\"]\n"
     ]
    }
   ],
   "source": [
    "\n",
    "def mutate_genome(genome: Genome, rutas: List[Ruta], start_point: str, end_point: str) -> Genome:\n",
    "    \"\"\"function to mutate a genome\"\"\"\n",
    "    # Choose a random index to mutate\n",
    "    index_to_mutate = random.randint(1, len(genome[0]) - 1)\n",
    "    new_start_point = rutas[genome[0][index_to_mutate - 1]].end\n",
    "    # Generate a new route\n",
    "    new_route = generate_genome(rutas, new_start_point, end_point)\n",
    "\n",
    "    # Create the new genome\n",
    "    new_genome = list(genome)\n",
    "    new_genome[0] = new_genome[0][:index_to_mutate] + new_route[0]\n",
    "    new_genome[1] = sum(rutas[i].time for i in new_genome[0])\n",
    "    new_genome[2] = [rutas[i].linea for i in new_genome[0]]\n",
    "    new_genome[3] = [(rutas[i].start, rutas[i].end) for i in new_genome[0]]\n",
    "    new_genome[4] = f\" El tiempo fue de: {new_genome[1]}, Rutas disponibles tomadas: {new_genome[0]}, Las estaciones fueron de: {new_genome[3]}, en las lineas: {new_genome[2]},\"\n",
    "\n",
    "    return (new_genome)\n",
    "\n",
    "print(\"\\nOriginal genome:\")\n",
    "print(population[0])\n",
    "\n",
    "print(\"\\nMutated genome:\")\n",
    "print(mutate_genome(population[0], rutas, start_point, end_point))\n"
   ]
  },
  {
   "cell_type": "code",
   "execution_count": 19,
   "metadata": {},
   "outputs": [
    {
     "name": "stdout",
     "output_type": "stream",
     "text": [
      "\n",
      "Original genome:\n",
      "([4, 1, 11, 3], 121, ['5', '2', '2', '4'], [('Balderas', 'Barranca del Muerto'), ('Barranca del Muerto', 'Ermita'), ('Ermita', 'Barranca del Muerto'), ('Barranca del Muerto', 'Consulado')], \" El tiempo fue de: 121, Rutas disponibles tomadas: [4, 1, 11, 3], Las estaciones fueron de: [('Balderas', 'Barranca del Muerto'), ('Barranca del Muerto', 'Ermita'), ('Ermita', 'Barranca del Muerto'), ('Barranca del Muerto', 'Consulado')], en las lineas: ['5', '2', '2', '4'],\")\n",
      "\n",
      "Mutated genome:\n",
      "[[4, 1, 11, 1, 11, 1, 11, 2, 0], 63, ['5', '2', '2', '2', '2', '2', '2', '3', '1'], [('Balderas', 'Barranca del Muerto'), ('Barranca del Muerto', 'Ermita'), ('Ermita', 'Barranca del Muerto'), ('Barranca del Muerto', 'Ermita'), ('Ermita', 'Barranca del Muerto'), ('Barranca del Muerto', 'Ermita'), ('Ermita', 'Barranca del Muerto'), ('Barranca del Muerto', 'Bellas Artes'), ('Bellas Artes', 'Consulado')], \" El tiempo fue de: 63, Rutas disponibles tomadas: [4, 1, 11, 1, 11, 1, 11, 2, 0], Las estaciones fueron de: [('Balderas', 'Barranca del Muerto'), ('Barranca del Muerto', 'Ermita'), ('Ermita', 'Barranca del Muerto'), ('Barranca del Muerto', 'Ermita'), ('Ermita', 'Barranca del Muerto'), ('Barranca del Muerto', 'Ermita'), ('Ermita', 'Barranca del Muerto'), ('Barranca del Muerto', 'Bellas Artes'), ('Bellas Artes', 'Consulado')], en las lineas: ['5', '2', '2', '2', '2', '2', '2', '3', '1'],\"]\n"
     ]
    }
   ],
   "source": [
    "\n",
    "def mutate_genome(genome: Genome, rutas: List[Ruta], start_point: str, end_point: str) -> Genome:\n",
    "    \"\"\"function to mutate a genome\"\"\"\n",
    "    # Choose a random index to mutate\n",
    "    index_to_mutate = random.randint(1, len(genome[0]) - 1)\n",
    "    new_start_point = rutas[genome[0][index_to_mutate - 1]].end\n",
    "    # Generate a new route\n",
    "    new_route = generate_genome(rutas, new_start_point, end_point)\n",
    "\n",
    "    # Create the new genome\n",
    "    new_genome = list(genome)\n",
    "    new_genome[0] = new_genome[0][:index_to_mutate] + new_route[0]\n",
    "    new_genome[1] = sum(rutas[i].time for i in new_genome[0])\n",
    "    new_genome[2] = [rutas[i].linea for i in new_genome[0]]\n",
    "    new_genome[3] = [(rutas[i].start, rutas[i].end) for i in new_genome[0]]\n",
    "    new_genome[4] = f\" El tiempo fue de: {new_genome[1]}, Rutas disponibles tomadas: {new_genome[0]}, Las estaciones fueron de: {new_genome[3]}, en las lineas: {new_genome[2]},\"\n",
    "\n",
    "    return (new_genome)\n",
    "\n",
    "print(\"\\nOriginal genome:\")\n",
    "print(population[0])\n",
    "\n",
    "print(\"\\nMutated genome:\")\n",
    "print(mutate_genome(population[0], rutas, start_point, end_point))\n"
   ]
  },
  {
   "cell_type": "code",
   "execution_count": 20,
   "metadata": {},
   "outputs": [
    {
     "name": "stdout",
     "output_type": "stream",
     "text": [
      "\n",
      "New population:\n",
      "[(([4, 2, 0], 3, ['5', '3', '1'], [('Balderas', 'Barranca del Muerto'), ('Barranca del Muerto', 'Bellas Artes'), ('Bellas Artes', 'Consulado')], \" El tiempo fue de: 3, Rutas disponibles tomadas: [4, 2, 0], Las estaciones fueron de: [('Balderas', 'Barranca del Muerto'), ('Barranca del Muerto', 'Bellas Artes'), ('Bellas Artes', 'Consulado')], en las lineas: ['5', '3', '1'],\"), 0.3333333333333333), (([4, 14, 4, 2, 12, 3], 105, ['5', '5', '5', '3', '3', '4'], [('Balderas', 'Barranca del Muerto'), ('Barranca del Muerto', 'Balderas'), ('Balderas', 'Barranca del Muerto'), ('Barranca del Muerto', 'Bellas Artes'), ('Bellas Artes', 'Barranca del Muerto'), ('Barranca del Muerto', 'Consulado')], \" El tiempo fue de: 105, Rutas disponibles tomadas: [4, 14, 4, 2, 12, 3], Las estaciones fueron de: [('Balderas', 'Barranca del Muerto'), ('Barranca del Muerto', 'Balderas'), ('Balderas', 'Barranca del Muerto'), ('Barranca del Muerto', 'Bellas Artes'), ('Bellas Artes', 'Barranca del Muerto'), ('Barranca del Muerto', 'Consulado')], en las lineas: ['5', '5', '5', '3', '3', '4'],\"), 0.009523809523809525), (([4, 1, 11, 3], 121, ['5', '2', '2', '4'], [('Balderas', 'Barranca del Muerto'), ('Barranca del Muerto', 'Ermita'), ('Ermita', 'Barranca del Muerto'), ('Barranca del Muerto', 'Consulado')], \" El tiempo fue de: 121, Rutas disponibles tomadas: [4, 1, 11, 3], Las estaciones fueron de: [('Balderas', 'Barranca del Muerto'), ('Barranca del Muerto', 'Ermita'), ('Ermita', 'Barranca del Muerto'), ('Barranca del Muerto', 'Consulado')], en las lineas: ['5', '2', '2', '4'],\"), 0.008264462809917356)]\n",
      "[(([4, 1, 11, 3], 121, ['5', '2', '2', '4'], [('Balderas', 'Barranca del Muerto'), ('Barranca del Muerto', 'Ermita'), ('Ermita', 'Barranca del Muerto'), ('Barranca del Muerto', 'Consulado')], \" El tiempo fue de: 121, Rutas disponibles tomadas: [4, 1, 11, 3], Las estaciones fueron de: [('Balderas', 'Barranca del Muerto'), ('Barranca del Muerto', 'Ermita'), ('Ermita', 'Barranca del Muerto'), ('Barranca del Muerto', 'Consulado')], en las lineas: ['5', '2', '2', '4'],\"), 0.008264462809917356), (([4, 2, 0], 3, ['5', '3', '1'], [('Balderas', 'Barranca del Muerto'), ('Barranca del Muerto', 'Bellas Artes'), ('Bellas Artes', 'Consulado')], \" El tiempo fue de: 3, Rutas disponibles tomadas: [4, 2, 0], Las estaciones fueron de: [('Balderas', 'Barranca del Muerto'), ('Barranca del Muerto', 'Bellas Artes'), ('Bellas Artes', 'Consulado')], en las lineas: ['5', '3', '1'],\"), 0.3333333333333333), (([4, 1, 11, 2, 12, 1, 11, 3], 143, ['5', '2', '2', '3', '3', '2', '2', '4'], [('Balderas', 'Barranca del Muerto'), ('Barranca del Muerto', 'Ermita'), ('Ermita', 'Barranca del Muerto'), ('Barranca del Muerto', 'Bellas Artes'), ('Bellas Artes', 'Barranca del Muerto'), ('Barranca del Muerto', 'Ermita'), ('Ermita', 'Barranca del Muerto'), ('Barranca del Muerto', 'Consulado')], \" El tiempo fue de: 143, Rutas disponibles tomadas: [4, 1, 11, 2, 12, 1, 11, 3], Las estaciones fueron de: [('Balderas', 'Barranca del Muerto'), ('Barranca del Muerto', 'Ermita'), ('Ermita', 'Barranca del Muerto'), ('Barranca del Muerto', 'Bellas Artes'), ('Bellas Artes', 'Barranca del Muerto'), ('Barranca del Muerto', 'Ermita'), ('Ermita', 'Barranca del Muerto'), ('Barranca del Muerto', 'Consulado')], en las lineas: ['5', '2', '2', '3', '3', '2', '2', '4'],\"), 0.006993006993006993), (([4, 14, 4, 2, 12, 3], 105, ['5', '5', '5', '3', '3', '4'], [('Balderas', 'Barranca del Muerto'), ('Barranca del Muerto', 'Balderas'), ('Balderas', 'Barranca del Muerto'), ('Barranca del Muerto', 'Bellas Artes'), ('Bellas Artes', 'Barranca del Muerto'), ('Barranca del Muerto', 'Consulado')], \" El tiempo fue de: 105, Rutas disponibles tomadas: [4, 14, 4, 2, 12, 3], Las estaciones fueron de: [('Balderas', 'Barranca del Muerto'), ('Barranca del Muerto', 'Balderas'), ('Balderas', 'Barranca del Muerto'), ('Barranca del Muerto', 'Bellas Artes'), ('Bellas Artes', 'Barranca del Muerto'), ('Barranca del Muerto', 'Consulado')], en las lineas: ['5', '5', '5', '3', '3', '4'],\"), 0.009523809523809525), (([4, 14, 4, 14, 4, 1, 11, 1, 11, 14, 4, 14, 4, 14, 4, 3], 151, ['5', '5', '5', '5', '5', '2', '2', '2', '2', '5', '5', '5', '5', '5', '5', '4'], [('Balderas', 'Barranca del Muerto'), ('Barranca del Muerto', 'Balderas'), ('Balderas', 'Barranca del Muerto'), ('Barranca del Muerto', 'Balderas'), ('Balderas', 'Barranca del Muerto'), ('Barranca del Muerto', 'Ermita'), ('Ermita', 'Barranca del Muerto'), ('Barranca del Muerto', 'Ermita'), ('Ermita', 'Barranca del Muerto'), ('Barranca del Muerto', 'Balderas'), ('Balderas', 'Barranca del Muerto'), ('Barranca del Muerto', 'Balderas'), ('Balderas', 'Barranca del Muerto'), ('Barranca del Muerto', 'Balderas'), ('Balderas', 'Barranca del Muerto'), ('Barranca del Muerto', 'Consulado')], \" El tiempo fue de: 151, Rutas disponibles tomadas: [4, 14, 4, 14, 4, 1, 11, 1, 11, 14, 4, 14, 4, 14, 4, 3], Las estaciones fueron de: [('Balderas', 'Barranca del Muerto'), ('Barranca del Muerto', 'Balderas'), ('Balderas', 'Barranca del Muerto'), ('Barranca del Muerto', 'Balderas'), ('Balderas', 'Barranca del Muerto'), ('Barranca del Muerto', 'Ermita'), ('Ermita', 'Barranca del Muerto'), ('Barranca del Muerto', 'Ermita'), ('Ermita', 'Barranca del Muerto'), ('Barranca del Muerto', 'Balderas'), ('Balderas', 'Barranca del Muerto'), ('Barranca del Muerto', 'Balderas'), ('Balderas', 'Barranca del Muerto'), ('Barranca del Muerto', 'Balderas'), ('Balderas', 'Barranca del Muerto'), ('Barranca del Muerto', 'Consulado')], en las lineas: ['5', '5', '5', '5', '5', '2', '2', '2', '2', '5', '5', '5', '5', '5', '5', '4'],\"), 0.006622516556291391)]\n",
      "[(([4, 2, 0], 3, ['5', '3', '1'], [('Balderas', 'Barranca del Muerto'), ('Barranca del Muerto', 'Bellas Artes'), ('Bellas Artes', 'Consulado')], \" El tiempo fue de: 3, Rutas disponibles tomadas: [4, 2, 0], Las estaciones fueron de: [('Balderas', 'Barranca del Muerto'), ('Barranca del Muerto', 'Bellas Artes'), ('Bellas Artes', 'Consulado')], en las lineas: ['5', '3', '1'],\"), 0.3333333333333333), (([4, 14, 4, 2, 12, 3], 105, ['5', '5', '5', '3', '3', '4'], [('Balderas', 'Barranca del Muerto'), ('Barranca del Muerto', 'Balderas'), ('Balderas', 'Barranca del Muerto'), ('Barranca del Muerto', 'Bellas Artes'), ('Bellas Artes', 'Barranca del Muerto'), ('Barranca del Muerto', 'Consulado')], \" El tiempo fue de: 105, Rutas disponibles tomadas: [4, 14, 4, 2, 12, 3], Las estaciones fueron de: [('Balderas', 'Barranca del Muerto'), ('Barranca del Muerto', 'Balderas'), ('Balderas', 'Barranca del Muerto'), ('Barranca del Muerto', 'Bellas Artes'), ('Bellas Artes', 'Barranca del Muerto'), ('Barranca del Muerto', 'Consulado')], en las lineas: ['5', '5', '5', '3', '3', '4'],\"), 0.009523809523809525), (([4, 1, 11, 3], 121, ['5', '2', '2', '4'], [('Balderas', 'Barranca del Muerto'), ('Barranca del Muerto', 'Ermita'), ('Ermita', 'Barranca del Muerto'), ('Barranca del Muerto', 'Consulado')], \" El tiempo fue de: 121, Rutas disponibles tomadas: [4, 1, 11, 3], Las estaciones fueron de: [('Balderas', 'Barranca del Muerto'), ('Barranca del Muerto', 'Ermita'), ('Ermita', 'Barranca del Muerto'), ('Barranca del Muerto', 'Consulado')], en las lineas: ['5', '2', '2', '4'],\"), 0.008264462809917356), (([4, 1, 11, 2, 12, 1, 11, 3], 143, ['5', '2', '2', '3', '3', '2', '2', '4'], [('Balderas', 'Barranca del Muerto'), ('Barranca del Muerto', 'Ermita'), ('Ermita', 'Barranca del Muerto'), ('Barranca del Muerto', 'Bellas Artes'), ('Bellas Artes', 'Barranca del Muerto'), ('Barranca del Muerto', 'Ermita'), ('Ermita', 'Barranca del Muerto'), ('Barranca del Muerto', 'Consulado')], \" El tiempo fue de: 143, Rutas disponibles tomadas: [4, 1, 11, 2, 12, 1, 11, 3], Las estaciones fueron de: [('Balderas', 'Barranca del Muerto'), ('Barranca del Muerto', 'Ermita'), ('Ermita', 'Barranca del Muerto'), ('Barranca del Muerto', 'Bellas Artes'), ('Bellas Artes', 'Barranca del Muerto'), ('Barranca del Muerto', 'Ermita'), ('Ermita', 'Barranca del Muerto'), ('Barranca del Muerto', 'Consulado')], en las lineas: ['5', '2', '2', '3', '3', '2', '2', '4'],\"), 0.006993006993006993), (([4, 14, 4, 14, 4, 1, 11, 1, 11, 14, 4, 14, 4, 14, 4, 3], 151, ['5', '5', '5', '5', '5', '2', '2', '2', '2', '5', '5', '5', '5', '5', '5', '4'], [('Balderas', 'Barranca del Muerto'), ('Barranca del Muerto', 'Balderas'), ('Balderas', 'Barranca del Muerto'), ('Barranca del Muerto', 'Balderas'), ('Balderas', 'Barranca del Muerto'), ('Barranca del Muerto', 'Ermita'), ('Ermita', 'Barranca del Muerto'), ('Barranca del Muerto', 'Ermita'), ('Ermita', 'Barranca del Muerto'), ('Barranca del Muerto', 'Balderas'), ('Balderas', 'Barranca del Muerto'), ('Barranca del Muerto', 'Balderas'), ('Balderas', 'Barranca del Muerto'), ('Barranca del Muerto', 'Balderas'), ('Balderas', 'Barranca del Muerto'), ('Barranca del Muerto', 'Consulado')], \" El tiempo fue de: 151, Rutas disponibles tomadas: [4, 14, 4, 14, 4, 1, 11, 1, 11, 14, 4, 14, 4, 14, 4, 3], Las estaciones fueron de: [('Balderas', 'Barranca del Muerto'), ('Barranca del Muerto', 'Balderas'), ('Balderas', 'Barranca del Muerto'), ('Barranca del Muerto', 'Balderas'), ('Balderas', 'Barranca del Muerto'), ('Barranca del Muerto', 'Ermita'), ('Ermita', 'Barranca del Muerto'), ('Barranca del Muerto', 'Ermita'), ('Ermita', 'Barranca del Muerto'), ('Barranca del Muerto', 'Balderas'), ('Balderas', 'Barranca del Muerto'), ('Barranca del Muerto', 'Balderas'), ('Balderas', 'Barranca del Muerto'), ('Barranca del Muerto', 'Balderas'), ('Balderas', 'Barranca del Muerto'), ('Barranca del Muerto', 'Consulado')], en las lineas: ['5', '5', '5', '5', '5', '2', '2', '2', '2', '5', '5', '5', '5', '5', '5', '4'],\"), 0.006622516556291391)]\n"
     ]
    }
   ],
   "source": [
    "mutation_rate = 0\n",
    "def create_new_population(population: Population, rutas: List[Ruta], elite_size: int, mutation_rate: float) -> Population:\n",
    "    \"\"\"function to create a new population\"\"\"\n",
    "    # Select the elite individuals\n",
    "    elite = elitism(population, rutas, elite_size)\n",
    "    # Generate mutations of the elite individuals\n",
    "    mutations = [mutate_genome(genome, rutas, start_point, end_point) for genome in elite if random.random() < mutation_rate]\n",
    "    # Create the new population\n",
    "    new_population = list(elite) + mutations\n",
    "    return new_population\n",
    "\n",
    "new_population = create_new_population(population, rutas, elite_size, mutation_rate)\n",
    "\n",
    "print(\"\\nNew population:\")\n",
    "print('\\n'.join(map(str, new_population)))\n",
    "\n"
   ]
  },
  {
   "cell_type": "code",
   "execution_count": 21,
   "metadata": {},
   "outputs": [
    {
     "name": "stdout",
     "output_type": "stream",
     "text": [
      "\n",
      "New population:\n",
      "(([4, 2, 0], 3, ['5', '3', '1'], [('Balderas', 'Barranca del Muerto'), ('Barranca del Muerto', 'Bellas Artes'), ('Bellas Artes', 'Consulado')], \" El tiempo fue de: 3, Rutas disponibles tomadas: [4, 2, 0], Las estaciones fueron de: [('Balderas', 'Barranca del Muerto'), ('Barranca del Muerto', 'Bellas Artes'), ('Bellas Artes', 'Consulado')], en las lineas: ['5', '3', '1'],\"), 0.3333333333333333)\n",
      "(([4, 14, 4, 2, 12, 3], 105, ['5', '5', '5', '3', '3', '4'], [('Balderas', 'Barranca del Muerto'), ('Barranca del Muerto', 'Balderas'), ('Balderas', 'Barranca del Muerto'), ('Barranca del Muerto', 'Bellas Artes'), ('Bellas Artes', 'Barranca del Muerto'), ('Barranca del Muerto', 'Consulado')], \" El tiempo fue de: 105, Rutas disponibles tomadas: [4, 14, 4, 2, 12, 3], Las estaciones fueron de: [('Balderas', 'Barranca del Muerto'), ('Barranca del Muerto', 'Balderas'), ('Balderas', 'Barranca del Muerto'), ('Barranca del Muerto', 'Bellas Artes'), ('Bellas Artes', 'Barranca del Muerto'), ('Barranca del Muerto', 'Consulado')], en las lineas: ['5', '5', '5', '3', '3', '4'],\"), 0.009523809523809525)\n",
      "(([4, 1, 11, 3], 121, ['5', '2', '2', '4'], [('Balderas', 'Barranca del Muerto'), ('Barranca del Muerto', 'Ermita'), ('Ermita', 'Barranca del Muerto'), ('Barranca del Muerto', 'Consulado')], \" El tiempo fue de: 121, Rutas disponibles tomadas: [4, 1, 11, 3], Las estaciones fueron de: [('Balderas', 'Barranca del Muerto'), ('Barranca del Muerto', 'Ermita'), ('Ermita', 'Barranca del Muerto'), ('Barranca del Muerto', 'Consulado')], en las lineas: ['5', '2', '2', '4'],\"), 0.008264462809917356)\n",
      "([4, 1, 11, 3], 121, ['5', '2', '2', '4'], [('Balderas', 'Barranca del Muerto'), ('Barranca del Muerto', 'Ermita'), ('Ermita', 'Barranca del Muerto'), ('Barranca del Muerto', 'Consulado')], \" El tiempo fue de: 121, Rutas disponibles tomadas: [4, 1, 11, 3], Las estaciones fueron de: [('Balderas', 'Barranca del Muerto'), ('Barranca del Muerto', 'Ermita'), ('Ermita', 'Barranca del Muerto'), ('Barranca del Muerto', 'Consulado')], en las lineas: ['5', '2', '2', '4'],\")\n",
      "([4, 2, 12, 3], 103, ['5', '3', '3', '4'], [('Balderas', 'Barranca del Muerto'), ('Barranca del Muerto', 'Bellas Artes'), ('Bellas Artes', 'Barranca del Muerto'), ('Barranca del Muerto', 'Consulado')], \" El tiempo fue de: 103, Rutas disponibles tomadas: [4, 2, 12, 3], Las estaciones fueron de: [('Balderas', 'Barranca del Muerto'), ('Barranca del Muerto', 'Bellas Artes'), ('Bellas Artes', 'Barranca del Muerto'), ('Barranca del Muerto', 'Consulado')], en las lineas: ['5', '3', '3', '4'],\")\n",
      "\n",
      "Original population:\n",
      "([(([4, 2, 0], 3, ['5', '3', '1'], [('Balderas', 'Barranca del Muerto'), ('Barranca del Muerto', 'Bellas Artes'), ('Bellas Artes', 'Consulado')], \" El tiempo fue de: 3, Rutas disponibles tomadas: [4, 2, 0], Las estaciones fueron de: [('Balderas', 'Barranca del Muerto'), ('Barranca del Muerto', 'Bellas Artes'), ('Bellas Artes', 'Consulado')], en las lineas: ['5', '3', '1'],\"), 0.3333333333333333), (([4, 14, 4, 2, 12, 3], 105, ['5', '5', '5', '3', '3', '4'], [('Balderas', 'Barranca del Muerto'), ('Barranca del Muerto', 'Balderas'), ('Balderas', 'Barranca del Muerto'), ('Barranca del Muerto', 'Bellas Artes'), ('Bellas Artes', 'Barranca del Muerto'), ('Barranca del Muerto', 'Consulado')], \" El tiempo fue de: 105, Rutas disponibles tomadas: [4, 14, 4, 2, 12, 3], Las estaciones fueron de: [('Balderas', 'Barranca del Muerto'), ('Barranca del Muerto', 'Balderas'), ('Balderas', 'Barranca del Muerto'), ('Barranca del Muerto', 'Bellas Artes'), ('Bellas Artes', 'Barranca del Muerto'), ('Barranca del Muerto', 'Consulado')], en las lineas: ['5', '5', '5', '3', '3', '4'],\"), 0.009523809523809525), (([4, 1, 11, 3], 121, ['5', '2', '2', '4'], [('Balderas', 'Barranca del Muerto'), ('Barranca del Muerto', 'Ermita'), ('Ermita', 'Barranca del Muerto'), ('Barranca del Muerto', 'Consulado')], \" El tiempo fue de: 121, Rutas disponibles tomadas: [4, 1, 11, 3], Las estaciones fueron de: [('Balderas', 'Barranca del Muerto'), ('Barranca del Muerto', 'Ermita'), ('Ermita', 'Barranca del Muerto'), ('Barranca del Muerto', 'Consulado')], en las lineas: ['5', '2', '2', '4'],\"), 0.008264462809917356)], [(([4, 1, 11, 3], 121, ['5', '2', '2', '4'], [('Balderas', 'Barranca del Muerto'), ('Barranca del Muerto', 'Ermita'), ('Ermita', 'Barranca del Muerto'), ('Barranca del Muerto', 'Consulado')], \" El tiempo fue de: 121, Rutas disponibles tomadas: [4, 1, 11, 3], Las estaciones fueron de: [('Balderas', 'Barranca del Muerto'), ('Barranca del Muerto', 'Ermita'), ('Ermita', 'Barranca del Muerto'), ('Barranca del Muerto', 'Consulado')], en las lineas: ['5', '2', '2', '4'],\"), 0.008264462809917356), (([4, 2, 0], 3, ['5', '3', '1'], [('Balderas', 'Barranca del Muerto'), ('Barranca del Muerto', 'Bellas Artes'), ('Bellas Artes', 'Consulado')], \" El tiempo fue de: 3, Rutas disponibles tomadas: [4, 2, 0], Las estaciones fueron de: [('Balderas', 'Barranca del Muerto'), ('Barranca del Muerto', 'Bellas Artes'), ('Bellas Artes', 'Consulado')], en las lineas: ['5', '3', '1'],\"), 0.3333333333333333), (([4, 1, 11, 2, 12, 1, 11, 3], 143, ['5', '2', '2', '3', '3', '2', '2', '4'], [('Balderas', 'Barranca del Muerto'), ('Barranca del Muerto', 'Ermita'), ('Ermita', 'Barranca del Muerto'), ('Barranca del Muerto', 'Bellas Artes'), ('Bellas Artes', 'Barranca del Muerto'), ('Barranca del Muerto', 'Ermita'), ('Ermita', 'Barranca del Muerto'), ('Barranca del Muerto', 'Consulado')], \" El tiempo fue de: 143, Rutas disponibles tomadas: [4, 1, 11, 2, 12, 1, 11, 3], Las estaciones fueron de: [('Balderas', 'Barranca del Muerto'), ('Barranca del Muerto', 'Ermita'), ('Ermita', 'Barranca del Muerto'), ('Barranca del Muerto', 'Bellas Artes'), ('Bellas Artes', 'Barranca del Muerto'), ('Barranca del Muerto', 'Ermita'), ('Ermita', 'Barranca del Muerto'), ('Barranca del Muerto', 'Consulado')], en las lineas: ['5', '2', '2', '3', '3', '2', '2', '4'],\"), 0.006993006993006993), (([4, 14, 4, 2, 12, 3], 105, ['5', '5', '5', '3', '3', '4'], [('Balderas', 'Barranca del Muerto'), ('Barranca del Muerto', 'Balderas'), ('Balderas', 'Barranca del Muerto'), ('Barranca del Muerto', 'Bellas Artes'), ('Bellas Artes', 'Barranca del Muerto'), ('Barranca del Muerto', 'Consulado')], \" El tiempo fue de: 105, Rutas disponibles tomadas: [4, 14, 4, 2, 12, 3], Las estaciones fueron de: [('Balderas', 'Barranca del Muerto'), ('Barranca del Muerto', 'Balderas'), ('Balderas', 'Barranca del Muerto'), ('Barranca del Muerto', 'Bellas Artes'), ('Bellas Artes', 'Barranca del Muerto'), ('Barranca del Muerto', 'Consulado')], en las lineas: ['5', '5', '5', '3', '3', '4'],\"), 0.009523809523809525), (([4, 14, 4, 14, 4, 1, 11, 1, 11, 14, 4, 14, 4, 14, 4, 3], 151, ['5', '5', '5', '5', '5', '2', '2', '2', '2', '5', '5', '5', '5', '5', '5', '4'], [('Balderas', 'Barranca del Muerto'), ('Barranca del Muerto', 'Balderas'), ('Balderas', 'Barranca del Muerto'), ('Barranca del Muerto', 'Balderas'), ('Balderas', 'Barranca del Muerto'), ('Barranca del Muerto', 'Ermita'), ('Ermita', 'Barranca del Muerto'), ('Barranca del Muerto', 'Ermita'), ('Ermita', 'Barranca del Muerto'), ('Barranca del Muerto', 'Balderas'), ('Balderas', 'Barranca del Muerto'), ('Barranca del Muerto', 'Balderas'), ('Balderas', 'Barranca del Muerto'), ('Barranca del Muerto', 'Balderas'), ('Balderas', 'Barranca del Muerto'), ('Barranca del Muerto', 'Consulado')], \" El tiempo fue de: 151, Rutas disponibles tomadas: [4, 14, 4, 14, 4, 1, 11, 1, 11, 14, 4, 14, 4, 14, 4, 3], Las estaciones fueron de: [('Balderas', 'Barranca del Muerto'), ('Barranca del Muerto', 'Balderas'), ('Balderas', 'Barranca del Muerto'), ('Barranca del Muerto', 'Balderas'), ('Balderas', 'Barranca del Muerto'), ('Barranca del Muerto', 'Ermita'), ('Ermita', 'Barranca del Muerto'), ('Barranca del Muerto', 'Ermita'), ('Ermita', 'Barranca del Muerto'), ('Barranca del Muerto', 'Balderas'), ('Balderas', 'Barranca del Muerto'), ('Barranca del Muerto', 'Balderas'), ('Balderas', 'Barranca del Muerto'), ('Barranca del Muerto', 'Balderas'), ('Balderas', 'Barranca del Muerto'), ('Barranca del Muerto', 'Consulado')], en las lineas: ['5', '5', '5', '5', '5', '2', '2', '2', '2', '5', '5', '5', '5', '5', '5', '4'],\"), 0.006622516556291391)], [(([4, 2, 0], 3, ['5', '3', '1'], [('Balderas', 'Barranca del Muerto'), ('Barranca del Muerto', 'Bellas Artes'), ('Bellas Artes', 'Consulado')], \" El tiempo fue de: 3, Rutas disponibles tomadas: [4, 2, 0], Las estaciones fueron de: [('Balderas', 'Barranca del Muerto'), ('Barranca del Muerto', 'Bellas Artes'), ('Bellas Artes', 'Consulado')], en las lineas: ['5', '3', '1'],\"), 0.3333333333333333), (([4, 14, 4, 2, 12, 3], 105, ['5', '5', '5', '3', '3', '4'], [('Balderas', 'Barranca del Muerto'), ('Barranca del Muerto', 'Balderas'), ('Balderas', 'Barranca del Muerto'), ('Barranca del Muerto', 'Bellas Artes'), ('Bellas Artes', 'Barranca del Muerto'), ('Barranca del Muerto', 'Consulado')], \" El tiempo fue de: 105, Rutas disponibles tomadas: [4, 14, 4, 2, 12, 3], Las estaciones fueron de: [('Balderas', 'Barranca del Muerto'), ('Barranca del Muerto', 'Balderas'), ('Balderas', 'Barranca del Muerto'), ('Barranca del Muerto', 'Bellas Artes'), ('Bellas Artes', 'Barranca del Muerto'), ('Barranca del Muerto', 'Consulado')], en las lineas: ['5', '5', '5', '3', '3', '4'],\"), 0.009523809523809525), (([4, 1, 11, 3], 121, ['5', '2', '2', '4'], [('Balderas', 'Barranca del Muerto'), ('Barranca del Muerto', 'Ermita'), ('Ermita', 'Barranca del Muerto'), ('Barranca del Muerto', 'Consulado')], \" El tiempo fue de: 121, Rutas disponibles tomadas: [4, 1, 11, 3], Las estaciones fueron de: [('Balderas', 'Barranca del Muerto'), ('Barranca del Muerto', 'Ermita'), ('Ermita', 'Barranca del Muerto'), ('Barranca del Muerto', 'Consulado')], en las lineas: ['5', '2', '2', '4'],\"), 0.008264462809917356), (([4, 1, 11, 2, 12, 1, 11, 3], 143, ['5', '2', '2', '3', '3', '2', '2', '4'], [('Balderas', 'Barranca del Muerto'), ('Barranca del Muerto', 'Ermita'), ('Ermita', 'Barranca del Muerto'), ('Barranca del Muerto', 'Bellas Artes'), ('Bellas Artes', 'Barranca del Muerto'), ('Barranca del Muerto', 'Ermita'), ('Ermita', 'Barranca del Muerto'), ('Barranca del Muerto', 'Consulado')], \" El tiempo fue de: 143, Rutas disponibles tomadas: [4, 1, 11, 2, 12, 1, 11, 3], Las estaciones fueron de: [('Balderas', 'Barranca del Muerto'), ('Barranca del Muerto', 'Ermita'), ('Ermita', 'Barranca del Muerto'), ('Barranca del Muerto', 'Bellas Artes'), ('Bellas Artes', 'Barranca del Muerto'), ('Barranca del Muerto', 'Ermita'), ('Ermita', 'Barranca del Muerto'), ('Barranca del Muerto', 'Consulado')], en las lineas: ['5', '2', '2', '3', '3', '2', '2', '4'],\"), 0.006993006993006993), (([4, 14, 4, 14, 4, 1, 11, 1, 11, 14, 4, 14, 4, 14, 4, 3], 151, ['5', '5', '5', '5', '5', '2', '2', '2', '2', '5', '5', '5', '5', '5', '5', '4'], [('Balderas', 'Barranca del Muerto'), ('Barranca del Muerto', 'Balderas'), ('Balderas', 'Barranca del Muerto'), ('Barranca del Muerto', 'Balderas'), ('Balderas', 'Barranca del Muerto'), ('Barranca del Muerto', 'Ermita'), ('Ermita', 'Barranca del Muerto'), ('Barranca del Muerto', 'Ermita'), ('Ermita', 'Barranca del Muerto'), ('Barranca del Muerto', 'Balderas'), ('Balderas', 'Barranca del Muerto'), ('Barranca del Muerto', 'Balderas'), ('Balderas', 'Barranca del Muerto'), ('Barranca del Muerto', 'Balderas'), ('Balderas', 'Barranca del Muerto'), ('Barranca del Muerto', 'Consulado')], \" El tiempo fue de: 151, Rutas disponibles tomadas: [4, 14, 4, 14, 4, 1, 11, 1, 11, 14, 4, 14, 4, 14, 4, 3], Las estaciones fueron de: [('Balderas', 'Barranca del Muerto'), ('Barranca del Muerto', 'Balderas'), ('Balderas', 'Barranca del Muerto'), ('Barranca del Muerto', 'Balderas'), ('Balderas', 'Barranca del Muerto'), ('Barranca del Muerto', 'Ermita'), ('Ermita', 'Barranca del Muerto'), ('Barranca del Muerto', 'Ermita'), ('Ermita', 'Barranca del Muerto'), ('Barranca del Muerto', 'Balderas'), ('Balderas', 'Barranca del Muerto'), ('Barranca del Muerto', 'Balderas'), ('Balderas', 'Barranca del Muerto'), ('Barranca del Muerto', 'Balderas'), ('Balderas', 'Barranca del Muerto'), ('Barranca del Muerto', 'Consulado')], en las lineas: ['5', '5', '5', '5', '5', '2', '2', '2', '2', '5', '5', '5', '5', '5', '5', '4'],\"), 0.006622516556291391)])\n",
      "Size of the new population: 5\n",
      "Size of the original population: 5\n"
     ]
    }
   ],
   "source": [
    "def create_new_population(population: Population, rutas: List[Ruta], elite_size: int, mutation_rate: float) -> Population:\n",
    "    \"\"\"function to create a new population\"\"\"\n",
    "    # Select the elite individuals\n",
    "    elite, fitness_values, sorted_by_fitness = elitism(population, rutas, elite_size)\n",
    "    random_genomes = [generate_genome(rutas, start_point, end_point) for _ in range(size_pop - len(elite))]\n",
    "    \n",
    "    new_population = list(elite) + random_genomes\n",
    "    return new_population\n",
    "\n",
    "new_population = create_new_population(population, rutas, elite_size, mutation_rate)\n",
    "\n",
    "print(\"\\nNew population:\")\n",
    "for genome in new_population:\n",
    "    print(genome)\n",
    "\n",
    "print(\"\\nOriginal population:\")\n",
    "elite = elitism(population, rutas, elite_size)\n",
    "print(elite)\n",
    "\n",
    "print(\"Size of the new population:\", len(new_population))\n",
    "print(\"Size of the original population:\", len(population))"
   ]
  },
  {
   "cell_type": "code",
   "execution_count": 22,
   "metadata": {},
   "outputs": [
    {
     "name": "stdout",
     "output_type": "stream",
     "text": [
      "\n",
      "Final population:\n",
      "((((((((([4, 14, 4, 1, 11, 2, 0], 25, ['5', '5', '5', '2', '2', '3', '1'], [('Balderas', 'Barranca del Muerto'), ('Barranca del Muerto', 'Balderas'), ('Balderas', 'Barranca del Muerto'), ('Barranca del Muerto', 'Ermita'), ('Ermita', 'Barranca del Muerto'), ('Barranca del Muerto', 'Bellas Artes'), ('Bellas Artes', 'Consulado')], \" El tiempo fue de: 25, Rutas disponibles tomadas: [4, 14, 4, 1, 11, 2, 0], Las estaciones fueron de: [('Balderas', 'Barranca del Muerto'), ('Barranca del Muerto', 'Balderas'), ('Balderas', 'Barranca del Muerto'), ('Barranca del Muerto', 'Ermita'), ('Ermita', 'Barranca del Muerto'), ('Barranca del Muerto', 'Bellas Artes'), ('Bellas Artes', 'Consulado')], en las lineas: ['5', '5', '5', '2', '2', '3', '1'],\"), 0.04), 25.0), 0.04), 25.0), 0.04), 25.0), 0.04), 25.0)\n",
      "((((((([4, 1, 11, 2, 0], 23, ['5', '2', '2', '3', '1'], [('Balderas', 'Barranca del Muerto'), ('Barranca del Muerto', 'Ermita'), ('Ermita', 'Barranca del Muerto'), ('Barranca del Muerto', 'Bellas Artes'), ('Bellas Artes', 'Consulado')], \" El tiempo fue de: 23, Rutas disponibles tomadas: [4, 1, 11, 2, 0], Las estaciones fueron de: [('Balderas', 'Barranca del Muerto'), ('Barranca del Muerto', 'Ermita'), ('Ermita', 'Barranca del Muerto'), ('Barranca del Muerto', 'Bellas Artes'), ('Bellas Artes', 'Consulado')], en las lineas: ['5', '2', '2', '3', '1'],\"), 0.043478260869565216), 23.0), 0.043478260869565216), 23.0), 0.043478260869565216), 23.0)\n",
      "((((((((((([4, 2, 0], 3, ['5', '3', '1'], [('Balderas', 'Barranca del Muerto'), ('Barranca del Muerto', 'Bellas Artes'), ('Bellas Artes', 'Consulado')], \" El tiempo fue de: 3, Rutas disponibles tomadas: [4, 2, 0], Las estaciones fueron de: [('Balderas', 'Barranca del Muerto'), ('Barranca del Muerto', 'Bellas Artes'), ('Bellas Artes', 'Consulado')], en las lineas: ['5', '3', '1'],\"), 0.3333333333333333), 3.0), 0.3333333333333333), 3.0), 0.3333333333333333), 3.0), 0.3333333333333333), 3.0), 0.3333333333333333), 3.0)\n",
      "([4, 14, 4, 1, 11, 3], 123, ['5', '5', '5', '2', '2', '4'], [('Balderas', 'Barranca del Muerto'), ('Barranca del Muerto', 'Balderas'), ('Balderas', 'Barranca del Muerto'), ('Barranca del Muerto', 'Ermita'), ('Ermita', 'Barranca del Muerto'), ('Barranca del Muerto', 'Consulado')], \" El tiempo fue de: 123, Rutas disponibles tomadas: [4, 14, 4, 1, 11, 3], Las estaciones fueron de: [('Balderas', 'Barranca del Muerto'), ('Barranca del Muerto', 'Balderas'), ('Balderas', 'Barranca del Muerto'), ('Barranca del Muerto', 'Ermita'), ('Ermita', 'Barranca del Muerto'), ('Barranca del Muerto', 'Consulado')], en las lineas: ['5', '5', '5', '2', '2', '4'],\")\n",
      "([4, 14, 4, 3], 103, ['5', '5', '5', '4'], [('Balderas', 'Barranca del Muerto'), ('Barranca del Muerto', 'Balderas'), ('Balderas', 'Barranca del Muerto'), ('Barranca del Muerto', 'Consulado')], \" El tiempo fue de: 103, Rutas disponibles tomadas: [4, 14, 4, 3], Las estaciones fueron de: [('Balderas', 'Barranca del Muerto'), ('Barranca del Muerto', 'Balderas'), ('Balderas', 'Barranca del Muerto'), ('Barranca del Muerto', 'Consulado')], en las lineas: ['5', '5', '5', '4'],\")\n",
      "\n",
      "Best genome:\n",
      "((((((((((([4, 2, 0], 3, ['5', '3', '1'], [('Balderas', 'Barranca del Muerto'), ('Barranca del Muerto', 'Bellas Artes'), ('Bellas Artes', 'Consulado')], \" El tiempo fue de: 3, Rutas disponibles tomadas: [4, 2, 0], Las estaciones fueron de: [('Balderas', 'Barranca del Muerto'), ('Barranca del Muerto', 'Bellas Artes'), ('Bellas Artes', 'Consulado')], en las lineas: ['5', '3', '1'],\"), 0.3333333333333333), 3.0), 0.3333333333333333), 3.0), 0.3333333333333333), 3.0), 0.3333333333333333), 3.0), 0.3333333333333333), 3.0)\n"
     ]
    },
    {
     "data": {
      "image/png": "[encoded data removed]",
      "text/plain": [
       "<Figure size 640x480 with 1 Axes>"
      ]
     },
     "metadata": {},
     "output_type": "display_data"
    }
   ],
   "source": [
    "import matplotlib.pyplot as plt\n",
    "\n",
    "def genetic_algorithm(rutas: List[Ruta], population: Population, num_generations: int, elite_size: int, mutation_rate: float):\n",
    "    \"\"\"function to run the genetic algorithm\"\"\"\n",
    "    best_times = []\n",
    "    for _ in range(num_generations):\n",
    "        # Create a new population\n",
    "        population = create_new_population(population, rutas, elite_size, mutation_rate)\n",
    "        \n",
    "        # Mutate the population\n",
    "        for i in range(len(population)):\n",
    "            if random.random() < mutation_rate:\n",
    "                population[i] = mutate_genome(population[i], rutas, start_point, end_point)\n",
    "        \n",
    "        # Find the best time in this generation and add it to the list\n",
    "        best_genome = max(population, key=lambda genome: fitness(genome, rutas))\n",
    "        best_times.append(best_genome[1])\n",
    "                \n",
    "    # Return the final population and the list of best times\n",
    "    return population, best_times\n",
    "\n",
    "# Run the genetic algorithm\n",
    "final_population, best_times = genetic_algorithm(rutas, population, num_generations, elite_size, mutation_rate)\n",
    "\n",
    "# Print the final population\n",
    "print(\"\\nFinal population:\")\n",
    "for genome in final_population:\n",
    "    print(genome)\n",
    "\n",
    "# Print the best genome\n",
    "best_genome = max(final_population, key=lambda genome: fitness(genome, rutas))\n",
    "print(\"\\nBest genome:\")\n",
    "print(best_genome)\n",
    "\n",
    "# Plot the best times\n",
    "plt.plot(best_times)\n",
    "plt.title('Best time in each generation')\n",
    "plt.xlabel('Generation')\n",
    "plt.ylabel('Best time')\n",
    "plt.show()"
   ]
  }
 ],
 "metadata": {
  "kernelspec": {
   "display_name": "Python 3",
   "language": "python",
   "name": "python3"
  },
  "language_info": {
   "codemirror_mode": {
    "name": "ipython",
    "version": 3
   },
   "file_extension": ".py",
   "mimetype": "text/x-python",
   "name": "python",
   "nbconvert_exporter": "python",
   "pygments_lexer": "ipython3",
   "version": "3.12.1"
  }
 },
 "nbformat": 4,
 "nbformat_minor": 2
}
