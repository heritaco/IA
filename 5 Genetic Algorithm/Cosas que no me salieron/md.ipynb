{
 "cells": [
  {
   "cell_type": "code",
   "execution_count": 1,
   "metadata": {},
   "outputs": [
    {
     "name": "stdout",
     "output_type": "stream",
     "text": [
      " os estes one que se urr eel ago oru tienn roema e erit  re o hn cd a fan adecuaa p oui tes aios. it el li es iotn srigs l a etlia teos aens or erintr no l e ir y rfenca  oneo.\n",
      "\n",
      " is ua rn y u ditou iet erecos e tr ineea (s ero reso o e est s meo evetea roesto es plagio viva el plagio voy a hacer un plagio de este texto para que veasesto es plagio viva el plagio voy a hacer un plagio de este texto para que veasesto es plagio viva el plagio voy a hacer un plagio de este texto para que veasesto es plagio viva el plagio voy a hacer un plagio de este texto para que veas\n",
      "\n"
     ]
    }
   ],
   "source": [
    "def find_longest_common_subsequences(str1, str2):\n",
    "    m = len(str1)\n",
    "    n = len(str2)\n",
    "\n",
    "    # Create a 2D table to store the lengths of longest common subsequences\n",
    "    lcs_lengths = [[0] * (n + 1) for _ in range(m + 1)]\n",
    "\n",
    "    # Compute the lengths of longest common subsequences\n",
    "    for i in range(1, m + 1):\n",
    "        for j in range(1, n + 1):\n",
    "            if str1[i - 1] == str2[j - 1]:\n",
    "                lcs_lengths[i][j] = lcs_lengths[i - 1][j - 1] + 1\n",
    "            else:\n",
    "                lcs_lengths[i][j] = max(\n",
    "                    lcs_lengths[i - 1][j], lcs_lengths[i][j - 1])\n",
    "\n",
    "    # Find all the longest common subsequences\n",
    "    subsequences = []\n",
    "    find_subsequences(str1, str2, m, n, lcs_lengths, \"\", subsequences)\n",
    "\n",
    "    # Print the longest common subsequences\n",
    "    for subsequence in subsequences:\n",
    "        print(subsequence)\n",
    "\n",
    "\n",
    "def find_subsequences(str1, str2, i, j, lcs_lengths, current_subsequence, subsequences):\n",
    "    if i == 0 or j == 0:\n",
    "        if len(current_subsequence) >= 500:\n",
    "            subsequences.append(current_subsequence[::-1])\n",
    "        return\n",
    "\n",
    "    if str1[i - 1] == str2[j - 1]:\n",
    "        find_subsequences(str1, str2, i - 1, j - 1, lcs_lengths,\n",
    "                          str1[i - 1] + current_subsequence, subsequences)\n",
    "    elif lcs_lengths[i - 1][j] >= lcs_lengths[i][j - 1]:\n",
    "        find_subsequences(str1, str2, i - 1, j, lcs_lengths,\n",
    "                          current_subsequence, subsequences)\n",
    "    else:\n",
    "        find_subsequences(str1, str2, i, j - 1, lcs_lengths,\n",
    "                          current_subsequence, subsequences)\n",
    "\n",
    "# Test the function\n",
    "str1 = \"\"\"hola como estás? esto es plagio no creo que este guardando todas por ejemplo si hago eso When you’re using Python strings often in your code, you may face the need to work with them in reverse order. Python includes a few handy tools and techniques that can help you out in these situations. With them, you’ll be able to build reversed copies of existing strings quickly and efficiently.\n",
    "\n",
    "Knowing about these tools and techniques for reversing strings in Python will help you improve your proficiency as a Python developer.\n",
    "\n",
    "In this tutorial, you’ll learn how to:\n",
    "\n",
    "Quickly build reversed strings through slicing\n",
    "Create reversed copies of existing strings using reversed() and .join()\n",
    "Use iteration and recursion to reverse existing strings manually\n",
    "Perform reverse iteration over your strings esto es plagio viva el plagio voy a hacer un plagio de este texto para que veasesto es plagio viva el plagio voy a hacer un plagio de este texto para que veasesto es plagio viva el plagio voy a hacer un plagio de este texto para que veasesto es plagio viva el plagio voy a hacer un plagio de este texto para que veas\n",
    "Sort your strings in reverse order using sorted()\n",
    "To make the most out of this tutorial, you should know the basics of strings, for and while loops, and recursion.\"\"\"[::-1]\n",
    "str2 = \"\"\" Los estudiantes consideran que se incurre en el plagio porque tienen problemas de escritura y porque no han recibido una formación adecuada para producir textos académicos.\n",
    "Para evitar el plagio es importante ser riguroso a la hora de utilizar contenidos ajenos. La mejor herramienta para no plagiar es citar y referenciar los contenidos.\n",
    "\n",
    "El plagio es una infracción y un delito que violenta los derechos de autoría intelectual (los derechos morales), por lo que resulta más o menos equivalente al robo.\n",
    "esto es plagio viva el plagio voy a hacer un plagio de este texto para que veasesto es plagio viva el plagio voy a hacer un plagio de este texto para que veasesto es plagio viva el plagio voy a hacer un plagio de este texto para que veasesto es plagio viva el plagio voy a hacer un plagio de este texto para que veas\n",
    "\"\"\"[::-1]\n",
    "\n",
    "find_longest_common_subsequences(str1, str2)"
   ]
  },
  {
   "cell_type": "code",
   "execution_count": 70,
   "metadata": {},
   "outputs": [
    {
     "data": {
      "text/plain": [
       "False"
      ]
     },
     "execution_count": 70,
     "metadata": {},
     "output_type": "execute_result"
    }
   ],
   "source": [
    "def is_text_copied(str1, str2, threshold):\n",
    "    m = len(str1)\n",
    "    n = len(str2)\n",
    "\n",
    "    # Create a 2D table to store the lengths of longest common subsequences\n",
    "    lcs_lengths = [[0] * (n + 1) for _ in range(m + 1)]\n",
    "\n",
    "    # Compute the lengths of longest common subsequences\n",
    "    for i in range(1, m + 1):\n",
    "        for j in range(1, n + 1):\n",
    "            if str1[i - 1] == str2[j - 1]:\n",
    "                lcs_lengths[i][j] = lcs_lengths[i - 1][j - 1] + 1\n",
    "            else:\n",
    "                lcs_lengths[i][j] = max(\n",
    "                    lcs_lengths[i - 1][j], lcs_lengths[i][j - 1])\n",
    "\n",
    "    # The length of the longest common subsequence is in the bottom right corner of the table\n",
    "    lcs_length = lcs_lengths[-1][-1]\n",
    "\n",
    "    # If the length of the LCS is greater than the threshold, the text is considered copied\n",
    "    return lcs_length > threshold\n",
    "\n",
    "is_text_copied(str1, str2, len(str1) // 2)"
   ]
  },
  {
   "cell_type": "code",
   "execution_count": 71,
   "metadata": {},
   "outputs": [
    {
     "name": "stdout",
     "output_type": "stream",
     "text": [
      "Is copied: False\n",
      "Copied text: \n",
      "saev euq arap otxet etse ed oigalp nu recah a yov oigalp le aviv oigalp se otseoo a eeve onm s tsere o osea ore so aeeni rt e socere so teli u ol uy iru si \n",
      "\n",
      ".odnt s cnefr y ri e i on r nirr roe a soea ontnci da l sgirs ntop se oal e ti .soia set iuop aa uceda naf a di nh o er  tire e ameor nenit euo ogalpee rru es euq rno settse o \n"
     ]
    }
   ],
   "source": [
    "def is_text_copied(str1, str2, threshold):\n",
    "    m = len(str1)\n",
    "    n = len(str2)\n",
    "\n",
    "    # Create a 2D table to store the lengths of longest common subsequences\n",
    "    lcs_lengths = [[0] * (n + 1) for _ in range(m + 1)]\n",
    "\n",
    "    # Compute the lengths of longest common subsequences\n",
    "    for i in range(1, m + 1):\n",
    "        for j in range(1, n + 1):\n",
    "            if str1[i - 1] == str2[j - 1]:\n",
    "                lcs_lengths[i][j] = lcs_lengths[i - 1][j - 1] + 1\n",
    "            else:\n",
    "                lcs_lengths[i][j] = max(\n",
    "                    lcs_lengths[i - 1][j], lcs_lengths[i][j - 1])\n",
    "\n",
    "    # The length of the longest common subsequence is in the bottom right corner of the table\n",
    "    lcs_length = lcs_lengths[-1][-1]\n",
    "\n",
    "    # If the length of the LCS is greater than the threshold, the text is considered copied\n",
    "    is_copied = lcs_length > threshold\n",
    "\n",
    "    # Construct the LCS\n",
    "    lcs = \"\"\n",
    "    i = m\n",
    "    j = n\n",
    "    while i > 0 and j > 0:\n",
    "        if str1[i - 1] == str2[j - 1]:\n",
    "            lcs = str1[i - 1] + lcs\n",
    "            i -= 1\n",
    "            j -= 1\n",
    "        elif lcs_lengths[i - 1][j] > lcs_lengths[i][j - 1]:\n",
    "            i -= 1\n",
    "        else:\n",
    "            j -= 1\n",
    "\n",
    "    return is_copied, lcs\n",
    "\n",
    "is_copied, lcs = is_text_copied(str1, str2, len(str1) // 2)\n",
    "print(\"Is copied:\", is_copied)\n",
    "print(\"Copied text:\", lcs)"
   ]
  },
  {
   "cell_type": "code",
   "execution_count": 24,
   "metadata": {},
   "outputs": [
    {
     "name": "stdout",
     "output_type": "stream",
     "text": [
      "por ejemplo si hago eso, \n",
      "['por ejemplo si hago eso, ', 'es plagio', ' no']\n"
     ]
    }
   ],
   "source": [
    "\n",
    "def find_longest_common_substring(str1, str2):\n",
    "    m = len(str1)\n",
    "    n = len(str2)\n",
    "\n",
    "    # Create a 2D table to store lengths of longest common suffixes\n",
    "    lcs_lengths = [[0] * (n + 1) for _ in range(m + 1)]\n",
    "    longest_length = 0  # Length of longest common substring\n",
    "    end_index = 0  # End of longest common substring in str1\n",
    "\n",
    "    # Compute the lengths of longest common suffixes\n",
    "    for i in range(1, m + 1):\n",
    "        for j in range(1, n + 1):\n",
    "            if str1[i - 1] == str2[j - 1]:\n",
    "                lcs_lengths[i][j] = lcs_lengths[i - 1][j - 1] + 1\n",
    "                if lcs_lengths[i][j] > longest_length:\n",
    "                    longest_length = lcs_lengths[i][j]\n",
    "                    end_index = i - 1\n",
    "            else:\n",
    "                lcs_lengths[i][j] = 0\n",
    "\n",
    "    # The longest common substring is from end_index - longest_length + 1 to end_index + 1\n",
    "    return str1[end_index - longest_length + 1: end_index + 1]\n",
    "\n",
    "# Test the function\n",
    "str1 = \"por ejemplo si hago eso, ya no, es plagio\"\n",
    "str2 = \"por ejemplo si hago eso, es plagio, no\"\n",
    "\n",
    "print(find_longest_common_substring(str1, str2))\n",
    "\n",
    "def find_n_longest_common_substrings(str1, str2, n):\n",
    "    longest_substrings = []\n",
    "    while len(longest_substrings) < n:\n",
    "        longest_substring = find_longest_common_substring(str1, str2)\n",
    "        if longest_substring == '':\n",
    "            break\n",
    "        longest_substrings.append(longest_substring)\n",
    "        str1 = str1.replace(longest_substring, '')\n",
    "        str2 = str2.replace(longest_substring, '')\n",
    "    return longest_substrings\n",
    "\n",
    "\n",
    "print(find_n_longest_common_substrings(str1, str2, 3))"
   ]
  },
  {
   "cell_type": "code",
   "execution_count": 27,
   "metadata": {},
   "outputs": [
    {
     "name": "stdout",
     "output_type": "stream",
     "text": [
      "por ejemplo si hago eso, \n",
      "['por ejemplo si hago eso, ', 'es plagio', ' no']\n",
      "([('por ejemplo si hago eso, ', 60.97560975609756), ('es plagio', 56.25), (' no', 42.857142857142854)], 925.0)\n"
     ]
    }
   ],
   "source": [
    "\n",
    "def find_longest_common_substring(str1, str2):\n",
    "    m = len(str1)\n",
    "    n = len(str2)\n",
    "\n",
    "    # Create a 2D table to store lengths of longest common suffixes\n",
    "    lcs_lengths = [[0] * (n + 1) for _ in range(m + 1)]\n",
    "    longest_length = 0  # Length of longest common substring\n",
    "    end_index = 0  # End of longest common substring in str1\n",
    "    # Compute the lengths of longest common suffixes\n",
    "    for i in range(1, m + 1):\n",
    "        for j in range(1, n + 1):\n",
    "            if str1[i - 1] == str2[j - 1]:\n",
    "                lcs_lengths[i][j] = lcs_lengths[i - 1][j - 1] + 1\n",
    "                if lcs_lengths[i][j] > longest_length:\n",
    "                    longest_length = lcs_lengths[i][j]\n",
    "                    end_index = i - 1\n",
    "            else:\n",
    "                lcs_lengths[i][j] = 0\n",
    "\n",
    "    # The longest common substring is from end_index - longest_length + 1 to end_index + 1\n",
    "    return str1[end_index - longest_length + 1: end_index + 1]\n",
    "\n",
    "# Test the function\n",
    "str1 = \"por ejemplo si hago eso, ya no, es plagio\"\n",
    "str2 = \"por ejemplo si hago eso, es plagio, no\"\n",
    "\n",
    "print(find_longest_common_substring(str1, str2))\n",
    "\n",
    "def find_n_longest_common_substrings(str1, str2, n):\n",
    "    longest_substrings = []\n",
    "    while len(longest_substrings) < n:\n",
    "        longest_substring = find_longest_common_substring(str1, str2)\n",
    "        if longest_substring == '':\n",
    "            break\n",
    "        longest_substrings.append(longest_substring)\n",
    "        str1 = str1.replace(longest_substring, '')\n",
    "        str2 = str2.replace(longest_substring, '')\n",
    "    return longest_substrings\n",
    "\n",
    "\n",
    "print(find_n_longest_common_substrings(str1, str2, 3))\n",
    "\n",
    "def find_n_longest_common_substrings_with_percentages(str1, str2, n):\n",
    "    longest_substrings = []\n",
    "    total_length = 0\n",
    "    while len(longest_substrings) < n:\n",
    "        longest_substring = find_longest_common_substring(str1, str2)\n",
    "        if longest_substring == '':\n",
    "            break\n",
    "        percentage = (len(longest_substring) / len(str1)) * 100\n",
    "        longest_substrings.append((longest_substring, percentage))\n",
    "        total_length += len(longest_substring)\n",
    "        str1 = str1.replace(longest_substring, '')\n",
    "        str2 = str2.replace(longest_substring, '')\n",
    "    total_percentage = (total_length / len(str1)) * 100\n",
    "    return longest_substrings, total_percentage\n",
    "\n",
    "str1 = \"por ejemplo si hago eso, ya no, es plagio\"\n",
    "str2 = \"por ejemplo si hago eso, es plagio, no\"\n",
    "print(find_n_longest_common_substrings_with_percentages(str1, str2, 3))"
   ]
  },
  {
   "cell_type": "code",
   "execution_count": 32,
   "metadata": {},
   "outputs": [
    {
     "name": "stdout",
     "output_type": "stream",
     "text": [
      "([('por ejemplo si hago eso, ', 0.6097560975609756), ('es plagio', 0.5625), (' no', 0.42857142857142855)], 0.925)\n"
     ]
    }
   ],
   "source": [
    "def find_longest_common_substring(s1, s2):\n",
    "    m, n = len(s1), len(s2)\n",
    "    dp = [[0]*(n+1) for _ in range(m+1)]\n",
    "    length, end = 0, 0\n",
    "    for i in range(1, m+1):\n",
    "        for j in range(1, n+1):\n",
    "            if s1[i-1] == s2[j-1]:\n",
    "                dp[i][j] = dp[i-1][j-1] + 1\n",
    "                if dp[i][j] > length:\n",
    "                    length = dp[i][j]\n",
    "                    end = i - 1\n",
    "    return s1[end-length+1:end+1]\n",
    "\n",
    "def find_n_longest_common_substrings(s1, s2, n):\n",
    "    substrings, total_len = [], 0\n",
    "    for _ in range(n):\n",
    "        lcs = find_longest_common_substring(s1, s2)\n",
    "        if not lcs: break\n",
    "        substrings.append((lcs, len(lcs) / len(s1)))\n",
    "        total_len += len(lcs)\n",
    "        s1 = s1.replace(lcs, '')\n",
    "        s2 = s2.replace(lcs, '')\n",
    "    return substrings, total_len / len(s1)/ 10 \n",
    "\n",
    "s1 = \"por ejemplo si hago eso, ya no, es plagio\"\n",
    "s2 = \"por ejemplo si hago eso, es plagio, no\"\n",
    "print(find_n_longest_common_substrings(s1, s2, 3))"
   ]
  },
  {
   "cell_type": "code",
   "execution_count": null,
   "metadata": {},
   "outputs": [],
   "source": [
    "def find_n_longest_common_substrings_with_percentages(str1, str2, n):\n",
    "    longest_substrings = []\n",
    "    total_length = 0\n",
    "    while len(longest_substrings) < n:\n",
    "        longest_substring = find_longest_common_substring(str1, str2)\n",
    "        if longest_substring == '':\n",
    "            break\n",
    "        percentage = (len(longest_substring) / len(str1)) * 100\n",
    "        longest_substrings.append((longest_substring, percentage))\n",
    "        total_length += len(longest_substring)\n",
    "        str1 = str1.replace(longest_substring, '')\n",
    "        str2 = str2.replace(longest_substring, '')\n",
    "    total_percentage = (total_length / len(str1)) * 100\n",
    "    return longest_substrings, total_percentage"
   ]
  },
  {
   "cell_type": "code",
   "execution_count": 3,
   "metadata": {},
   "outputs": [
    {
     "name": "stdout",
     "output_type": "stream",
     "text": [
      "['hell', 'ello', 'l', 'hello']\n"
     ]
    }
   ],
   "source": [
    "def find_common_substrings(base_string, other_strings):\n",
    "    common_substrings = []\n",
    "    for string in other_strings:\n",
    "        common_substring = find_longest_common_substring(base_string, string)\n",
    "        common_substrings.append(common_substring)\n",
    "    return common_substrings\n",
    "\n",
    "base_string = \"hello\"\n",
    "other_strings = [\"hell\", \"ello\", \"world\", \"hello world\"]\n",
    "print(find_common_substrings(base_string, other_strings))"
   ]
  },
  {
   "cell_type": "code",
   "execution_count": 12,
   "metadata": {},
   "outputs": [
    {
     "name": "stdout",
     "output_type": "stream",
     "text": [
      "\n"
     ]
    }
   ],
   "source": [
    "def find_nth_longest_common_substring(str1, str2, n):\n",
    "    i = 1\n",
    "    while i <= n:\n",
    "        longest_substring = find_longest_common_substring(str1, str2)\n",
    "        str1 = str1.replace(longest_substring, '')\n",
    "        str2 = str2.replace(longest_substring, '')\n",
    "        i += 1\n",
    "    return longest_substring\n",
    "\n",
    "str1 = \"hello\"\n",
    "str2 = \"hell\"\n",
    "print(find_nth_longest_common_substring(str1, str2, 2))"
   ]
  },
  {
   "cell_type": "code",
   "execution_count": 6,
   "metadata": {},
   "outputs": [
    {
     "name": "stdout",
     "output_type": "stream",
     "text": [
      "\n"
     ]
    }
   ],
   "source": []
  }
 ],
 "metadata": {
  "kernelspec": {
   "display_name": "Python 3",
   "language": "python",
   "name": "python3"
  },
  "language_info": {
   "codemirror_mode": {
    "name": "ipython",
    "version": 3
   },
   "file_extension": ".py",
   "mimetype": "text/x-python",
   "name": "python",
   "nbconvert_exporter": "python",
   "pygments_lexer": "ipython3",
   "version": "3.12.1"
  }
 },
 "nbformat": 4,
 "nbformat_minor": 2
}
