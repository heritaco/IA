{
 "cells": [
  {
   "cell_type": "code",
   "execution_count": 1,
   "metadata": {},
   "outputs": [],
   "source": [
    "\"\"\"FC3 Genetic Alorithm from El Rosario to Consulado\"\"\"\n",
    "\n",
    "import random\n",
    "from typing import List, Tuple\n",
    "\n",
    "\n",
    "class Ruta:\n",
    "    \"\"\"Clase para representar una ruta entre dos puntos de la ciudad\"\"\"\n",
    "    def __init__(self, a: str, b: str, time: int, linea: str):\n",
    "        self.start = a\n",
    "        self.end = b\n",
    "        self.time = time\n",
    "        self.linea = linea\n",
    "\n",
    "    def __str__(self):\n",
    "        return f'Ruta: de {self.start} a {self.end} (Linea {self.linea})'\n",
    "\n",
    "estaciones = [\n",
    "    \"Atlalilco\",          # 0\n",
    "    \"Balderas\",           # 1\n",
    "    \"Barranca del Muerto\",  # 2\n",
    "    \"Bellas Artes\",       # 3\n",
    "    \"Candelaria\",         # 4\n",
    "    \"Centro Médico\",      # 5\n",
    "    \"Chabacano\",          # 6\n",
    "    \"Ciudad Azteca\",      # 7\n",
    "    \"Consulado\",          # 8\n",
    "    \"Cuatro Caminos\",     # 9\n",
    "    \"Deportivo 18 de Marzo\",  # 10\n",
    "    \"El Rosario\",         # 11\n",
    "    \"Ermita\",             # 12\n",
    "    \"Garibaldi\",          # 13\n",
    "    \"Gómez Farías\",       # 14\n",
    "    \"Guerrero\",           # 15\n",
    "    \"Hidalgo\",            # 16\n",
    "    \"Indios Verdes\",      # 17\n",
    "    \"Instituto del Petroleo\",  # 18\n",
    "    \"Jamaica\",            # 19\n",
    "    \"La Raza\",            # 20\n",
    "    \"Martín Carrera\",     # 21\n",
    "    \"Mixcoac\",            # 22\n",
    "    \"Morelos\",            # 23\n",
    "    \"Oceanía\",            # 24\n",
    "    \"Pantitlán\",          # 25\n",
    "    \"Pino Suárez\",        # 26\n",
    "    \"Politécnico\",        # 27\n",
    "    \"Salto del Agua\",     # 28\n",
    "    \"San Lázaro\",         # 29\n",
    "    \"Tacuba\",             # 30\n",
    "    \"Tacubaya\",           # 31\n",
    "    \"Tasqueña\",           # 32\n",
    "    \"Tláhuac\",            # 33\n",
    "    \"Universidad\",        # 34\n",
    "    \"Zapata\"              # 35\n",
    "]\n",
    "\n",
    "\n",
    "rutas = [\n",
    "    Ruta(estaciones[3], estaciones[8], 1, '1'),\n",
    "    Ruta(estaciones[2], estaciones[12], 10, '2'),\n",
    "    Ruta(estaciones[2], estaciones[3], 1, '3'),\n",
    "    Ruta(estaciones[2], estaciones[8], 100, '4'),\n",
    "    Ruta(estaciones[1], estaciones[2], 1, '5'),\n",
    "    Ruta(estaciones[11], estaciones[16], 10, '6'),\n",
    "    Ruta(estaciones[16], estaciones [8], 3, '7'),\n",
    "    Ruta(estaciones[18], estaciones[20], 1, '8'),\n",
    "    Ruta(estaciones[20], estaciones[8], 1, '9'),\n",
    "    Ruta(estaciones[20], estaciones[10], 3, '10'),\n",
    "    Ruta(estaciones[8], estaciones[3], 1, '1'),\n",
    "    Ruta(estaciones[12], estaciones[2], 10, '2'),\n",
    "    Ruta(estaciones[3], estaciones[2], 1, '3'),\n",
    "    Ruta(estaciones[8], estaciones[2], 100, '4'),\n",
    "    Ruta(estaciones[2], estaciones[1], 1, '5'),\n",
    "    Ruta(estaciones[16], estaciones[11], 10, '6'),\n",
    "    Ruta(estaciones[8], estaciones[16], 3, '7'),\n",
    "    Ruta(estaciones[20], estaciones[18], 1, '8'),\n",
    "    Ruta(estaciones[8], estaciones[20], 1, '9'),\n",
    "    Ruta(estaciones[10], estaciones[20], 3, '10')]"
   ]
  },
  {
   "cell_type": "code",
   "execution_count": 2,
   "metadata": {},
   "outputs": [],
   "source": [
    "\n",
    "start_point = 'Balderas'\n",
    "end_point = 'Consulado'\n",
    "size_pop = 5\n",
    "num_generations = 10\n",
    "elite_size = 1\n",
    "mutation_rate = 0\n",
    "# Genome"
   ]
  },
  {
   "cell_type": "code",
   "execution_count": 124,
   "metadata": {},
   "outputs": [
    {
     "name": "stdout",
     "output_type": "stream",
     "text": [
      " El tiempo fue de: 3, Rutas disponibles tomadas: [4, 2, 0], Las estaciones fueron de: [('Balderas', 'Barranca del Muerto'), ('Barranca del Muerto', 'Bellas Artes'), ('Bellas Artes', 'Consulado')], en las lineas: ['5', '3', '1'],\n"
     ]
    }
   ],
   "source": [
    "\n",
    "Genome = [List[int], int, List[str], List[Tuple[str, str]]]\n",
    "# List of indexes, time, lineas, stages\n",
    "\n",
    "def generate_genome(rutas: List[Ruta], start_point: str, end_point: str) -> Genome:\n",
    "    current_point = start_point\n",
    "    indexes = []\n",
    "    stages = []\n",
    "    while current_point != end_point:\n",
    "        available_routes = [i for i, ruta in enumerate(rutas) if current_point == ruta.start]\n",
    "        if not available_routes:\n",
    "            raise ValueError(f\"No available routes from {current_point}\")\n",
    "        i = random.choice(available_routes)\n",
    "        indexes.append(i)\n",
    "        next_point = rutas[i].end\n",
    "        stages.append((current_point, next_point))\n",
    "        current_point = next_point\n",
    "    time = sum(rutas[i].time for i in indexes)\n",
    "    lineas = [rutas[i].linea for i in indexes]\n",
    "    genome_str = f\" El tiempo fue de: {time}, Rutas disponibles tomadas: {indexes}, Las estaciones fueron de: {stages}, en las lineas: {lineas},\"\n",
    "    return indexes, time, lineas, stages, genome_str\n",
    "\n",
    "genome = generate_genome(rutas, start_point, end_point)\n",
    "print(genome[4])"
   ]
  },
  {
   "cell_type": "code",
   "execution_count": 131,
   "metadata": {},
   "outputs": [
    {
     "name": "stdout",
     "output_type": "stream",
     "text": [
      "([4, 14, 4, 2, 0], 5, ['5', '5', '5', '3', '1'], [('Balderas', 'Barranca del Muerto'), ('Barranca del Muerto', 'Balderas'), ('Balderas', 'Barranca del Muerto'), ('Barranca del Muerto', 'Bellas Artes'), ('Bellas Artes', 'Consulado')], \" El tiempo fue de: 5, Rutas disponibles tomadas: [4, 14, 4, 2, 0], Las estaciones fueron de: [('Balderas', 'Barranca del Muerto'), ('Barranca del Muerto', 'Balderas'), ('Balderas', 'Barranca del Muerto'), ('Barranca del Muerto', 'Bellas Artes'), ('Bellas Artes', 'Consulado')], en las lineas: ['5', '5', '5', '3', '1'],\")\n",
      "([4, 14, 4, 3], 103, ['5', '5', '5', '4'], [('Balderas', 'Barranca del Muerto'), ('Barranca del Muerto', 'Balderas'), ('Balderas', 'Barranca del Muerto'), ('Barranca del Muerto', 'Consulado')], \" El tiempo fue de: 103, Rutas disponibles tomadas: [4, 14, 4, 3], Las estaciones fueron de: [('Balderas', 'Barranca del Muerto'), ('Barranca del Muerto', 'Balderas'), ('Balderas', 'Barranca del Muerto'), ('Barranca del Muerto', 'Consulado')], en las lineas: ['5', '5', '5', '4'],\")\n",
      "([4, 1, 11, 2, 0], 23, ['5', '2', '2', '3', '1'], [('Balderas', 'Barranca del Muerto'), ('Barranca del Muerto', 'Ermita'), ('Ermita', 'Barranca del Muerto'), ('Barranca del Muerto', 'Bellas Artes'), ('Bellas Artes', 'Consulado')], \" El tiempo fue de: 23, Rutas disponibles tomadas: [4, 1, 11, 2, 0], Las estaciones fueron de: [('Balderas', 'Barranca del Muerto'), ('Barranca del Muerto', 'Ermita'), ('Ermita', 'Barranca del Muerto'), ('Barranca del Muerto', 'Bellas Artes'), ('Bellas Artes', 'Consulado')], en las lineas: ['5', '2', '2', '3', '1'],\")\n",
      "([4, 1, 11, 14, 4, 2, 0], 25, ['5', '2', '2', '5', '5', '3', '1'], [('Balderas', 'Barranca del Muerto'), ('Barranca del Muerto', 'Ermita'), ('Ermita', 'Barranca del Muerto'), ('Barranca del Muerto', 'Balderas'), ('Balderas', 'Barranca del Muerto'), ('Barranca del Muerto', 'Bellas Artes'), ('Bellas Artes', 'Consulado')], \" El tiempo fue de: 25, Rutas disponibles tomadas: [4, 1, 11, 14, 4, 2, 0], Las estaciones fueron de: [('Balderas', 'Barranca del Muerto'), ('Barranca del Muerto', 'Ermita'), ('Ermita', 'Barranca del Muerto'), ('Barranca del Muerto', 'Balderas'), ('Balderas', 'Barranca del Muerto'), ('Barranca del Muerto', 'Bellas Artes'), ('Bellas Artes', 'Consulado')], en las lineas: ['5', '2', '2', '5', '5', '3', '1'],\")\n",
      "([4, 3], 101, ['5', '4'], [('Balderas', 'Barranca del Muerto'), ('Barranca del Muerto', 'Consulado')], \" El tiempo fue de: 101, Rutas disponibles tomadas: [4, 3], Las estaciones fueron de: [('Balderas', 'Barranca del Muerto'), ('Barranca del Muerto', 'Consulado')], en las lineas: ['5', '4'],\")\n"
     ]
    }
   ],
   "source": [
    "# Population\n",
    "Population = List[Genome]\n",
    "\n",
    "def generate_population(rutas: List[Ruta], size_pop) -> Population:\n",
    "    \"\"\"function to generate a population of genomes\"\"\"\n",
    "    return [generate_genome(rutas, start_point, end_point) for _ in range(size_pop)]\n",
    "\n",
    "population = generate_population(rutas, size_pop)\n",
    "print('\\n'.join(map(str, population)))"
   ]
  },
  {
   "cell_type": "code",
   "execution_count": 117,
   "metadata": {},
   "outputs": [],
   "source": [
    "def fitness(genome: Genome, rutas: List[Ruta]) -> float:\n",
    "    \"\"\"function to calculate the fitness of a genome\"\"\"\n",
    "    time = genome[1]  # genome[1] is the total time\n",
    "    value = 1/time if time != 0 else 0  # Avoid division by zero\n",
    "    return value"
   ]
  },
  {
   "cell_type": "code",
   "execution_count": 118,
   "metadata": {},
   "outputs": [
    {
     "name": "stdout",
     "output_type": "stream",
     "text": [
      "\n",
      "Fitness values:\n",
      "0.009708737864077669\n",
      "0.009708737864077669\n",
      "0.009345794392523364\n",
      "0.015384615384615385\n",
      "0.009900990099009901\n",
      "\n",
      "Fitness values afer sorting:\n",
      "0.015384615384615385\n",
      "0.009900990099009901\n",
      "0.009708737864077669\n",
      "0.009708737864077669\n",
      "0.009345794392523364\n",
      "\n",
      "Best genomes:\n",
      "(([4, 1, 11, 1, 11, 1, 11, 14, 4, 2, 0], 65, ['5', '2', '2', '2', '2', '2', '2', '5', '5', '3', '1'], [('Balderas', 'Barranca del Muerto'), ('Barranca del Muerto', 'Ermita'), ('Ermita', 'Barranca del Muerto'), ('Barranca del Muerto', 'Ermita'), ('Ermita', 'Barranca del Muerto'), ('Barranca del Muerto', 'Ermita'), ('Ermita', 'Barranca del Muerto'), ('Barranca del Muerto', 'Balderas'), ('Balderas', 'Barranca del Muerto'), ('Barranca del Muerto', 'Bellas Artes'), ('Bellas Artes', 'Consulado')], \" El tiempo fue de: 65, Rutas disponibles tomadas: [4, 1, 11, 1, 11, 1, 11, 14, 4, 2, 0], Las estaciones fueron de: [('Balderas', 'Barranca del Muerto'), ('Barranca del Muerto', 'Ermita'), ('Ermita', 'Barranca del Muerto'), ('Barranca del Muerto', 'Ermita'), ('Ermita', 'Barranca del Muerto'), ('Barranca del Muerto', 'Ermita'), ('Ermita', 'Barranca del Muerto'), ('Barranca del Muerto', 'Balderas'), ('Balderas', 'Barranca del Muerto'), ('Barranca del Muerto', 'Bellas Artes'), ('Bellas Artes', 'Consulado')], en las lineas: ['5', '2', '2', '2', '2', '2', '2', '5', '5', '3', '1'],\"), 0.015384615384615385)\n"
     ]
    }
   ],
   "source": [
    "def elitism(population: Population, rutas: List[Ruta], elite_size: int) -> Population:\n",
    "    \"\"\"function to carry over the top individuals to the next generation\"\"\"\n",
    "    fitness_values = [(genome, fitness(genome, rutas)) for genome in population]\n",
    "    sorted_by_fitness = sorted(fitness_values, key=lambda x: x[1], reverse=True)\n",
    "    elite = [genome for genome in sorted_by_fitness[:elite_size]]\n",
    "    return elite, fitness_values, sorted_by_fitness\n",
    "\n",
    "elite, fitness_values, sorted_by_fitness = elitism(population, rutas, elite_size)\n",
    "\n",
    "print(\"\\nFitness values:\")\n",
    "for i, genome in enumerate(population):\n",
    "    print(fitness_values[i][1])\n",
    "\n",
    "print(\"\\nFitness values afer sorting:\")\n",
    "for i, genome in enumerate(population):\n",
    "    print(sorted_by_fitness[i][1])\n",
    "\n",
    "print(\"\\nBest genomes:\")\n",
    "for genome in elite:\n",
    "    print(genome)"
   ]
  },
  {
   "cell_type": "markdown",
   "metadata": {},
   "source": [
    "No tengo idea como hacer el crossover, supongo que cuando haya un punto en comun, pero pueden tomar muchos muchos muchos caminos, mejor solo usamos elitismo"
   ]
  },
  {
   "cell_type": "code",
   "execution_count": 164,
   "metadata": {},
   "outputs": [
    {
     "name": "stdout",
     "output_type": "stream",
     "text": [
      "\n",
      "Original genome:\n",
      "([4, 14, 4, 2, 0], 5, ['5', '5', '5', '3', '1'], [('Balderas', 'Barranca del Muerto'), ('Barranca del Muerto', 'Balderas'), ('Balderas', 'Barranca del Muerto'), ('Barranca del Muerto', 'Bellas Artes'), ('Bellas Artes', 'Consulado')], \" El tiempo fue de: 5, Rutas disponibles tomadas: [4, 14, 4, 2, 0], Las estaciones fueron de: [('Balderas', 'Barranca del Muerto'), ('Barranca del Muerto', 'Balderas'), ('Balderas', 'Barranca del Muerto'), ('Barranca del Muerto', 'Bellas Artes'), ('Bellas Artes', 'Consulado')], en las lineas: ['5', '5', '5', '3', '1'],\")\n",
      "\n",
      "Mutated genome:\n",
      "[[4, 3], 101, ['5', '4'], [('Balderas', 'Barranca del Muerto'), ('Barranca del Muerto', 'Consulado')], \" El tiempo fue de: 101, Rutas disponibles tomadas: [4, 3], Las estaciones fueron de: [('Balderas', 'Barranca del Muerto'), ('Barranca del Muerto', 'Consulado')], en las lineas: ['5', '4'],\"]\n"
     ]
    }
   ],
   "source": [
    "\n",
    "# Luego, donde llamas a mutate_genome, asegúrate de pasar index_to_mutate como argumento:\n",
    "index_to_mutate = random.randint(0, len(genome[0]) - 1)\n",
    "\n",
    "def mutate_genome(genome: Genome, rutas: List[Ruta], start_point: str, end_point: str, index_to_mutate: int) -> Genome:\n",
    "    \"\"\"function to mutate a genome\"\"\"\n",
    "    new_start_point = rutas[genome[0][index_to_mutate - 1]].end\n",
    "    # Generate a new route\n",
    "    new_route = generate_genome(rutas, new_start_point, end_point)\n",
    "    # Rest of the function...\n",
    "\n",
    "    # Create the new genome\n",
    "    new_genome = list(genome)\n",
    "    new_genome[0] = new_genome[0][:index_to_mutate] + new_route[0]\n",
    "    new_genome[1] = sum(rutas[i].time for i in new_genome[0])\n",
    "    new_genome[2] = [rutas[i].linea for i in new_genome[0]]\n",
    "    new_genome[3] = [(rutas[i].start, rutas[i].end) for i in new_genome[0]]\n",
    "    new_genome[4] = f\" El tiempo fue de: {new_genome[1]}, Rutas disponibles tomadas: {new_genome[0]}, Las estaciones fueron de: {new_genome[3]}, en las lineas: {new_genome[2]},\"\n",
    "    \n",
    "    return (new_genome)\n",
    "\n",
    "print(\"\\nOriginal genome:\")\n",
    "print(population[0])\n",
    "\n",
    "print(\"\\nMutated genome:\")\n",
    "print(mutate_genome(population[0], rutas, start_point, end_point, index_to_mutate))\n"
   ]
  },
  {
   "cell_type": "code",
   "execution_count": 165,
   "metadata": {},
   "outputs": [
    {
     "name": "stdout",
     "output_type": "stream",
     "text": [
      "\n",
      "Original genome:\n",
      "([4, 14, 4, 2, 0], 5, ['5', '5', '5', '3', '1'], [('Balderas', 'Barranca del Muerto'), ('Barranca del Muerto', 'Balderas'), ('Balderas', 'Barranca del Muerto'), ('Barranca del Muerto', 'Bellas Artes'), ('Bellas Artes', 'Consulado')], \" El tiempo fue de: 5, Rutas disponibles tomadas: [4, 14, 4, 2, 0], Las estaciones fueron de: [('Balderas', 'Barranca del Muerto'), ('Barranca del Muerto', 'Balderas'), ('Balderas', 'Barranca del Muerto'), ('Barranca del Muerto', 'Bellas Artes'), ('Bellas Artes', 'Consulado')], en las lineas: ['5', '5', '5', '3', '1'],\")\n",
      "\n",
      "Mutated genome:\n",
      "[[4, 14, 4, 3], 103, ['5', '5', '5', '4'], [('Balderas', 'Barranca del Muerto'), ('Barranca del Muerto', 'Balderas'), ('Balderas', 'Barranca del Muerto'), ('Barranca del Muerto', 'Consulado')], \" El tiempo fue de: 103, Rutas disponibles tomadas: [4, 14, 4, 3], Las estaciones fueron de: [('Balderas', 'Barranca del Muerto'), ('Barranca del Muerto', 'Balderas'), ('Balderas', 'Barranca del Muerto'), ('Barranca del Muerto', 'Consulado')], en las lineas: ['5', '5', '5', '4'],\"]\n"
     ]
    }
   ],
   "source": [
    "def mutate_genome(genome: Genome, rutas: List[Ruta], start_point: str, end_point: str, index_to_mutate: int) -> Genome:\n",
    "    \"\"\"function to mutate a genome\"\"\"\n",
    "    new_start_point = rutas[genome[0][index_to_mutate - 1]].end\n",
    "    # Generate a new route\n",
    "    new_route = generate_genome(rutas, new_start_point, end_point)\n",
    "    # Rest of the function...\n",
    "\n",
    "    # Create the new genome\n",
    "    new_genome = list(genome)\n",
    "    new_genome[0] = new_genome[0][:index_to_mutate] + new_route[0]\n",
    "    new_genome[1] = sum(rutas[i].time for i in new_genome[0])\n",
    "    new_genome[2] = [rutas[i].linea for i in new_genome[0]]\n",
    "    new_genome[3] = [(rutas[i].start, rutas[i].end) for i in new_genome[0]]\n",
    "    new_genome[4] = f\" El tiempo fue de: {new_genome[1]}, Rutas disponibles tomadas: {new_genome[0]}, Las estaciones fueron de: {new_genome[3]}, en las lineas: {new_genome[2]},\"\n",
    "    \n",
    "    return (new_genome)\n",
    "\n",
    "print(\"\\nOriginal genome:\")\n",
    "print(population[0])\n",
    "\n",
    "index_to_mutate = random.randint(1, len(population[0][0]) - 1)\n",
    "print(\"\\nMutated genome:\")\n",
    "print(mutate_genome(population[0], rutas, start_point, end_point, index_to_mutate))"
   ]
  },
  {
   "cell_type": "code",
   "execution_count": 166,
   "metadata": {},
   "outputs": [
    {
     "name": "stdout",
     "output_type": "stream",
     "text": [
      "\n",
      "Mutated genome with best fitness score:\n",
      "[[4, 14, 4, 1, 11, 3], 123, ['5', '5', '5', '2', '2', '4'], [('Balderas', 'Barranca del Muerto'), ('Barranca del Muerto', 'Balderas'), ('Balderas', 'Barranca del Muerto'), ('Barranca del Muerto', 'Ermita'), ('Ermita', 'Barranca del Muerto'), ('Barranca del Muerto', 'Consulado')], \" El tiempo fue de: 123, Rutas disponibles tomadas: [4, 14, 4, 1, 11, 3], Las estaciones fueron de: [('Balderas', 'Barranca del Muerto'), ('Barranca del Muerto', 'Balderas'), ('Balderas', 'Barranca del Muerto'), ('Barranca del Muerto', 'Ermita'), ('Ermita', 'Barranca del Muerto'), ('Barranca del Muerto', 'Consulado')], en las lineas: ['5', '5', '5', '2', '2', '4'],\"]\n"
     ]
    }
   ],
   "source": [
    "def mutate_best_genome(population: Population, rutas: List[Ruta], start_point: str, end_point: str, index_to_mutate) -> Genome:\n",
    "    \"\"\"function to mutate the genome with the best fitness score\"\"\"\n",
    "    # Calculate fitness scores for the population\n",
    "    fitness_scores = [fitness(genome, rutas) for genome in population]\n",
    "    \n",
    "    # Identify the genome with the best fitness score\n",
    "    best_genome = population[fitness_scores.index(max(fitness_scores))]\n",
    "\n",
    "    # Mutate the best genome\n",
    "    mutated_best_genome = mutate_genome(best_genome, rutas, start_point, end_point, index_to_mutate)\n",
    "\n",
    "    return mutated_best_genome\n",
    "\n",
    "print(\"\\nMutated genome with best fitness score:\")\n",
    "print(mutate_best_genome(population, rutas, start_point, end_point, index_to_mutate))"
   ]
  },
  {
   "cell_type": "code",
   "execution_count": 167,
   "metadata": {},
   "outputs": [
    {
     "name": "stdout",
     "output_type": "stream",
     "text": [
      "Valor de genome: ([4, 2, 0], 3, ['5', '3', '1'], [('Balderas', 'Barranca del Muerto'), ('Barranca del Muerto', 'Bellas Artes'), ('Bellas Artes', 'Consulado')], \" El tiempo fue de: 3, Rutas disponibles tomadas: [4, 2, 0], Las estaciones fueron de: [('Balderas', 'Barranca del Muerto'), ('Barranca del Muerto', 'Bellas Artes'), ('Bellas Artes', 'Consulado')], en las lineas: ['5', '3', '1'],\")\n",
      "Valor de genome[0]: [4, 2, 0]\n",
      "Valor de index_to_mutate: 3\n",
      "Valor de index_to_mutate - 1: 2\n",
      "Valor de genome[0][index_to_mutate - 1]: 0\n"
     ]
    }
   ],
   "source": [
    "print(\"Valor de genome:\", genome)\n",
    "print(\"Valor de genome[0]:\", genome[0])\n",
    "print(\"Valor de index_to_mutate:\", index_to_mutate)\n",
    "print(\"Valor de index_to_mutate - 1:\", index_to_mutate - 1)\n",
    "print(\"Valor de genome[0][index_to_mutate - 1]:\", genome[0][index_to_mutate - 1])\n"
   ]
  },
  {
   "cell_type": "code",
   "execution_count": 168,
   "metadata": {},
   "outputs": [
    {
     "name": "stdout",
     "output_type": "stream",
     "text": [
      "Valor de index_to_mutate: 3\n",
      "Valor de genome[0][index_to_mutate - 1]: 0\n"
     ]
    }
   ],
   "source": [
    "print(\"Valor de index_to_mutate:\", index_to_mutate)\n",
    "print(\"Valor de genome[0][index_to_mutate - 1]:\", genome[0][index_to_mutate - 1])\n"
   ]
  },
  {
   "cell_type": "code",
   "execution_count": 169,
   "metadata": {},
   "outputs": [
    {
     "ename": "TypeError",
     "evalue": "list indices must be integers or slices, not list",
     "output_type": "error",
     "traceback": [
      "\u001b[1;31m---------------------------------------------------------------------------\u001b[0m",
      "\u001b[1;31mTypeError\u001b[0m                                 Traceback (most recent call last)",
      "Cell \u001b[1;32mIn[169], line 12\u001b[0m\n\u001b[0;32m      9\u001b[0m     new_population \u001b[38;5;241m=\u001b[39m \u001b[38;5;28mlist\u001b[39m(elite) \u001b[38;5;241m+\u001b[39m mutations\n\u001b[0;32m     10\u001b[0m     \u001b[38;5;28;01mreturn\u001b[39;00m new_population\n\u001b[1;32m---> 12\u001b[0m new_population \u001b[38;5;241m=\u001b[39m \u001b[43mcreate_new_population\u001b[49m\u001b[43m(\u001b[49m\u001b[43mpopulation\u001b[49m\u001b[43m,\u001b[49m\u001b[43m \u001b[49m\u001b[43mrutas\u001b[49m\u001b[43m,\u001b[49m\u001b[43m \u001b[49m\u001b[43melite_size\u001b[49m\u001b[43m,\u001b[49m\u001b[43m \u001b[49m\u001b[43mmutation_rate\u001b[49m\u001b[43m)\u001b[49m\n\u001b[0;32m     14\u001b[0m \u001b[38;5;28mprint\u001b[39m(\u001b[38;5;124m\"\u001b[39m\u001b[38;5;130;01m\\n\u001b[39;00m\u001b[38;5;124mNew population:\u001b[39m\u001b[38;5;124m\"\u001b[39m)\n\u001b[0;32m     15\u001b[0m \u001b[38;5;28mprint\u001b[39m(\u001b[38;5;124m'\u001b[39m\u001b[38;5;130;01m\\n\u001b[39;00m\u001b[38;5;124m'\u001b[39m\u001b[38;5;241m.\u001b[39mjoin(\u001b[38;5;28mmap\u001b[39m(\u001b[38;5;28mstr\u001b[39m, new_population)))\n",
      "Cell \u001b[1;32mIn[169], line 7\u001b[0m, in \u001b[0;36mcreate_new_population\u001b[1;34m(population, rutas, elite_size, mutation_rate)\u001b[0m\n\u001b[0;32m      5\u001b[0m elite \u001b[38;5;241m=\u001b[39m elitism(population, rutas, elite_size)\n\u001b[0;32m      6\u001b[0m \u001b[38;5;66;03m# Generate mutations of the elite individuals\u001b[39;00m\n\u001b[1;32m----> 7\u001b[0m mutations \u001b[38;5;241m=\u001b[39m [\u001b[43mmutate_best_genome\u001b[49m\u001b[43m(\u001b[49m\u001b[43mgenome\u001b[49m\u001b[43m,\u001b[49m\u001b[43m \u001b[49m\u001b[43mrutas\u001b[49m\u001b[43m,\u001b[49m\u001b[43m \u001b[49m\u001b[43mstart_point\u001b[49m\u001b[43m,\u001b[49m\u001b[43m \u001b[49m\u001b[43mend_point\u001b[49m\u001b[43m,\u001b[49m\u001b[43m \u001b[49m\u001b[43mindex_to_mutate\u001b[49m\u001b[43m)\u001b[49m \u001b[38;5;28;01mfor\u001b[39;00m genome \u001b[38;5;129;01min\u001b[39;00m elite \u001b[38;5;28;01mif\u001b[39;00m random\u001b[38;5;241m.\u001b[39mrandom() \u001b[38;5;241m<\u001b[39m mutation_rate]\n\u001b[0;32m      8\u001b[0m \u001b[38;5;66;03m# Create the new population\u001b[39;00m\n\u001b[0;32m      9\u001b[0m new_population \u001b[38;5;241m=\u001b[39m \u001b[38;5;28mlist\u001b[39m(elite) \u001b[38;5;241m+\u001b[39m mutations\n",
      "Cell \u001b[1;32mIn[166], line 10\u001b[0m, in \u001b[0;36mmutate_best_genome\u001b[1;34m(population, rutas, start_point, end_point, index_to_mutate)\u001b[0m\n\u001b[0;32m      7\u001b[0m best_genome \u001b[38;5;241m=\u001b[39m population[fitness_scores\u001b[38;5;241m.\u001b[39mindex(\u001b[38;5;28mmax\u001b[39m(fitness_scores))]\n\u001b[0;32m      9\u001b[0m \u001b[38;5;66;03m# Mutate the best genome\u001b[39;00m\n\u001b[1;32m---> 10\u001b[0m mutated_best_genome \u001b[38;5;241m=\u001b[39m \u001b[43mmutate_genome\u001b[49m\u001b[43m(\u001b[49m\u001b[43mbest_genome\u001b[49m\u001b[43m,\u001b[49m\u001b[43m \u001b[49m\u001b[43mrutas\u001b[49m\u001b[43m,\u001b[49m\u001b[43m \u001b[49m\u001b[43mstart_point\u001b[49m\u001b[43m,\u001b[49m\u001b[43m \u001b[49m\u001b[43mend_point\u001b[49m\u001b[43m,\u001b[49m\u001b[43m \u001b[49m\u001b[43mindex_to_mutate\u001b[49m\u001b[43m)\u001b[49m\n\u001b[0;32m     12\u001b[0m \u001b[38;5;28;01mreturn\u001b[39;00m mutated_best_genome\n",
      "Cell \u001b[1;32mIn[165], line 3\u001b[0m, in \u001b[0;36mmutate_genome\u001b[1;34m(genome, rutas, start_point, end_point, index_to_mutate)\u001b[0m\n\u001b[0;32m      1\u001b[0m \u001b[38;5;28;01mdef\u001b[39;00m \u001b[38;5;21mmutate_genome\u001b[39m(genome: Genome, rutas: List[Ruta], start_point: \u001b[38;5;28mstr\u001b[39m, end_point: \u001b[38;5;28mstr\u001b[39m, index_to_mutate: \u001b[38;5;28mint\u001b[39m) \u001b[38;5;241m-\u001b[39m\u001b[38;5;241m>\u001b[39m Genome:\n\u001b[0;32m      2\u001b[0m \u001b[38;5;250m    \u001b[39m\u001b[38;5;124;03m\"\"\"function to mutate a genome\"\"\"\u001b[39;00m\n\u001b[1;32m----> 3\u001b[0m     new_start_point \u001b[38;5;241m=\u001b[39m \u001b[43mrutas\u001b[49m\u001b[43m[\u001b[49m\u001b[43mgenome\u001b[49m\u001b[43m[\u001b[49m\u001b[38;5;241;43m0\u001b[39;49m\u001b[43m]\u001b[49m\u001b[43m[\u001b[49m\u001b[43mindex_to_mutate\u001b[49m\u001b[43m \u001b[49m\u001b[38;5;241;43m-\u001b[39;49m\u001b[43m \u001b[49m\u001b[38;5;241;43m1\u001b[39;49m\u001b[43m]\u001b[49m\u001b[43m]\u001b[49m\u001b[38;5;241m.\u001b[39mend\n\u001b[0;32m      4\u001b[0m     \u001b[38;5;66;03m# Generate a new route\u001b[39;00m\n\u001b[0;32m      5\u001b[0m     new_route \u001b[38;5;241m=\u001b[39m generate_genome(rutas, new_start_point, end_point)\n",
      "\u001b[1;31mTypeError\u001b[0m: list indices must be integers or slices, not list"
     ]
    }
   ],
   "source": [
    "mutation_rate = 1\n",
    "def create_new_population(population: Population, rutas: List[Ruta], elite_size: int, mutation_rate: float) -> Population:\n",
    "    \"\"\"function to create a new population\"\"\"\n",
    "    # Select the elite individuals\n",
    "    elite = elitism(population, rutas, elite_size)\n",
    "    # Generate mutations of the elite individuals\n",
    "    mutations = [mutate_best_genome(genome, rutas, start_point, end_point, index_to_mutate) for genome in elite if random.random() < mutation_rate]\n",
    "    # Create the new population\n",
    "    new_population = list(elite) + mutations\n",
    "    return new_population\n",
    "\n",
    "new_population = create_new_population(population, rutas, elite_size, mutation_rate)\n",
    "\n",
    "print(\"\\nNew population:\")\n",
    "print('\\n'.join(map(str, new_population)))\n",
    "\n"
   ]
  },
  {
   "cell_type": "code",
   "execution_count": 170,
   "metadata": {},
   "outputs": [
    {
     "name": "stdout",
     "output_type": "stream",
     "text": [
      "\n",
      "New population:\n",
      "(([4, 14, 4, 2, 0], 5, ['5', '5', '5', '3', '1'], [('Balderas', 'Barranca del Muerto'), ('Barranca del Muerto', 'Balderas'), ('Balderas', 'Barranca del Muerto'), ('Barranca del Muerto', 'Bellas Artes'), ('Bellas Artes', 'Consulado')], \" El tiempo fue de: 5, Rutas disponibles tomadas: [4, 14, 4, 2, 0], Las estaciones fueron de: [('Balderas', 'Barranca del Muerto'), ('Barranca del Muerto', 'Balderas'), ('Balderas', 'Barranca del Muerto'), ('Barranca del Muerto', 'Bellas Artes'), ('Bellas Artes', 'Consulado')], en las lineas: ['5', '5', '5', '3', '1'],\"), 0.2)\n",
      "([4, 3], 101, ['5', '4'], [('Balderas', 'Barranca del Muerto'), ('Barranca del Muerto', 'Consulado')], \" El tiempo fue de: 101, Rutas disponibles tomadas: [4, 3], Las estaciones fueron de: [('Balderas', 'Barranca del Muerto'), ('Barranca del Muerto', 'Consulado')], en las lineas: ['5', '4'],\")\n",
      "([4, 3], 101, ['5', '4'], [('Balderas', 'Barranca del Muerto'), ('Barranca del Muerto', 'Consulado')], \" El tiempo fue de: 101, Rutas disponibles tomadas: [4, 3], Las estaciones fueron de: [('Balderas', 'Barranca del Muerto'), ('Barranca del Muerto', 'Consulado')], en las lineas: ['5', '4'],\")\n",
      "([4, 14, 4, 3], 103, ['5', '5', '5', '4'], [('Balderas', 'Barranca del Muerto'), ('Barranca del Muerto', 'Balderas'), ('Balderas', 'Barranca del Muerto'), ('Barranca del Muerto', 'Consulado')], \" El tiempo fue de: 103, Rutas disponibles tomadas: [4, 14, 4, 3], Las estaciones fueron de: [('Balderas', 'Barranca del Muerto'), ('Barranca del Muerto', 'Balderas'), ('Balderas', 'Barranca del Muerto'), ('Barranca del Muerto', 'Consulado')], en las lineas: ['5', '5', '5', '4'],\")\n",
      "([4, 3], 101, ['5', '4'], [('Balderas', 'Barranca del Muerto'), ('Barranca del Muerto', 'Consulado')], \" El tiempo fue de: 101, Rutas disponibles tomadas: [4, 3], Las estaciones fueron de: [('Balderas', 'Barranca del Muerto'), ('Barranca del Muerto', 'Consulado')], en las lineas: ['5', '4'],\")\n",
      "\n",
      "Size of the new population: 5\n",
      "Size of the original population: 5\n"
     ]
    }
   ],
   "source": [
    "def create_new_population(population: Population, rutas: List[Ruta], elite_size: int, mutation_rate: float) -> Population:\n",
    "    \"\"\"function to create a new population\"\"\"\n",
    "    # Select the elite individuals\n",
    "    elite, fitness_values, sorted_by_fitness = elitism(population, rutas, elite_size)\n",
    "    random_genomes = [generate_genome(rutas, start_point, end_point) for _ in range(size_pop - len(elite))]\n",
    "    new_population = (elite) + random_genomes\n",
    "    return new_population\n",
    "\n",
    "new_population = create_new_population(population, rutas, elite_size, mutation_rate)\n",
    "\n",
    "print(\"\\nNew population:\")\n",
    "for genome in new_population:\n",
    "    print(genome)\n",
    "\n",
    "print(\"\\nSize of the new population:\", len(new_population))\n",
    "print(\"Size of the original population:\", len(population))"
   ]
  },
  {
   "cell_type": "code",
   "execution_count": 171,
   "metadata": {},
   "outputs": [
    {
     "name": "stdout",
     "output_type": "stream",
     "text": [
      "\n",
      "New population:\n",
      "[([4, 14, 4, 2, 0], 5, ['5', '5', '5', '3', '1'], [('Balderas', 'Barranca del Muerto'), ('Barranca del Muerto', 'Balderas'), ('Balderas', 'Barranca del Muerto'), ('Barranca del Muerto', 'Bellas Artes'), ('Bellas Artes', 'Consulado')], \" El tiempo fue de: 5, Rutas disponibles tomadas: [4, 14, 4, 2, 0], Las estaciones fueron de: [('Balderas', 'Barranca del Muerto'), ('Barranca del Muerto', 'Balderas'), ('Balderas', 'Barranca del Muerto'), ('Barranca del Muerto', 'Bellas Artes'), ('Bellas Artes', 'Consulado')], en las lineas: ['5', '5', '5', '3', '1'],\")]\n",
      "([4, 2, 12, 1, 11, 3], 123, ['5', '3', '3', '2', '2', '4'], [('Balderas', 'Barranca del Muerto'), ('Barranca del Muerto', 'Bellas Artes'), ('Bellas Artes', 'Barranca del Muerto'), ('Barranca del Muerto', 'Ermita'), ('Ermita', 'Barranca del Muerto'), ('Barranca del Muerto', 'Consulado')], \" El tiempo fue de: 123, Rutas disponibles tomadas: [4, 2, 12, 1, 11, 3], Las estaciones fueron de: [('Balderas', 'Barranca del Muerto'), ('Barranca del Muerto', 'Bellas Artes'), ('Bellas Artes', 'Barranca del Muerto'), ('Barranca del Muerto', 'Ermita'), ('Ermita', 'Barranca del Muerto'), ('Barranca del Muerto', 'Consulado')], en las lineas: ['5', '3', '3', '2', '2', '4'],\")\n",
      "([4, 3], 101, ['5', '4'], [('Balderas', 'Barranca del Muerto'), ('Barranca del Muerto', 'Consulado')], \" El tiempo fue de: 101, Rutas disponibles tomadas: [4, 3], Las estaciones fueron de: [('Balderas', 'Barranca del Muerto'), ('Barranca del Muerto', 'Consulado')], en las lineas: ['5', '4'],\")\n",
      "([4, 14, 4, 14, 4, 3], 105, ['5', '5', '5', '5', '5', '4'], [('Balderas', 'Barranca del Muerto'), ('Barranca del Muerto', 'Balderas'), ('Balderas', 'Barranca del Muerto'), ('Barranca del Muerto', 'Balderas'), ('Balderas', 'Barranca del Muerto'), ('Barranca del Muerto', 'Consulado')], \" El tiempo fue de: 105, Rutas disponibles tomadas: [4, 14, 4, 14, 4, 3], Las estaciones fueron de: [('Balderas', 'Barranca del Muerto'), ('Barranca del Muerto', 'Balderas'), ('Balderas', 'Barranca del Muerto'), ('Barranca del Muerto', 'Balderas'), ('Balderas', 'Barranca del Muerto'), ('Barranca del Muerto', 'Consulado')], en las lineas: ['5', '5', '5', '5', '5', '4'],\")\n",
      "([4, 2, 12, 3], 103, ['5', '3', '3', '4'], [('Balderas', 'Barranca del Muerto'), ('Barranca del Muerto', 'Bellas Artes'), ('Bellas Artes', 'Barranca del Muerto'), ('Barranca del Muerto', 'Consulado')], \" El tiempo fue de: 103, Rutas disponibles tomadas: [4, 2, 12, 3], Las estaciones fueron de: [('Balderas', 'Barranca del Muerto'), ('Barranca del Muerto', 'Bellas Artes'), ('Bellas Artes', 'Barranca del Muerto'), ('Barranca del Muerto', 'Consulado')], en las lineas: ['5', '3', '3', '4'],\")\n",
      "\n",
      "Size of the new population: 5\n",
      "Size of the original population: 5\n"
     ]
    }
   ],
   "source": [
    "def create_new_population(population: Population, rutas: List[Ruta], elite_size: int, mutation_rate: float) -> Population:\n",
    "    \"\"\"function to create a new population\"\"\"\n",
    "    # Select the elite individuals\n",
    "    elite, fitness_values, sorted_by_fitness = elitism(population, rutas, elite_size)\n",
    "    \n",
    "    # Remove the last column of elite\n",
    "    elite = [list(genome[:-1]) for genome in elite]\n",
    "    \n",
    "    random_genomes = [generate_genome(rutas, start_point, end_point) for _ in range(size_pop - len(elite))]\n",
    "    new_population = elite + random_genomes\n",
    "    return new_population\n",
    "\n",
    "new_population = create_new_population(population, rutas, elite_size, mutation_rate)\n",
    "\n",
    "print(\"\\nNew population:\")\n",
    "for genome in new_population:\n",
    "    print(genome)\n",
    "\n",
    "print(\"\\nSize of the new population:\", len(new_population))\n",
    "print(\"Size of the original population:\", len(population))"
   ]
  },
  {
   "cell_type": "code",
   "execution_count": 174,
   "metadata": {},
   "outputs": [
    {
     "ename": "TypeError",
     "evalue": "list indices must be integers or slices, not list",
     "output_type": "error",
     "traceback": [
      "\u001b[1;31m---------------------------------------------------------------------------\u001b[0m",
      "\u001b[1;31mTypeError\u001b[0m                                 Traceback (most recent call last)",
      "Cell \u001b[1;32mIn[174], line 23\u001b[0m\n\u001b[0;32m     20\u001b[0m     \u001b[38;5;28;01mreturn\u001b[39;00m population, best_times\n\u001b[0;32m     22\u001b[0m \u001b[38;5;66;03m# Run the genetic algorithm\u001b[39;00m\n\u001b[1;32m---> 23\u001b[0m final_population, best_times \u001b[38;5;241m=\u001b[39m \u001b[43mgenetic_algorithm\u001b[49m\u001b[43m(\u001b[49m\u001b[43mrutas\u001b[49m\u001b[43m,\u001b[49m\u001b[43m \u001b[49m\u001b[43mpopulation\u001b[49m\u001b[43m,\u001b[49m\u001b[43m \u001b[49m\u001b[43mnum_generations\u001b[49m\u001b[43m,\u001b[49m\u001b[43m \u001b[49m\u001b[43melite_size\u001b[49m\u001b[43m,\u001b[49m\u001b[43m \u001b[49m\u001b[43mmutation_rate\u001b[49m\u001b[43m)\u001b[49m\n\u001b[0;32m     25\u001b[0m \u001b[38;5;66;03m# Print the final population\u001b[39;00m\n\u001b[0;32m     26\u001b[0m \u001b[38;5;28mprint\u001b[39m(\u001b[38;5;124m\"\u001b[39m\u001b[38;5;130;01m\\n\u001b[39;00m\u001b[38;5;124mFinal population:\u001b[39m\u001b[38;5;124m\"\u001b[39m)\n",
      "Cell \u001b[1;32mIn[174], line 13\u001b[0m, in \u001b[0;36mgenetic_algorithm\u001b[1;34m(rutas, population, num_generations, elite_size, mutation_rate)\u001b[0m\n\u001b[0;32m     11\u001b[0m \u001b[38;5;28;01mfor\u001b[39;00m i \u001b[38;5;129;01min\u001b[39;00m \u001b[38;5;28mrange\u001b[39m(\u001b[38;5;28mlen\u001b[39m(population)):\n\u001b[0;32m     12\u001b[0m     \u001b[38;5;28;01mif\u001b[39;00m random\u001b[38;5;241m.\u001b[39mrandom() \u001b[38;5;241m<\u001b[39m mutation_rate:\n\u001b[1;32m---> 13\u001b[0m         population[i] \u001b[38;5;241m=\u001b[39m \u001b[43mmutate_genome\u001b[49m\u001b[43m(\u001b[49m\u001b[43mpopulation\u001b[49m\u001b[43m[\u001b[49m\u001b[43mi\u001b[49m\u001b[43m]\u001b[49m\u001b[43m,\u001b[49m\u001b[43m \u001b[49m\u001b[43mrutas\u001b[49m\u001b[43m,\u001b[49m\u001b[43m \u001b[49m\u001b[43mstart_point\u001b[49m\u001b[43m,\u001b[49m\u001b[43m \u001b[49m\u001b[43mend_point\u001b[49m\u001b[43m,\u001b[49m\u001b[43m \u001b[49m\u001b[43mindex_to_mutate\u001b[49m\u001b[43m)\u001b[49m\n\u001b[0;32m     15\u001b[0m \u001b[38;5;66;03m# Find the best time in this generation and add it to the list\u001b[39;00m\n\u001b[0;32m     16\u001b[0m best_genome \u001b[38;5;241m=\u001b[39m \u001b[38;5;28mmax\u001b[39m(population, key\u001b[38;5;241m=\u001b[39m\u001b[38;5;28;01mlambda\u001b[39;00m genome: fitness(genome, rutas))\n",
      "Cell \u001b[1;32mIn[165], line 3\u001b[0m, in \u001b[0;36mmutate_genome\u001b[1;34m(genome, rutas, start_point, end_point, index_to_mutate)\u001b[0m\n\u001b[0;32m      1\u001b[0m \u001b[38;5;28;01mdef\u001b[39;00m \u001b[38;5;21mmutate_genome\u001b[39m(genome: Genome, rutas: List[Ruta], start_point: \u001b[38;5;28mstr\u001b[39m, end_point: \u001b[38;5;28mstr\u001b[39m, index_to_mutate: \u001b[38;5;28mint\u001b[39m) \u001b[38;5;241m-\u001b[39m\u001b[38;5;241m>\u001b[39m Genome:\n\u001b[0;32m      2\u001b[0m \u001b[38;5;250m    \u001b[39m\u001b[38;5;124;03m\"\"\"function to mutate a genome\"\"\"\u001b[39;00m\n\u001b[1;32m----> 3\u001b[0m     new_start_point \u001b[38;5;241m=\u001b[39m \u001b[43mrutas\u001b[49m\u001b[43m[\u001b[49m\u001b[43mgenome\u001b[49m\u001b[43m[\u001b[49m\u001b[38;5;241;43m0\u001b[39;49m\u001b[43m]\u001b[49m\u001b[43m[\u001b[49m\u001b[43mindex_to_mutate\u001b[49m\u001b[43m \u001b[49m\u001b[38;5;241;43m-\u001b[39;49m\u001b[43m \u001b[49m\u001b[38;5;241;43m1\u001b[39;49m\u001b[43m]\u001b[49m\u001b[43m]\u001b[49m\u001b[38;5;241m.\u001b[39mend\n\u001b[0;32m      4\u001b[0m     \u001b[38;5;66;03m# Generate a new route\u001b[39;00m\n\u001b[0;32m      5\u001b[0m     new_route \u001b[38;5;241m=\u001b[39m generate_genome(rutas, new_start_point, end_point)\n",
      "\u001b[1;31mTypeError\u001b[0m: list indices must be integers or slices, not list"
     ]
    }
   ],
   "source": [
    "import matplotlib.pyplot as plt\n",
    "\n",
    "def genetic_algorithm(rutas: List[Ruta], population: Population, num_generations: int, elite_size: int, mutation_rate: float):\n",
    "    \"\"\"function to run the genetic algorithm\"\"\"\n",
    "    best_times = []\n",
    "    for _ in range(num_generations):\n",
    "        # Create a new population\n",
    "        population = create_new_population(population, rutas, elite_size, mutation_rate)\n",
    "        \n",
    "        # Mutate the population\n",
    "        for i in range(len(population)):\n",
    "            if random.random() < mutation_rate:\n",
    "                population[i] = mutate_genome(population[i], rutas, start_point, end_point, index_to_mutate)\n",
    "        \n",
    "        # Find the best time in this generation and add it to the list\n",
    "        best_genome = max(population, key=lambda genome: fitness(genome, rutas))\n",
    "        best_times.append(best_genome[1])\n",
    "                \n",
    "    # Return the final population and the list of best times\n",
    "    return population, best_times\n",
    "\n",
    "# Run the genetic algorithm\n",
    "final_population, best_times = genetic_algorithm(rutas, population, num_generations, elite_size, mutation_rate)\n",
    "\n",
    "# Print the final population\n",
    "print(\"\\nFinal population:\")\n",
    "for genome in final_population:\n",
    "    print(genome)\n",
    "\n",
    "# Print the best genome\n",
    "best_genome = max(final_population, key=lambda genome: fitness(genome, rutas))\n",
    "print(\"\\nBest genome:\")\n",
    "print(best_genome)\n",
    "\n",
    "# Plot the best times\n",
    "plt.plot(best_times)\n",
    "plt.title('Best time in each generation')\n",
    "plt.xlabel('Generation')\n",
    "plt.ylabel('Best time')\n",
    "plt.show()"
   ]
  }
 ],
 "metadata": {
  "kernelspec": {
   "display_name": "Python 3",
   "language": "python",
   "name": "python3"
  },
  "language_info": {
   "codemirror_mode": {
    "name": "ipython",
    "version": 3
   },
   "file_extension": ".py",
   "mimetype": "text/x-python",
   "name": "python",
   "nbconvert_exporter": "python",
   "pygments_lexer": "ipython3",
   "version": "3.12.1"
  }
 },
 "nbformat": 4,
 "nbformat_minor": 2
}
