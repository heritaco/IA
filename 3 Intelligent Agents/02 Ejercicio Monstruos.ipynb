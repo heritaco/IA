{
 "cells": [
  {
   "cell_type": "markdown",
   "id": "d6754ce2",
   "metadata": {},
   "source": [
    "# Un ejemplo\n",
    "\n",
    "Vamos a usar un tipo de estructura llamado lista, consisten en un grupo de elementos contenidos en un solo lugar y están ordenados. Podemos acceder a cada uno de los elementos de la lista usando su posición o índice."
   ]
  },
  {
   "cell_type": "markdown",
   "id": "751108ff",
   "metadata": {},
   "source": [
    "En este ejemplo vamos a generar nombres de películas de manera aleatoria. Para ello necesitaremos tres listas: nombres de monstruos, verbos, lugares. \n",
    "Para crear una lista, debes usar su nombre y con un signo de = le asignas valores separados por comas dentro de corchetes [ que abren y cierran]. Completemos las listas para tener 10 elementos en cada una:"
   ]
  },
  {
   "cell_type": "code",
   "execution_count": 5,
   "id": "df6fe0fc",
   "metadata": {},
   "outputs": [],
   "source": [
    "listaNombresdeMonstruos = [\"Ingrid\",\"Nessie\", \"Godzilla\", \"Dracula\", \"La Momia\", \"Sully\"]\n",
    "listaVerbos = [\"ataca\", \"pasea\", \"destruye\", \"corre\", \"asusta\"]\n",
    "listaLugares = [\"en UDLAP\", \"en Puebla\", \"en Mexico\", \"en la recámara\",\"en el comedor\"]"
   ]
  },
  {
   "cell_type": "markdown",
   "id": "a9c73949",
   "metadata": {},
   "source": [
    "Para acceder a las posiciones de manera aleatoria, podemos usar una función llamada randint que genera numeros enteros, antes de usarla, tenemos que llamarla. *randint(a,b)* genera numeros aleatorios enteros desde el valor de *a* hasta *b*: "
   ]
  },
  {
   "cell_type": "code",
   "execution_count": 6,
   "id": "e6d1ffa8",
   "metadata": {},
   "outputs": [
    {
     "name": "stdout",
     "output_type": "stream",
     "text": [
      "1\n",
      "0\n",
      "4\n",
      "0\n",
      "5\n"
     ]
    }
   ],
   "source": [
    "import random\n",
    "for _ in range(5): # no me importa el valor. va de 0 a 4\n",
    "    numeroAleatorio = random.randint(0,5)\n",
    "    print(numeroAleatorio)\n"
   ]
  },
  {
   "cell_type": "markdown",
   "id": "e43fcb4c",
   "metadata": {},
   "source": [
    "El ejemplo anterior ya llamó a la función, ya no tendríamos que llamarla nuevamente. La estructura *for in* permite recorrer valores usando como índice a *i* en el rango de 0 hasta antes de llegar a 10. Usémosla para recorrer a cada una de las listas que creamos previamente:"
   ]
  },
  {
   "cell_type": "code",
   "execution_count": 7,
   "id": "d70b1422",
   "metadata": {},
   "outputs": [
    {
     "name": "stdout",
     "output_type": "stream",
     "text": [
      "Ingrid\n",
      "Nessie\n",
      "Godzilla\n",
      "Dracula\n",
      "La Momia\n",
      "Sully\n"
     ]
    }
   ],
   "source": [
    "for i in listaNombresdeMonstruos:\n",
    "    print(i)"
   ]
  },
  {
   "cell_type": "code",
   "execution_count": 15,
   "id": "852bb17e",
   "metadata": {},
   "outputs": [
    {
     "name": "stdout",
     "output_type": "stream",
     "text": [
      "['Ingrid', 'Nessie', 'Godzilla', 'Dracula', 'La Momia', 'Sully']\n"
     ]
    }
   ],
   "source": [
    "print(listaNombresdeMonstruos)"
   ]
  },
  {
   "cell_type": "markdown",
   "id": "2a832708",
   "metadata": {},
   "source": [
    "Una función adicional llamada *len* nos permite saber el tamaño de una lista"
   ]
  },
  {
   "cell_type": "code",
   "execution_count": 9,
   "id": "c5860d7b",
   "metadata": {},
   "outputs": [
    {
     "data": {
      "text/plain": [
       "6"
      ]
     },
     "execution_count": 9,
     "metadata": {},
     "output_type": "execute_result"
    }
   ],
   "source": [
    "len(listaNombresdeMonstruos)"
   ]
  },
  {
   "cell_type": "markdown",
   "id": "ff6b58b8",
   "metadata": {},
   "source": [
    "Cuando creamos listas, podemos agregar elementos con *append*"
   ]
  },
  {
   "cell_type": "code",
   "execution_count": 10,
   "id": "5acd01d2",
   "metadata": {},
   "outputs": [
    {
     "name": "stdout",
     "output_type": "stream",
     "text": [
      "['El']\n"
     ]
    }
   ],
   "source": [
    "titulo = []\n",
    "titulo.append(\"El\")\n",
    "print(titulo)"
   ]
  },
  {
   "cell_type": "markdown",
   "id": "93f7f969",
   "metadata": {},
   "source": [
    "Bien, con todo lo que hemos aprendido, hagámos un título de película de terror. Vamos a elegir un nombre de monstruo, un verbo y un lugar de manera aleatoria y lo guardamos en *titulo*"
   ]
  },
  {
   "cell_type": "code",
   "execution_count": 11,
   "id": "1ce21021",
   "metadata": {},
   "outputs": [
    {
     "data": {
      "text/plain": [
       "['Ingrid']"
      ]
     },
     "execution_count": 11,
     "metadata": {},
     "output_type": "execute_result"
    }
   ],
   "source": [
    "titulo = []\n",
    "posicion = random.randint(0,len(listaNombresdeMonstruos)-1)\n",
    "titulo.append(listaNombresdeMonstruos[posicion])\n",
    "titulo"
   ]
  },
  {
   "cell_type": "code",
   "execution_count": 12,
   "id": "137f3ad2",
   "metadata": {},
   "outputs": [
    {
     "data": {
      "text/plain": [
       "['Ingrid', 'ataca']"
      ]
     },
     "execution_count": 12,
     "metadata": {},
     "output_type": "execute_result"
    }
   ],
   "source": [
    "posicion = random.randint(0,len(listaVerbos)-1)\n",
    "titulo.append(listaVerbos[posicion])\n",
    "titulo"
   ]
  },
  {
   "cell_type": "code",
   "execution_count": 13,
   "id": "e6b2d7a2",
   "metadata": {},
   "outputs": [
    {
     "data": {
      "text/plain": [
       "['Ingrid', 'ataca', 'en Mexico']"
      ]
     },
     "execution_count": 13,
     "metadata": {},
     "output_type": "execute_result"
    }
   ],
   "source": [
    "posicion = random.randint(0,len(listaLugares)-1)\n",
    "titulo.append(listaLugares[posicion])\n",
    "titulo"
   ]
  },
  {
   "cell_type": "markdown",
   "id": "674df2da",
   "metadata": {},
   "source": [
    "Solo por diversión vamos a recorrer la lista de elementos que llamamos titulo para crear una sola cadena tituloPelicula y mandarla a imprimir"
   ]
  },
  {
   "cell_type": "code",
   "execution_count": 14,
   "id": "886e37b6",
   "metadata": {
    "scrolled": true
   },
   "outputs": [
    {
     "name": "stdout",
     "output_type": "stream",
     "text": [
      " Ingrid ataca en Mexico\n"
     ]
    }
   ],
   "source": [
    "tituloPelicula = \"\"\n",
    "for palabra in titulo:\n",
    "    tituloPelicula = tituloPelicula + \" \" + palabra  # le va a agregar un espacio en blanco entre cada palabra\n",
    "print(tituloPelicula)"
   ]
  },
  {
   "cell_type": "code",
   "execution_count": null,
   "id": "a2b906d3",
   "metadata": {},
   "outputs": [],
   "source": []
  },
  {
   "cell_type": "code",
   "execution_count": null,
   "id": "ec92fd8b",
   "metadata": {},
   "outputs": [],
   "source": []
  }
 ],
 "metadata": {
  "kernelspec": {
   "display_name": "Python 3 (ipykernel)",
   "language": "python",
   "name": "python3"
  },
  "language_info": {
   "codemirror_mode": {
    "name": "ipython",
    "version": 3
   },
   "file_extension": ".py",
   "mimetype": "text/x-python",
   "name": "python",
   "nbconvert_exporter": "python",
   "pygments_lexer": "ipython3",
   "version": "3.12.1"
  }
 },
 "nbformat": 4,
 "nbformat_minor": 5
}
