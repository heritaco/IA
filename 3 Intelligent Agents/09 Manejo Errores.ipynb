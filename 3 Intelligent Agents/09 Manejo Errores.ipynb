{
 "cells": [
  {
   "cell_type": "markdown",
   "id": "ba4003b0",
   "metadata": {},
   "source": [
    "Ejemplo de un error"
   ]
  },
  {
   "cell_type": "code",
   "execution_count": 1,
   "id": "d21fc4d2",
   "metadata": {},
   "outputs": [
    {
     "ename": "FileNotFoundError",
     "evalue": "[Errno 2] No such file or directory: 'personas.csv'",
     "output_type": "error",
     "traceback": [
      "\u001b[1;31m---------------------------------------------------------------------------\u001b[0m",
      "\u001b[1;31mFileNotFoundError\u001b[0m                         Traceback (most recent call last)",
      "Cell \u001b[1;32mIn[1], line 2\u001b[0m\n\u001b[0;32m      1\u001b[0m \u001b[38;5;66;03m# abrir un archivo que no existe\u001b[39;00m\n\u001b[1;32m----> 2\u001b[0m mi_archivo \u001b[38;5;241m=\u001b[39m \u001b[38;5;28;43mopen\u001b[39;49m\u001b[43m(\u001b[49m\u001b[38;5;124;43m'\u001b[39;49m\u001b[38;5;124;43mpersonas.csv\u001b[39;49m\u001b[38;5;124;43m'\u001b[39;49m\u001b[43m)\u001b[49m\n\u001b[0;32m      3\u001b[0m \u001b[38;5;28mprint\u001b[39m(mi_archivo\u001b[38;5;241m.\u001b[39mname) \n",
      "File \u001b[1;32m~\\AppData\\Roaming\\Python\\Python312\\site-packages\\IPython\\core\\interactiveshell.py:310\u001b[0m, in \u001b[0;36m_modified_open\u001b[1;34m(file, *args, **kwargs)\u001b[0m\n\u001b[0;32m    303\u001b[0m \u001b[38;5;28;01mif\u001b[39;00m file \u001b[38;5;129;01min\u001b[39;00m {\u001b[38;5;241m0\u001b[39m, \u001b[38;5;241m1\u001b[39m, \u001b[38;5;241m2\u001b[39m}:\n\u001b[0;32m    304\u001b[0m     \u001b[38;5;28;01mraise\u001b[39;00m \u001b[38;5;167;01mValueError\u001b[39;00m(\n\u001b[0;32m    305\u001b[0m         \u001b[38;5;124mf\u001b[39m\u001b[38;5;124m\"\u001b[39m\u001b[38;5;124mIPython won\u001b[39m\u001b[38;5;124m'\u001b[39m\u001b[38;5;124mt let you open fd=\u001b[39m\u001b[38;5;132;01m{\u001b[39;00mfile\u001b[38;5;132;01m}\u001b[39;00m\u001b[38;5;124m by default \u001b[39m\u001b[38;5;124m\"\u001b[39m\n\u001b[0;32m    306\u001b[0m         \u001b[38;5;124m\"\u001b[39m\u001b[38;5;124mas it is likely to crash IPython. If you know what you are doing, \u001b[39m\u001b[38;5;124m\"\u001b[39m\n\u001b[0;32m    307\u001b[0m         \u001b[38;5;124m\"\u001b[39m\u001b[38;5;124myou can use builtins\u001b[39m\u001b[38;5;124m'\u001b[39m\u001b[38;5;124m open.\u001b[39m\u001b[38;5;124m\"\u001b[39m\n\u001b[0;32m    308\u001b[0m     )\n\u001b[1;32m--> 310\u001b[0m \u001b[38;5;28;01mreturn\u001b[39;00m \u001b[43mio_open\u001b[49m\u001b[43m(\u001b[49m\u001b[43mfile\u001b[49m\u001b[43m,\u001b[49m\u001b[43m \u001b[49m\u001b[38;5;241;43m*\u001b[39;49m\u001b[43margs\u001b[49m\u001b[43m,\u001b[49m\u001b[43m \u001b[49m\u001b[38;5;241;43m*\u001b[39;49m\u001b[38;5;241;43m*\u001b[39;49m\u001b[43mkwargs\u001b[49m\u001b[43m)\u001b[49m\n",
      "\u001b[1;31mFileNotFoundError\u001b[0m: [Errno 2] No such file or directory: 'personas.csv'"
     ]
    }
   ],
   "source": [
    "# abrir un archivo que no existe\n",
    "mi_archivo = open('personas.csv')\n",
    "print(mi_archivo.name) "
   ]
  },
  {
   "cell_type": "markdown",
   "id": "74d6d31e",
   "metadata": {},
   "source": [
    "usando un bloque try ... except se evita que el programa termine en error"
   ]
  },
  {
   "cell_type": "code",
   "execution_count": 5,
   "id": "5d255744",
   "metadata": {},
   "outputs": [
    {
     "name": "stdout",
     "output_type": "stream",
     "text": [
      "lo siento, el archivo no existe o no se puede abrir.\n"
     ]
    }
   ],
   "source": [
    "# abrir un archivo que no existe\n",
    "try:\n",
    "    mi_archivo = open('personas.csv')\n",
    "    print(mi_archivo.name) \n",
    "except Exception:\n",
    "    print(\"lo siento, el archivo no existe o no se puede abrir.\")"
   ]
  },
  {
   "cell_type": "markdown",
   "id": "ed4c5deb",
   "metadata": {},
   "source": [
    "usar mas excepts para diferentes tipos de error, para poder identificar cuál fue el origen del error"
   ]
  },
  {
   "cell_type": "code",
   "execution_count": 6,
   "id": "e9b809ef",
   "metadata": {},
   "outputs": [
    {
     "name": "stdout",
     "output_type": "stream",
     "text": [
      "lo siento, el archivo no existe o no se puede abrir.\n"
     ]
    }
   ],
   "source": [
    "# abrir un archivo que no existe\n",
    "try:\n",
    "    mi_archivo = open('Estudiantes.csv')\n",
    "    print(mi_archivo.name)\n",
    "    print(mi_archivo.foo) # no existe y genera otro tipo de error\n",
    "    mi_archivo.closed()\n",
    "except FileNotFoundError:\n",
    "    print(\"lo siento, el archivo no existe o no se puede abrir.\")\n",
    "except Exception:\n",
    "    print(\"lo siento, algo raro sucedió.\")"
   ]
  },
  {
   "cell_type": "markdown",
   "id": "fd09cf61",
   "metadata": {},
   "source": [
    "Abrir un archivo .csv (exportado desde Excel)"
   ]
  },
  {
   "cell_type": "code",
   "execution_count": null,
   "id": "1a9c5138",
   "metadata": {},
   "outputs": [],
   "source": [
    "# abrir un archivo .csv\n",
    "try:\n",
    "    mi_archivo = open('Estudiantes.csv')\n",
    "    print(mi_archivo.name)\n",
    "    print('\\n\\n',mi_archivo.readline())\n",
    "except FileNotFoundError:\n",
    "    print(\"lo siento, el archivo no existe o no se puede abrir.\")\n",
    "except Exception as e: \n",
    "    print(e)  # nos da mas detalle del error"
   ]
  },
  {
   "cell_type": "markdown",
   "id": "e1d9735d",
   "metadata": {},
   "source": [
    "Añadiendo el else"
   ]
  },
  {
   "cell_type": "code",
   "execution_count": null,
   "id": "51988cd1",
   "metadata": {},
   "outputs": [],
   "source": [
    "try:\n",
    "    mi_archivo = open('Estudiantes.csv')\n",
    "    print(mi_archivo.name)\n",
    "except FileNotFoundError:\n",
    "    print(\"lo siento, el archivo no existe o no se puede abrir.\")\n",
    "except Exception as e: \n",
    "    print(e)  # nos da mas detalle del error\n",
    "else:\n",
    "    print('\\n')\n",
    "    for renglon in mi_archivo:\n",
    "        print(renglon)\n",
    "    mi_archivo.close()\n",
    "    print(\"Terminamos!!\")"
   ]
  },
  {
   "cell_type": "markdown",
   "id": "2e53e8a3",
   "metadata": {},
   "source": [
    "finally"
   ]
  },
  {
   "cell_type": "code",
   "execution_count": null,
   "id": "9a3c9bae",
   "metadata": {},
   "outputs": [],
   "source": [
    "try:\n",
    "    mi_archivo = open('Estudiantes.csv')\n",
    "    print(mi_archivo.name)\n",
    "except FileNotFoundError:\n",
    "    print(\"lo siento, el archivo no existe o no se puede abrir.\")\n",
    "except Exception as e: \n",
    "    print(e)  # nos da mas detalle del error\n",
    "else:\n",
    "    print(\"ejecuta esta parte si NO hubo error\")\n",
    "finally:\n",
    "    print(\"ejecuta esta parte siempre, sin importar qué pasó antes.\")\n",
    "    mi_archivo.close()\n",
    "print(\"Terminamos!! esto es afuera del bloque try-except-else-finally\")"
   ]
  }
 ],
 "metadata": {
  "kernelspec": {
   "display_name": "Python 3 (ipykernel)",
   "language": "python",
   "name": "python3"
  },
  "language_info": {
   "codemirror_mode": {
    "name": "ipython",
    "version": 3
   },
   "file_extension": ".py",
   "mimetype": "text/x-python",
   "name": "python",
   "nbconvert_exporter": "python",
   "pygments_lexer": "ipython3",
   "version": "3.12.1"
  }
 },
 "nbformat": 4,
 "nbformat_minor": 5
}
