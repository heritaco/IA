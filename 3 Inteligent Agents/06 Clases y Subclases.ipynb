{
 "cells": [
  {
   "cell_type": "markdown",
   "id": "45a2743a",
   "metadata": {},
   "source": [
    "creamos la clase Persona (ver diagrama de clase)"
   ]
  },
  {
   "cell_type": "code",
   "execution_count": null,
   "id": "928fde99",
   "metadata": {},
   "outputs": [],
   "source": [
    "# definir una clase llamada Persona\n",
    "class Persona:\n",
    "    def __init__(self, nombre, direcc):\n",
    "        self.nombre = nombre\n",
    "        self.direccion = direcc\n",
    "    def cambia_direccion(cls, dir_nueva):\n",
    "        cls.dirección = dir_nueva"
   ]
  },
  {
   "cell_type": "code",
   "execution_count": null,
   "id": "78fd4243",
   "metadata": {},
   "outputs": [],
   "source": [
    "unaPersona = Persona (\"Joe Espinoza\", \"Calle 4 #207, Col. Centro, Puebla\")\n",
    "print (unaPersona.nombre)\n",
    "print (unaPersona.direccion)"
   ]
  },
  {
   "cell_type": "markdown",
   "id": "84539575",
   "metadata": {},
   "source": [
    "Ahora, creamos la subclase Estudiante"
   ]
  },
  {
   "cell_type": "code",
   "execution_count": null,
   "id": "0862f930",
   "metadata": {},
   "outputs": [],
   "source": [
    "# definir una clase llamada Estudiante como subclase de Persona\n",
    "class Estudiante (Persona):\n",
    "    def registro(self, id_est, programa):\n",
    "        self.id_estudiante = id_est\n",
    "        self.carrera = programa\n",
    "        self.honores = False\n",
    "        self.promedio = 0.0\n",
    "    def calcula_promedio(cls, transcript):\n",
    "        cls.promedio = sum(transcript) / len(transcript)   # Tambien se puede usar la función mean del módulo statistiscs\n"
   ]
  },
  {
   "cell_type": "markdown",
   "id": "7918fc09",
   "metadata": {},
   "source": [
    "si queremos crear un objeto de la clase estudiante y probarla:"
   ]
  },
  {
   "cell_type": "code",
   "execution_count": null,
   "id": "cf3a3c9e",
   "metadata": {},
   "outputs": [],
   "source": [
    "nuevo_estudiante = Estudiante (\"Joe Espinoza\", \"Calle 4 #207, Col. Centro, Puebla\")\n",
    "nuevo_estudiante.registro(\"123987\", \"Actuaría\")\n",
    "print (nuevo_estudiante.id_estudiante)\n",
    "print (nuevo_estudiante.nombre)\n",
    "print (nuevo_estudiante.carrera)"
   ]
  },
  {
   "cell_type": "code",
   "execution_count": null,
   "id": "c77db94f",
   "metadata": {},
   "outputs": [],
   "source": [
    "transcript = [9.0, 6, 8.5, 7.6]\n",
    "print (sum(transcript))\n",
    "print(len(transcript))\n",
    "nuevo_estudiante.calcula_promedio(transcript)\n",
    "print(nuevo_estudiante.promedio)"
   ]
  }
 ],
 "metadata": {
  "kernelspec": {
   "display_name": "Python 3 (ipykernel)",
   "language": "python",
   "name": "python3"
  },
  "language_info": {
   "codemirror_mode": {
    "name": "ipython",
    "version": 3
   },
   "file_extension": ".py",
   "mimetype": "text/x-python",
   "name": "python",
   "nbconvert_exporter": "python",
   "pygments_lexer": "ipython3",
   "version": "3.9.7"
  }
 },
 "nbformat": 4,
 "nbformat_minor": 5
}
