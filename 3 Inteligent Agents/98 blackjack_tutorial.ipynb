{
  "cells": [
    {
      "cell_type": "code",
      "execution_count": 1,
      "metadata": {
        "collapsed": false
      },
      "outputs": [
        {
          "ename": "ModuleNotFoundError",
          "evalue": "No module named 'matplotlib'",
          "output_type": "error",
          "traceback": [
            "\u001b[1;31m---------------------------------------------------------------------------\u001b[0m",
            "\u001b[1;31mModuleNotFoundError\u001b[0m                       Traceback (most recent call last)",
            "Cell \u001b[1;32mIn[1], line 1\u001b[0m\n\u001b[1;32m----> 1\u001b[0m \u001b[43mget_ipython\u001b[49m\u001b[43m(\u001b[49m\u001b[43m)\u001b[49m\u001b[38;5;241;43m.\u001b[39;49m\u001b[43mrun_line_magic\u001b[49m\u001b[43m(\u001b[49m\u001b[38;5;124;43m'\u001b[39;49m\u001b[38;5;124;43mmatplotlib\u001b[39;49m\u001b[38;5;124;43m'\u001b[39;49m\u001b[43m,\u001b[49m\u001b[43m \u001b[49m\u001b[38;5;124;43m'\u001b[39;49m\u001b[38;5;124;43minline\u001b[39;49m\u001b[38;5;124;43m'\u001b[39;49m\u001b[43m)\u001b[49m\n",
            "File \u001b[1;32m~\\AppData\\Roaming\\Python\\Python312\\site-packages\\IPython\\core\\interactiveshell.py:2456\u001b[0m, in \u001b[0;36mInteractiveShell.run_line_magic\u001b[1;34m(self, magic_name, line, _stack_depth)\u001b[0m\n\u001b[0;32m   2454\u001b[0m     kwargs[\u001b[38;5;124m'\u001b[39m\u001b[38;5;124mlocal_ns\u001b[39m\u001b[38;5;124m'\u001b[39m] \u001b[38;5;241m=\u001b[39m \u001b[38;5;28mself\u001b[39m\u001b[38;5;241m.\u001b[39mget_local_scope(stack_depth)\n\u001b[0;32m   2455\u001b[0m \u001b[38;5;28;01mwith\u001b[39;00m \u001b[38;5;28mself\u001b[39m\u001b[38;5;241m.\u001b[39mbuiltin_trap:\n\u001b[1;32m-> 2456\u001b[0m     result \u001b[38;5;241m=\u001b[39m \u001b[43mfn\u001b[49m\u001b[43m(\u001b[49m\u001b[38;5;241;43m*\u001b[39;49m\u001b[43margs\u001b[49m\u001b[43m,\u001b[49m\u001b[43m \u001b[49m\u001b[38;5;241;43m*\u001b[39;49m\u001b[38;5;241;43m*\u001b[39;49m\u001b[43mkwargs\u001b[49m\u001b[43m)\u001b[49m\n\u001b[0;32m   2458\u001b[0m \u001b[38;5;66;03m# The code below prevents the output from being displayed\u001b[39;00m\n\u001b[0;32m   2459\u001b[0m \u001b[38;5;66;03m# when using magics with decorator @output_can_be_silenced\u001b[39;00m\n\u001b[0;32m   2460\u001b[0m \u001b[38;5;66;03m# when the last Python token in the expression is a ';'.\u001b[39;00m\n\u001b[0;32m   2461\u001b[0m \u001b[38;5;28;01mif\u001b[39;00m \u001b[38;5;28mgetattr\u001b[39m(fn, magic\u001b[38;5;241m.\u001b[39mMAGIC_OUTPUT_CAN_BE_SILENCED, \u001b[38;5;28;01mFalse\u001b[39;00m):\n",
            "File \u001b[1;32m~\\AppData\\Roaming\\Python\\Python312\\site-packages\\IPython\\core\\magics\\pylab.py:99\u001b[0m, in \u001b[0;36mPylabMagics.matplotlib\u001b[1;34m(self, line)\u001b[0m\n\u001b[0;32m     97\u001b[0m     \u001b[38;5;28mprint\u001b[39m(\u001b[38;5;124m\"\u001b[39m\u001b[38;5;124mAvailable matplotlib backends: \u001b[39m\u001b[38;5;132;01m%s\u001b[39;00m\u001b[38;5;124m\"\u001b[39m \u001b[38;5;241m%\u001b[39m backends_list)\n\u001b[0;32m     98\u001b[0m \u001b[38;5;28;01melse\u001b[39;00m:\n\u001b[1;32m---> 99\u001b[0m     gui, backend \u001b[38;5;241m=\u001b[39m \u001b[38;5;28;43mself\u001b[39;49m\u001b[38;5;241;43m.\u001b[39;49m\u001b[43mshell\u001b[49m\u001b[38;5;241;43m.\u001b[39;49m\u001b[43menable_matplotlib\u001b[49m\u001b[43m(\u001b[49m\u001b[43margs\u001b[49m\u001b[38;5;241;43m.\u001b[39;49m\u001b[43mgui\u001b[49m\u001b[38;5;241;43m.\u001b[39;49m\u001b[43mlower\u001b[49m\u001b[43m(\u001b[49m\u001b[43m)\u001b[49m\u001b[43m \u001b[49m\u001b[38;5;28;43;01mif\u001b[39;49;00m\u001b[43m \u001b[49m\u001b[38;5;28;43misinstance\u001b[39;49m\u001b[43m(\u001b[49m\u001b[43margs\u001b[49m\u001b[38;5;241;43m.\u001b[39;49m\u001b[43mgui\u001b[49m\u001b[43m,\u001b[49m\u001b[43m \u001b[49m\u001b[38;5;28;43mstr\u001b[39;49m\u001b[43m)\u001b[49m\u001b[43m \u001b[49m\u001b[38;5;28;43;01melse\u001b[39;49;00m\u001b[43m \u001b[49m\u001b[43margs\u001b[49m\u001b[38;5;241;43m.\u001b[39;49m\u001b[43mgui\u001b[49m\u001b[43m)\u001b[49m\n\u001b[0;32m    100\u001b[0m     \u001b[38;5;28mself\u001b[39m\u001b[38;5;241m.\u001b[39m_show_matplotlib_backend(args\u001b[38;5;241m.\u001b[39mgui, backend)\n",
            "File \u001b[1;32m~\\AppData\\Roaming\\Python\\Python312\\site-packages\\IPython\\core\\interactiveshell.py:3633\u001b[0m, in \u001b[0;36mInteractiveShell.enable_matplotlib\u001b[1;34m(self, gui)\u001b[0m\n\u001b[0;32m   3612\u001b[0m \u001b[38;5;28;01mdef\u001b[39;00m \u001b[38;5;21menable_matplotlib\u001b[39m(\u001b[38;5;28mself\u001b[39m, gui\u001b[38;5;241m=\u001b[39m\u001b[38;5;28;01mNone\u001b[39;00m):\n\u001b[0;32m   3613\u001b[0m \u001b[38;5;250m    \u001b[39m\u001b[38;5;124;03m\"\"\"Enable interactive matplotlib and inline figure support.\u001b[39;00m\n\u001b[0;32m   3614\u001b[0m \n\u001b[0;32m   3615\u001b[0m \u001b[38;5;124;03m    This takes the following steps:\u001b[39;00m\n\u001b[1;32m   (...)\u001b[0m\n\u001b[0;32m   3631\u001b[0m \u001b[38;5;124;03m        display figures inline.\u001b[39;00m\n\u001b[0;32m   3632\u001b[0m \u001b[38;5;124;03m    \"\"\"\u001b[39;00m\n\u001b[1;32m-> 3633\u001b[0m     \u001b[38;5;28;01mfrom\u001b[39;00m \u001b[38;5;21;01mmatplotlib_inline\u001b[39;00m\u001b[38;5;21;01m.\u001b[39;00m\u001b[38;5;21;01mbackend_inline\u001b[39;00m \u001b[38;5;28;01mimport\u001b[39;00m configure_inline_support\n\u001b[0;32m   3635\u001b[0m     \u001b[38;5;28;01mfrom\u001b[39;00m \u001b[38;5;21;01mIPython\u001b[39;00m\u001b[38;5;21;01m.\u001b[39;00m\u001b[38;5;21;01mcore\u001b[39;00m \u001b[38;5;28;01mimport\u001b[39;00m pylabtools \u001b[38;5;28;01mas\u001b[39;00m pt\n\u001b[0;32m   3636\u001b[0m     gui, backend \u001b[38;5;241m=\u001b[39m pt\u001b[38;5;241m.\u001b[39mfind_gui_and_backend(gui, \u001b[38;5;28mself\u001b[39m\u001b[38;5;241m.\u001b[39mpylab_gui_select)\n",
            "File \u001b[1;32m~\\AppData\\Roaming\\Python\\Python312\\site-packages\\matplotlib_inline\\__init__.py:1\u001b[0m\n\u001b[1;32m----> 1\u001b[0m \u001b[38;5;28;01mfrom\u001b[39;00m \u001b[38;5;21;01m.\u001b[39;00m \u001b[38;5;28;01mimport\u001b[39;00m backend_inline, config  \u001b[38;5;66;03m# noqa\u001b[39;00m\n\u001b[0;32m      2\u001b[0m __version__ \u001b[38;5;241m=\u001b[39m \u001b[38;5;124m\"\u001b[39m\u001b[38;5;124m0.1.6\u001b[39m\u001b[38;5;124m\"\u001b[39m  \u001b[38;5;66;03m# noqa\u001b[39;00m\n",
            "File \u001b[1;32m~\\AppData\\Roaming\\Python\\Python312\\site-packages\\matplotlib_inline\\backend_inline.py:6\u001b[0m\n\u001b[0;32m      1\u001b[0m \u001b[38;5;124;03m\"\"\"A matplotlib backend for publishing figures via display_data\"\"\"\u001b[39;00m\n\u001b[0;32m      3\u001b[0m \u001b[38;5;66;03m# Copyright (c) IPython Development Team.\u001b[39;00m\n\u001b[0;32m      4\u001b[0m \u001b[38;5;66;03m# Distributed under the terms of the BSD 3-Clause License.\u001b[39;00m\n\u001b[1;32m----> 6\u001b[0m \u001b[38;5;28;01mimport\u001b[39;00m \u001b[38;5;21;01mmatplotlib\u001b[39;00m\n\u001b[0;32m      7\u001b[0m \u001b[38;5;28;01mfrom\u001b[39;00m \u001b[38;5;21;01mmatplotlib\u001b[39;00m \u001b[38;5;28;01mimport\u001b[39;00m colors\n\u001b[0;32m      8\u001b[0m \u001b[38;5;28;01mfrom\u001b[39;00m \u001b[38;5;21;01mmatplotlib\u001b[39;00m\u001b[38;5;21;01m.\u001b[39;00m\u001b[38;5;21;01mbackends\u001b[39;00m \u001b[38;5;28;01mimport\u001b[39;00m backend_agg\n",
            "\u001b[1;31mModuleNotFoundError\u001b[0m: No module named 'matplotlib'"
          ]
        }
      ],
      "source": [
        "%matplotlib inline"
      ]
    },
    {
      "cell_type": "markdown",
      "metadata": {},
      "source": [
        "\n",
        "# Solving Blackjack with Q-Learning\n"
      ]
    },
    {
      "cell_type": "markdown",
      "metadata": {},
      "source": [
        "<img src=\"file://_static/img/tutorials/blackjack_AE_loop.jpg\" width=\"650\" alt=\"agent-environment-diagram\" class=\"only-light\">\n",
        "<img src=\"file://_static/img/tutorials/blackjack_AE_loop_dark.png\" width=\"650\" alt=\"agent-environment-diagram\" class=\"only-dark\">\n",
        "\n",
        "In this tutorial, we’ll explore and solve the *Blackjack-v1*\n",
        "environment.\n",
        "\n",
        "**Blackjack** is one of the most popular casino card games that is also\n",
        "infamous for being beatable under certain conditions. This version of\n",
        "the game uses an infinite deck (we draw the cards with replacement), so\n",
        "counting cards won’t be a viable strategy in our simulated game.\n",
        "Full documentation can be found at https://gymnasium.farama.org/environments/toy_text/blackjack\n",
        "\n",
        "**Objective**: To win, your card sum should be greater than the\n",
        "dealers without exceeding 21.\n",
        "\n",
        "**Actions**: Agents can pick between two actions:\n",
        " - stand (0): the player takes no more cards\n",
        " - hit (1): the player will be given another card, however the player could get over 21 and bust\n",
        "\n",
        "**Approach**: To solve this environment by yourself, you can pick your\n",
        "favorite discrete RL algorithm. The presented solution uses *Q-learning*\n",
        "(a model-free RL algorithm).\n",
        "\n",
        "\n"
      ]
    },
    {
      "cell_type": "markdown",
      "metadata": {},
      "source": [
        "## Imports and Environment Setup\n",
        "\n",
        "\n"
      ]
    },
    {
      "cell_type": "code",
      "execution_count": 7,
      "metadata": {
        "collapsed": false
      },
      "outputs": [
        {
          "ename": "ModuleNotFoundError",
          "evalue": "No module named 'seaborn'",
          "output_type": "error",
          "traceback": [
            "\u001b[1;31m---------------------------------------------------------------------------\u001b[0m",
            "\u001b[1;31mModuleNotFoundError\u001b[0m                       Traceback (most recent call last)",
            "Cell \u001b[1;32mIn[7], line 10\u001b[0m\n\u001b[0;32m      8\u001b[0m \u001b[38;5;28;01mimport\u001b[39;00m \u001b[38;5;21;01mmatplotlib\u001b[39;00m\u001b[38;5;21;01m.\u001b[39;00m\u001b[38;5;21;01mpyplot\u001b[39;00m \u001b[38;5;28;01mas\u001b[39;00m \u001b[38;5;21;01mplt\u001b[39;00m\n\u001b[0;32m      9\u001b[0m \u001b[38;5;28;01mimport\u001b[39;00m \u001b[38;5;21;01mnumpy\u001b[39;00m \u001b[38;5;28;01mas\u001b[39;00m \u001b[38;5;21;01mnp\u001b[39;00m\n\u001b[1;32m---> 10\u001b[0m \u001b[38;5;28;01mimport\u001b[39;00m \u001b[38;5;21;01mseaborn\u001b[39;00m \u001b[38;5;28;01mas\u001b[39;00m \u001b[38;5;21;01msns\u001b[39;00m\n\u001b[0;32m     11\u001b[0m \u001b[38;5;28;01mfrom\u001b[39;00m \u001b[38;5;21;01mmatplotlib\u001b[39;00m\u001b[38;5;21;01m.\u001b[39;00m\u001b[38;5;21;01mpatches\u001b[39;00m \u001b[38;5;28;01mimport\u001b[39;00m Patch\n\u001b[0;32m     12\u001b[0m \u001b[38;5;28;01mfrom\u001b[39;00m \u001b[38;5;21;01mtqdm\u001b[39;00m \u001b[38;5;28;01mimport\u001b[39;00m tqdm\n",
            "\u001b[1;31mModuleNotFoundError\u001b[0m: No module named 'seaborn'"
          ]
        }
      ],
      "source": [
        "# Author: Till Zemann\n",
        "# License: MIT License\n",
        "\n",
        "from __future__ import annotations\n",
        "\n",
        "from collections import defaultdict\n",
        "\n",
        "import matplotlib.pyplot as plt\n",
        "import numpy as np\n",
        "import seaborn as sns\n",
        "from matplotlib.patches import Patch\n",
        "from tqdm import tqdm\n",
        "\n",
        "import gymnasium as gym\n",
        "\n",
        "\n",
        "# Let's start by creating the blackjack environment.\n",
        "# Note: We are going to follow the rules from Sutton & Barto.\n",
        "# Other versions of the game can be found below for you to experiment.\n",
        "\n",
        "env = gym.make(\"Blackjack-v1\", sab=True)"
      ]
    },
    {
      "cell_type": "code",
      "execution_count": 8,
      "metadata": {},
      "outputs": [
        {
          "name": "stdout",
          "output_type": "stream",
          "text": [
            "Collecting seaborn"
          ]
        },
        {
          "name": "stderr",
          "output_type": "stream",
          "text": [
            "\n",
            "[notice] A new release of pip is available: 23.2.1 -> 24.0\n",
            "[notice] To update, run: python.exe -m pip install --upgrade pip\n"
          ]
        },
        {
          "name": "stdout",
          "output_type": "stream",
          "text": [
            "\n",
            "  Obtaining dependency information for seaborn from https://files.pythonhosted.org/packages/83/11/00d3c3dfc25ad54e731d91449895a79e4bf2384dc3ac01809010ba88f6d5/seaborn-0.13.2-py3-none-any.whl.metadata\n",
            "  Downloading seaborn-0.13.2-py3-none-any.whl.metadata (5.4 kB)\n",
            "Requirement already satisfied: numpy!=1.24.0,>=1.20 in c:\\users\\herie\\appdata\\local\\programs\\python\\python312\\lib\\site-packages (from seaborn) (1.26.4)\n",
            "Collecting pandas>=1.2 (from seaborn)\n",
            "  Obtaining dependency information for pandas>=1.2 from https://files.pythonhosted.org/packages/71/00/6beaeeba7f075d15ea167a5caa039b861e58ff2f58a5b659abb9b544c8f6/pandas-2.2.1-cp312-cp312-win_amd64.whl.metadata\n",
            "  Downloading pandas-2.2.1-cp312-cp312-win_amd64.whl.metadata (19 kB)\n",
            "Requirement already satisfied: matplotlib!=3.6.1,>=3.4 in c:\\users\\herie\\appdata\\local\\programs\\python\\python312\\lib\\site-packages (from seaborn) (3.8.3)\n",
            "Requirement already satisfied: contourpy>=1.0.1 in c:\\users\\herie\\appdata\\local\\programs\\python\\python312\\lib\\site-packages (from matplotlib!=3.6.1,>=3.4->seaborn) (1.2.0)\n",
            "Requirement already satisfied: cycler>=0.10 in c:\\users\\herie\\appdata\\local\\programs\\python\\python312\\lib\\site-packages (from matplotlib!=3.6.1,>=3.4->seaborn) (0.12.1)\n",
            "Requirement already satisfied: fonttools>=4.22.0 in c:\\users\\herie\\appdata\\local\\programs\\python\\python312\\lib\\site-packages (from matplotlib!=3.6.1,>=3.4->seaborn) (4.49.0)\n",
            "Requirement already satisfied: kiwisolver>=1.3.1 in c:\\users\\herie\\appdata\\local\\programs\\python\\python312\\lib\\site-packages (from matplotlib!=3.6.1,>=3.4->seaborn) (1.4.5)\n",
            "Requirement already satisfied: packaging>=20.0 in c:\\users\\herie\\appdata\\roaming\\python\\python312\\site-packages (from matplotlib!=3.6.1,>=3.4->seaborn) (23.2)\n",
            "Requirement already satisfied: pillow>=8 in c:\\users\\herie\\appdata\\local\\programs\\python\\python312\\lib\\site-packages (from matplotlib!=3.6.1,>=3.4->seaborn) (10.2.0)\n",
            "Requirement already satisfied: pyparsing>=2.3.1 in c:\\users\\herie\\appdata\\local\\programs\\python\\python312\\lib\\site-packages (from matplotlib!=3.6.1,>=3.4->seaborn) (3.1.1)\n",
            "Requirement already satisfied: python-dateutil>=2.7 in c:\\users\\herie\\appdata\\roaming\\python\\python312\\site-packages (from matplotlib!=3.6.1,>=3.4->seaborn) (2.8.2)\n",
            "Collecting pytz>=2020.1 (from pandas>=1.2->seaborn)\n",
            "  Obtaining dependency information for pytz>=2020.1 from https://files.pythonhosted.org/packages/9c/3d/a121f284241f08268b21359bd425f7d4825cffc5ac5cd0e1b3d82ffd2b10/pytz-2024.1-py2.py3-none-any.whl.metadata\n",
            "  Downloading pytz-2024.1-py2.py3-none-any.whl.metadata (22 kB)\n",
            "Collecting tzdata>=2022.7 (from pandas>=1.2->seaborn)\n",
            "  Obtaining dependency information for tzdata>=2022.7 from https://files.pythonhosted.org/packages/65/58/f9c9e6be752e9fcb8b6a0ee9fb87e6e7a1f6bcab2cdc73f02bb7ba91ada0/tzdata-2024.1-py2.py3-none-any.whl.metadata\n",
            "  Downloading tzdata-2024.1-py2.py3-none-any.whl.metadata (1.4 kB)\n",
            "Requirement already satisfied: six>=1.5 in c:\\users\\herie\\appdata\\roaming\\python\\python312\\site-packages (from python-dateutil>=2.7->matplotlib!=3.6.1,>=3.4->seaborn) (1.16.0)\n",
            "Downloading seaborn-0.13.2-py3-none-any.whl (294 kB)\n",
            "   ---------------------------------------- 0.0/294.9 kB ? eta -:--:--\n",
            "   ----- --------------------------------- 41.0/294.9 kB 991.0 kB/s eta 0:00:01\n",
            "   ----------------------- ---------------- 174.1/294.9 kB 2.1 MB/s eta 0:00:01\n",
            "   ---------------------------------------- 294.9/294.9 kB 2.3 MB/s eta 0:00:00\n",
            "Downloading pandas-2.2.1-cp312-cp312-win_amd64.whl (11.5 MB)\n",
            "   ---------------------------------------- 0.0/11.5 MB ? eta -:--:--\n",
            "    --------------------------------------- 0.3/11.5 MB 8.9 MB/s eta 0:00:02\n",
            "   - -------------------------------------- 0.5/11.5 MB 6.8 MB/s eta 0:00:02\n",
            "   --- ------------------------------------ 0.9/11.5 MB 7.0 MB/s eta 0:00:02\n",
            "   ---- ----------------------------------- 1.2/11.5 MB 6.8 MB/s eta 0:00:02\n",
            "   ---- ----------------------------------- 1.4/11.5 MB 6.5 MB/s eta 0:00:02\n",
            "   ------ --------------------------------- 1.7/11.5 MB 6.1 MB/s eta 0:00:02\n",
            "   ------ --------------------------------- 1.9/11.5 MB 5.7 MB/s eta 0:00:02\n",
            "   ------- -------------------------------- 2.0/11.5 MB 5.7 MB/s eta 0:00:02\n",
            "   ------- -------------------------------- 2.3/11.5 MB 5.4 MB/s eta 0:00:02\n",
            "   -------- ------------------------------- 2.5/11.5 MB 5.4 MB/s eta 0:00:02\n",
            "   ---------- ----------------------------- 2.9/11.5 MB 5.7 MB/s eta 0:00:02\n",
            "   ----------- ---------------------------- 3.3/11.5 MB 6.0 MB/s eta 0:00:02\n",
            "   ------------ --------------------------- 3.7/11.5 MB 6.2 MB/s eta 0:00:02\n",
            "   ------------- -------------------------- 3.9/11.5 MB 6.1 MB/s eta 0:00:02\n",
            "   -------------- ------------------------- 4.2/11.5 MB 6.1 MB/s eta 0:00:02\n",
            "   --------------- ------------------------ 4.5/11.5 MB 6.2 MB/s eta 0:00:02\n",
            "   ---------------- ----------------------- 4.9/11.5 MB 6.2 MB/s eta 0:00:02\n",
            "   ------------------ --------------------- 5.2/11.5 MB 6.2 MB/s eta 0:00:02\n",
            "   ------------------- -------------------- 5.6/11.5 MB 6.4 MB/s eta 0:00:01\n",
            "   -------------------- ------------------- 6.0/11.5 MB 6.5 MB/s eta 0:00:01\n",
            "   ---------------------- ----------------- 6.4/11.5 MB 6.6 MB/s eta 0:00:01\n",
            "   ----------------------- ---------------- 6.7/11.5 MB 6.6 MB/s eta 0:00:01\n",
            "   ------------------------ --------------- 7.1/11.5 MB 6.7 MB/s eta 0:00:01\n",
            "   ------------------------- -------------- 7.4/11.5 MB 6.6 MB/s eta 0:00:01\n",
            "   -------------------------- ------------- 7.7/11.5 MB 6.7 MB/s eta 0:00:01\n",
            "   --------------------------- ------------ 8.0/11.5 MB 6.6 MB/s eta 0:00:01\n",
            "   ----------------------------- ---------- 8.4/11.5 MB 6.7 MB/s eta 0:00:01\n",
            "   ------------------------------ --------- 8.7/11.5 MB 6.7 MB/s eta 0:00:01\n",
            "   ------------------------------- -------- 9.0/11.5 MB 6.7 MB/s eta 0:00:01\n",
            "   -------------------------------- ------- 9.4/11.5 MB 6.8 MB/s eta 0:00:01\n",
            "   --------------------------------- ------ 9.7/11.5 MB 6.8 MB/s eta 0:00:01\n",
            "   ----------------------------------- ---- 10.1/11.5 MB 6.9 MB/s eta 0:00:01\n",
            "   ------------------------------------ --- 10.5/11.5 MB 6.9 MB/s eta 0:00:01\n",
            "   -------------------------------------- - 10.9/11.5 MB 7.0 MB/s eta 0:00:01\n",
            "   ---------------------------------------  11.2/11.5 MB 7.0 MB/s eta 0:00:01\n",
            "   ---------------------------------------  11.5/11.5 MB 6.9 MB/s eta 0:00:01\n",
            "   ---------------------------------------  11.5/11.5 MB 6.9 MB/s eta 0:00:01\n",
            "   ---------------------------------------- 11.5/11.5 MB 6.5 MB/s eta 0:00:00\n",
            "Downloading pytz-2024.1-py2.py3-none-any.whl (505 kB)\n",
            "   ---------------------------------------- 0.0/505.5 kB ? eta -:--:--\n",
            "   ------------------------- -------------- 317.4/505.5 kB 9.6 MB/s eta 0:00:01\n",
            "   ---------------------------------------- 505.5/505.5 kB 7.9 MB/s eta 0:00:00\n",
            "Downloading tzdata-2024.1-py2.py3-none-any.whl (345 kB)\n",
            "   ---------------------------------------- 0.0/345.4 kB ? eta -:--:--\n",
            "   --------------------------------------  337.9/345.4 kB 10.2 MB/s eta 0:00:01\n",
            "   ---------------------------------------- 345.4/345.4 kB 7.1 MB/s eta 0:00:00\n",
            "Installing collected packages: pytz, tzdata, pandas, seaborn\n",
            "Successfully installed pandas-2.2.1 pytz-2024.1 seaborn-0.13.2 tzdata-2024.1\n"
          ]
        }
      ],
      "source": [
        "!pip install seaborn"
      ]
    },
    {
      "cell_type": "markdown",
      "metadata": {},
      "source": [
        ".. code:: py\n",
        "\n",
        "  # Other possible environment configurations are:\n",
        "\n",
        "  env = gym.make('Blackjack-v1', natural=True, sab=False)\n",
        "  # Whether to give an additional reward for starting with a natural blackjack, i.e. starting with an ace and ten (sum is 21).\n",
        "\n",
        "  env = gym.make('Blackjack-v1', natural=False, sab=False)\n",
        "  # Whether to follow the exact rules outlined in the book by Sutton and Barto. If `sab` is `True`, the keyword argument `natural` will be ignored.\n",
        "\n",
        "\n"
      ]
    },
    {
      "cell_type": "markdown",
      "metadata": {},
      "source": [
        "## Observing the environment\n",
        "\n",
        "First of all, we call ``env.reset()`` to start an episode. This function\n",
        "resets the environment to a starting position and returns an initial\n",
        "``observation``. We usually also set ``done = False``. This variable\n",
        "will be useful later to check if a game is terminated (i.e., the player wins or loses).\n",
        "\n",
        "\n"
      ]
    },
    {
      "cell_type": "code",
      "execution_count": null,
      "metadata": {
        "collapsed": false
      },
      "outputs": [],
      "source": [
        "# reset the environment to get the first observation\n",
        "done = False\n",
        "observation, info = env.reset()\n",
        "\n",
        "# observation = (16, 9, False)"
      ]
    },
    {
      "cell_type": "markdown",
      "metadata": {},
      "source": [
        "Note that our observation is a 3-tuple consisting of 3 values:\n",
        "\n",
        "-  The players current sum\n",
        "-  Value of the dealers face-up card\n",
        "-  Boolean whether the player holds a usable ace (An ace is usable if it\n",
        "   counts as 11 without busting)\n",
        "\n",
        "\n"
      ]
    },
    {
      "cell_type": "markdown",
      "metadata": {},
      "source": [
        "## Executing an action\n",
        "\n",
        "After receiving our first observation, we are only going to use the\n",
        "``env.step(action)`` function to interact with the environment. This\n",
        "function takes an action as input and executes it in the environment.\n",
        "Because that action changes the state of the environment, it returns\n",
        "four useful variables to us. These are:\n",
        "\n",
        "-  ``next_state``: This is the observation that the agent will receive\n",
        "   after taking the action.\n",
        "-  ``reward``: This is the reward that the agent will receive after\n",
        "   taking the action.\n",
        "-  ``terminated``: This is a boolean variable that indicates whether or\n",
        "   not the environment has terminated.\n",
        "-  ``truncated``: This is a boolean variable that also indicates whether\n",
        "   the episode ended by early truncation, i.e., a time limit is reached.\n",
        "-  ``info``: This is a dictionary that might contain additional\n",
        "   information about the environment.\n",
        "\n",
        "The ``next_state``, ``reward``,  ``terminated`` and ``truncated`` variables are\n",
        "self-explanatory, but the ``info`` variable requires some additional\n",
        "explanation. This variable contains a dictionary that might have some\n",
        "extra information about the environment, but in the Blackjack-v1\n",
        "environment you can ignore it. For example in Atari environments the\n",
        "info dictionary has a ``ale.lives`` key that tells us how many lives the\n",
        "agent has left. If the agent has 0 lives, then the episode is over.\n",
        "\n",
        "Note that it is not a good idea to call ``env.render()`` in your training\n",
        "loop because rendering slows down training by a lot. Rather try to build\n",
        "an extra loop to evaluate and showcase the agent after training.\n",
        "\n",
        "\n"
      ]
    },
    {
      "cell_type": "code",
      "execution_count": null,
      "metadata": {
        "collapsed": false
      },
      "outputs": [],
      "source": [
        "# sample a random action from all valid actions\n",
        "action = env.action_space.sample()\n",
        "# action=1\n",
        "\n",
        "# execute the action in our environment and receive infos from the environment\n",
        "observation, reward, terminated, truncated, info = env.step(action)\n",
        "\n",
        "# observation=(24, 10, False)\n",
        "# reward=-1.0\n",
        "# terminated=True\n",
        "# truncated=False\n",
        "# info={}"
      ]
    },
    {
      "cell_type": "markdown",
      "metadata": {},
      "source": [
        "Once ``terminated = True`` or ``truncated=True``, we should stop the\n",
        "current episode and begin a new one with ``env.reset()``. If you\n",
        "continue executing actions without resetting the environment, it still\n",
        "responds but the output won’t be useful for training (it might even be\n",
        "harmful if the agent learns on invalid data).\n",
        "\n",
        "\n"
      ]
    },
    {
      "cell_type": "markdown",
      "metadata": {},
      "source": [
        "## Building an agent\n",
        "\n",
        "Let’s build a ``Q-learning agent`` to solve *Blackjack-v1*! We’ll need\n",
        "some functions for picking an action and updating the agents action\n",
        "values. To ensure that the agents explores the environment, one possible\n",
        "solution is the ``epsilon-greedy`` strategy, where we pick a random\n",
        "action with the percentage ``epsilon`` and the greedy action (currently\n",
        "valued as the best) ``1 - epsilon``.\n",
        "\n",
        "\n"
      ]
    },
    {
      "cell_type": "code",
      "execution_count": null,
      "metadata": {
        "collapsed": false
      },
      "outputs": [],
      "source": [
        "class BlackjackAgent:\n",
        "    def __init__(\n",
        "        self,\n",
        "        learning_rate: float,\n",
        "        initial_epsilon: float,\n",
        "        epsilon_decay: float,\n",
        "        final_epsilon: float,\n",
        "        discount_factor: float = 0.95,\n",
        "    ):\n",
        "        \"\"\"Initialize a Reinforcement Learning agent with an empty dictionary\n",
        "        of state-action values (q_values), a learning rate and an epsilon.\n",
        "\n",
        "        Args:\n",
        "            learning_rate: The learning rate\n",
        "            initial_epsilon: The initial epsilon value\n",
        "            epsilon_decay: The decay for epsilon\n",
        "            final_epsilon: The final epsilon value\n",
        "            discount_factor: The discount factor for computing the Q-value\n",
        "        \"\"\"\n",
        "        self.q_values = defaultdict(lambda: np.zeros(env.action_space.n))\n",
        "\n",
        "        self.lr = learning_rate\n",
        "        self.discount_factor = discount_factor\n",
        "\n",
        "        self.epsilon = initial_epsilon\n",
        "        self.epsilon_decay = epsilon_decay\n",
        "        self.final_epsilon = final_epsilon\n",
        "\n",
        "        self.training_error = []\n",
        "\n",
        "    def get_action(self, obs: tuple[int, int, bool]) -> int:\n",
        "        \"\"\"\n",
        "        Returns the best action with probability (1 - epsilon)\n",
        "        otherwise a random action with probability epsilon to ensure exploration.\n",
        "        \"\"\"\n",
        "        # with probability epsilon return a random action to explore the environment\n",
        "        if np.random.random() < self.epsilon:\n",
        "            return env.action_space.sample()\n",
        "\n",
        "        # with probability (1 - epsilon) act greedily (exploit)\n",
        "        else:\n",
        "            return int(np.argmax(self.q_values[obs]))\n",
        "\n",
        "    def update(\n",
        "        self,\n",
        "        obs: tuple[int, int, bool],\n",
        "        action: int,\n",
        "        reward: float,\n",
        "        terminated: bool,\n",
        "        next_obs: tuple[int, int, bool],\n",
        "    ):\n",
        "        \"\"\"Updates the Q-value of an action.\"\"\"\n",
        "        future_q_value = (not terminated) * np.max(self.q_values[next_obs])\n",
        "        temporal_difference = (\n",
        "            reward + self.discount_factor * future_q_value - self.q_values[obs][action]\n",
        "        )\n",
        "\n",
        "        self.q_values[obs][action] = (\n",
        "            self.q_values[obs][action] + self.lr * temporal_difference\n",
        "        )\n",
        "        self.training_error.append(temporal_difference)\n",
        "\n",
        "    def decay_epsilon(self):\n",
        "        self.epsilon = max(self.final_epsilon, self.epsilon - epsilon_decay)"
      ]
    },
    {
      "cell_type": "markdown",
      "metadata": {},
      "source": [
        "To train the agent, we will let the agent play one episode (one complete\n",
        "game is called an episode) at a time and then update it’s Q-values after\n",
        "each episode. The agent will have to experience a lot of episodes to\n",
        "explore the environment sufficiently.\n",
        "\n",
        "Now we should be ready to build the training loop.\n",
        "\n",
        "\n"
      ]
    },
    {
      "cell_type": "code",
      "execution_count": null,
      "metadata": {
        "collapsed": false
      },
      "outputs": [],
      "source": [
        "# hyperparameters\n",
        "learning_rate = 0.01\n",
        "n_episodes = 100_000\n",
        "start_epsilon = 1.0\n",
        "epsilon_decay = start_epsilon / (n_episodes / 2)  # reduce the exploration over time\n",
        "final_epsilon = 0.1\n",
        "\n",
        "agent = BlackjackAgent(\n",
        "    learning_rate=learning_rate,\n",
        "    initial_epsilon=start_epsilon,\n",
        "    epsilon_decay=epsilon_decay,\n",
        "    final_epsilon=final_epsilon,\n",
        ")"
      ]
    },
    {
      "cell_type": "markdown",
      "metadata": {},
      "source": [
        "Great, let’s train!\n",
        "\n",
        "Info: The current hyperparameters are set to quickly train a decent agent.\n",
        "If you want to converge to the optimal policy, try increasing\n",
        "the n_episodes by 10x and lower the learning_rate (e.g. to 0.001).\n",
        "\n",
        "\n"
      ]
    },
    {
      "cell_type": "code",
      "execution_count": null,
      "metadata": {
        "collapsed": false
      },
      "outputs": [],
      "source": [
        "env = gym.wrappers.RecordEpisodeStatistics(env, deque_size=n_episodes)\n",
        "for episode in tqdm(range(n_episodes)):\n",
        "    obs, info = env.reset()\n",
        "    done = False\n",
        "\n",
        "    # play one episode\n",
        "    while not done:\n",
        "        action = agent.get_action(obs)\n",
        "        next_obs, reward, terminated, truncated, info = env.step(action)\n",
        "\n",
        "        # update the agent\n",
        "        agent.update(obs, action, reward, terminated, next_obs)\n",
        "\n",
        "        # update if the environment is done and the current obs\n",
        "        done = terminated or truncated\n",
        "        obs = next_obs\n",
        "\n",
        "    agent.decay_epsilon()"
      ]
    },
    {
      "cell_type": "markdown",
      "metadata": {},
      "source": [
        "## Visualizing the training\n",
        "\n",
        "\n"
      ]
    },
    {
      "cell_type": "code",
      "execution_count": null,
      "metadata": {
        "collapsed": false
      },
      "outputs": [],
      "source": [
        "rolling_length = 500\n",
        "fig, axs = plt.subplots(ncols=3, figsize=(12, 5))\n",
        "axs[0].set_title(\"Episode rewards\")\n",
        "# compute and assign a rolling average of the data to provide a smoother graph\n",
        "reward_moving_average = (\n",
        "    np.convolve(\n",
        "        np.array(env.return_queue).flatten(), np.ones(rolling_length), mode=\"valid\"\n",
        "    )\n",
        "    / rolling_length\n",
        ")\n",
        "axs[0].plot(range(len(reward_moving_average)), reward_moving_average)\n",
        "axs[1].set_title(\"Episode lengths\")\n",
        "length_moving_average = (\n",
        "    np.convolve(\n",
        "        np.array(env.length_queue).flatten(), np.ones(rolling_length), mode=\"same\"\n",
        "    )\n",
        "    / rolling_length\n",
        ")\n",
        "axs[1].plot(range(len(length_moving_average)), length_moving_average)\n",
        "axs[2].set_title(\"Training Error\")\n",
        "training_error_moving_average = (\n",
        "    np.convolve(np.array(agent.training_error), np.ones(rolling_length), mode=\"same\")\n",
        "    / rolling_length\n",
        ")\n",
        "axs[2].plot(range(len(training_error_moving_average)), training_error_moving_average)\n",
        "plt.tight_layout()\n",
        "plt.show()"
      ]
    },
    {
      "cell_type": "markdown",
      "metadata": {},
      "source": [
        "<img src=\"file://_static/img/tutorials/blackjack_training_plots.png\">\n",
        "\n",
        "\n"
      ]
    },
    {
      "cell_type": "markdown",
      "metadata": {},
      "source": [
        "## Visualising the policy\n",
        "\n"
      ]
    },
    {
      "cell_type": "code",
      "execution_count": null,
      "metadata": {
        "collapsed": false
      },
      "outputs": [],
      "source": [
        "def create_grids(agent, usable_ace=False):\n",
        "    \"\"\"Create value and policy grid given an agent.\"\"\"\n",
        "    # convert our state-action values to state values\n",
        "    # and build a policy dictionary that maps observations to actions\n",
        "    state_value = defaultdict(float)\n",
        "    policy = defaultdict(int)\n",
        "    for obs, action_values in agent.q_values.items():\n",
        "        state_value[obs] = float(np.max(action_values))\n",
        "        policy[obs] = int(np.argmax(action_values))\n",
        "\n",
        "    player_count, dealer_count = np.meshgrid(\n",
        "        # players count, dealers face-up card\n",
        "        np.arange(12, 22),\n",
        "        np.arange(1, 11),\n",
        "    )\n",
        "\n",
        "    # create the value grid for plotting\n",
        "    value = np.apply_along_axis(\n",
        "        lambda obs: state_value[(obs[0], obs[1], usable_ace)],\n",
        "        axis=2,\n",
        "        arr=np.dstack([player_count, dealer_count]),\n",
        "    )\n",
        "    value_grid = player_count, dealer_count, value\n",
        "\n",
        "    # create the policy grid for plotting\n",
        "    policy_grid = np.apply_along_axis(\n",
        "        lambda obs: policy[(obs[0], obs[1], usable_ace)],\n",
        "        axis=2,\n",
        "        arr=np.dstack([player_count, dealer_count]),\n",
        "    )\n",
        "    return value_grid, policy_grid\n",
        "\n",
        "\n",
        "def create_plots(value_grid, policy_grid, title: str):\n",
        "    \"\"\"Creates a plot using a value and policy grid.\"\"\"\n",
        "    # create a new figure with 2 subplots (left: state values, right: policy)\n",
        "    player_count, dealer_count, value = value_grid\n",
        "    fig = plt.figure(figsize=plt.figaspect(0.4))\n",
        "    fig.suptitle(title, fontsize=16)\n",
        "\n",
        "    # plot the state values\n",
        "    ax1 = fig.add_subplot(1, 2, 1, projection=\"3d\")\n",
        "    ax1.plot_surface(\n",
        "        player_count,\n",
        "        dealer_count,\n",
        "        value,\n",
        "        rstride=1,\n",
        "        cstride=1,\n",
        "        cmap=\"viridis\",\n",
        "        edgecolor=\"none\",\n",
        "    )\n",
        "    plt.xticks(range(12, 22), range(12, 22))\n",
        "    plt.yticks(range(1, 11), [\"A\"] + list(range(2, 11)))\n",
        "    ax1.set_title(f\"State values: {title}\")\n",
        "    ax1.set_xlabel(\"Player sum\")\n",
        "    ax1.set_ylabel(\"Dealer showing\")\n",
        "    ax1.zaxis.set_rotate_label(False)\n",
        "    ax1.set_zlabel(\"Value\", fontsize=14, rotation=90)\n",
        "    ax1.view_init(20, 220)\n",
        "\n",
        "    # plot the policy\n",
        "    fig.add_subplot(1, 2, 2)\n",
        "    ax2 = sns.heatmap(policy_grid, linewidth=0, annot=True, cmap=\"Accent_r\", cbar=False)\n",
        "    ax2.set_title(f\"Policy: {title}\")\n",
        "    ax2.set_xlabel(\"Player sum\")\n",
        "    ax2.set_ylabel(\"Dealer showing\")\n",
        "    ax2.set_xticklabels(range(12, 22))\n",
        "    ax2.set_yticklabels([\"A\"] + list(range(2, 11)), fontsize=12)\n",
        "\n",
        "    # add a legend\n",
        "    legend_elements = [\n",
        "        Patch(facecolor=\"lightgreen\", edgecolor=\"black\", label=\"Hit\"),\n",
        "        Patch(facecolor=\"grey\", edgecolor=\"black\", label=\"Stick\"),\n",
        "    ]\n",
        "    ax2.legend(handles=legend_elements, bbox_to_anchor=(1.3, 1))\n",
        "    return fig\n",
        "\n",
        "\n",
        "# state values & policy with usable ace (ace counts as 11)\n",
        "value_grid, policy_grid = create_grids(agent, usable_ace=True)\n",
        "fig1 = create_plots(value_grid, policy_grid, title=\"With usable ace\")\n",
        "plt.show()"
      ]
    },
    {
      "cell_type": "markdown",
      "metadata": {},
      "source": [
        "<img src=\"file://_static/img/tutorials/blackjack_with_usable_ace.png\">\n",
        "\n",
        "\n"
      ]
    },
    {
      "cell_type": "code",
      "execution_count": null,
      "metadata": {
        "collapsed": false
      },
      "outputs": [],
      "source": [
        "# state values & policy without usable ace (ace counts as 1)\n",
        "value_grid, policy_grid = create_grids(agent, usable_ace=False)\n",
        "fig2 = create_plots(value_grid, policy_grid, title=\"Without usable ace\")\n",
        "plt.show()"
      ]
    },
    {
      "cell_type": "markdown",
      "metadata": {},
      "source": [
        "<img src=\"file://_static/img/tutorials/blackjack_without_usable_ace.png\">\n",
        "\n",
        "It's good practice to call env.close() at the end of your script,\n",
        "so that any used resources by the environment will be closed.\n",
        "\n",
        "\n"
      ]
    },
    {
      "cell_type": "markdown",
      "metadata": {},
      "source": [
        "## Think you can do better?\n",
        "\n"
      ]
    },
    {
      "cell_type": "code",
      "execution_count": null,
      "metadata": {
        "collapsed": false
      },
      "outputs": [],
      "source": [
        "# You can visualize the environment using the play function\n",
        "# and try to win a few games."
      ]
    },
    {
      "cell_type": "markdown",
      "metadata": {},
      "source": [
        "Hopefully this Tutorial helped you get a grip of how to interact with\n",
        "OpenAI-Gym environments and sets you on a journey to solve many more RL\n",
        "challenges.\n",
        "\n",
        "It is recommended that you solve this environment by yourself (project\n",
        "based learning is really effective!). You can apply your favorite\n",
        "discrete RL algorithm or give Monte Carlo ES a try (covered in [Sutton &\n",
        "Barto](http://incompleteideas.net/book/the-book-2nd.html), section\n",
        "5.3) - this way you can compare your results directly to the book.\n",
        "\n",
        "Best of fun!\n",
        "\n",
        "\n"
      ]
    }
  ],
  "metadata": {
    "kernelspec": {
      "display_name": "Python 3",
      "language": "python",
      "name": "python3"
    },
    "language_info": {
      "codemirror_mode": {
        "name": "ipython",
        "version": 3
      },
      "file_extension": ".py",
      "mimetype": "text/x-python",
      "name": "python",
      "nbconvert_exporter": "python",
      "pygments_lexer": "ipython3",
      "version": "3.12.1"
    }
  },
  "nbformat": 4,
  "nbformat_minor": 0
}
