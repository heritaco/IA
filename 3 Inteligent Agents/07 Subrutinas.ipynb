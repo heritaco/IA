{
  "cells": [
    {
      "cell_type": "markdown",
      "metadata": {},
      "source": [
        "# Subrutinas en Python"
      ]
    },
    {
      "cell_type": "raw",
      "metadata": {},
      "source": [
        "Facilitan la estructuración y reutilización del código fuente,​\n",
        "\n",
        "Evitan la duplicación del mismo ​\n",
        "\n",
        "Facilitan la comprensión y depuración del código​\n",
        "\n",
        "Pueden ser llamados (call) desde diferentes partes del programa o desde otros Procedimientos y Funciones.​"
      ]
    },
    {
      "cell_type": "markdown",
      "metadata": {},
      "source": [
        "∆ Complejidad del algoritmo => hacer procesos (subprocesos)​\n",
        "\n",
        "Funciones​\n",
        "\n",
        "Procedimientos​\n",
        "\n",
        "Un programa se vuelve un proceso compuesto modularmente por subrutinas​\n",
        "\n",
        "Cada subrutina lleva a cabo una tarea específica​\n",
        "\n",
        "Bibliotecas (libraries): conjunto de subrutinas disponibles para que los utilicemos en la construcción de programas​\n",
        "\n",
        "Disponibles: Librerías de funciones (C, C++) o clases (Java, Swift, C#)​\n",
        "\n",
        "Creadas por nosotros​"
      ]
    },
    {
      "cell_type": "markdown",
      "metadata": {},
      "source": [
        "## Parámetros o argumentos\n",
        "\n",
        "entrada: recogen el valor que se ha pasado desde el programa principal.​\n",
        "\n",
        "salida: usados para devolver un valor.​\n",
        "\n",
        "Entrada/salida ​ ( Similar a las funciones en matemáticas: y=f(x))\n",
        "\n",
        "\n"
      ]
    },
    {
      "cell_type": "markdown",
      "metadata": {},
      "source": [
        "### Ejemplo"
      ]
    },
    {
      "cell_type": "code",
      "execution_count": 3,
      "metadata": {
        "trusted": true
      },
      "outputs": [
        {
          "name": "stdout",
          "output_type": "stream",
          "text": [
            "\n"
          ]
        }
      ],
      "source": [
        "print()"
      ]
    },
    {
      "cell_type": "markdown",
      "metadata": {},
      "source": [
        "### Usamos la estrategia \"Divide y Vencerás\"\n",
        "Pasos para programar una subrutina​\n",
        "\n",
        "1. Definir su identificador (UpperCamelCase)​\n",
        "\n",
        "2. Determinar si regresa valor o no (función, procedimiento)​\n",
        "\n",
        "3. Determinar datos de entrada (parámetros)​\n",
        "\n",
        "4. Describir el proceso de la subrutina (bloque de ejecución)​\n"
      ]
    },
    {
      "cell_type": "markdown",
      "metadata": {},
      "source": [
        "### Tipos de funciones​\n",
        "\n",
        "+ Built-in ​\n",
        "\n",
        "+ Definidas por usuario (UDF)​\n",
        "\n",
        "+ Funciones anónimas (funciones lambda): no son declaradas con la palabra reservada def​"
      ]
    },
    {
      "cell_type": "markdown",
      "metadata": {},
      "source": [
        "### Definir una función (UDF)"
      ]
    },
    {
      "cell_type": "code",
      "execution_count": 4,
      "metadata": {
        "trusted": true
      },
      "outputs": [
        {
          "name": "stdout",
          "output_type": "stream",
          "text": [
            "Hola Mundo\n"
          ]
        }
      ],
      "source": [
        "def Hello():\n",
        "    print(\"Hola Mundo\")\n",
        "    return\n",
        "\n",
        "Hello()"
      ]
    },
    {
      "cell_type": "markdown",
      "metadata": {},
      "source": [
        "También funciona sin return"
      ]
    },
    {
      "cell_type": "code",
      "execution_count": 5,
      "metadata": {
        "trusted": true
      },
      "outputs": [
        {
          "name": "stdout",
          "output_type": "stream",
          "text": [
            "Hola Mundo\n"
          ]
        }
      ],
      "source": [
        "def Hello():\n",
        "    print(\"Hola Mundo\")\n",
        "    \n",
        "Hello()"
      ]
    },
    {
      "cell_type": "markdown",
      "metadata": {},
      "source": [
        "Pero siempre sale de la llamada a la función si encuentra un return"
      ]
    },
    {
      "cell_type": "code",
      "execution_count": 6,
      "metadata": {
        "trusted": true
      },
      "outputs": [
        {
          "name": "stdout",
          "output_type": "stream",
          "text": [
            "Run!\n",
            "Run!\n"
          ]
        }
      ],
      "source": [
        "def Run():\n",
        "    for x in range(10):\n",
        "        if x == 2:\n",
        "            return\n",
        "        print(\"Run!\")\n",
        "Run()"
      ]
    },
    {
      "cell_type": "markdown",
      "metadata": {},
      "source": [
        "Es importante que los Procedimientos y Funciones validen internamente que los datos recibidos son válidos.​"
      ]
    },
    {
      "cell_type": "code",
      "execution_count": 8,
      "metadata": {
        "trusted": true
      },
      "outputs": [
        {
          "name": "stdout",
          "output_type": "stream",
          "text": [
            "Hello Sandra\n"
          ]
        }
      ],
      "source": [
        "def HelloName(name):\n",
        "    if name:\n",
        "        print(\"Hello \" + name)\n",
        "    else:\n",
        "         print(\"Hello ...\")\n",
        "    return\n",
        "\n",
        "HelloName(\"Sandra\")"
      ]
    },
    {
      "cell_type": "code",
      "execution_count": 10,
      "metadata": {
        "trusted": true
      },
      "outputs": [
        {
          "name": "stdout",
          "output_type": "stream",
          "text": [
            "Hello ...\n"
          ]
        }
      ],
      "source": [
        "HelloName(_)"
      ]
    },
    {
      "cell_type": "markdown",
      "metadata": {},
      "source": [
        "### Funciones con múltiples valores"
      ]
    },
    {
      "cell_type": "code",
      "execution_count": 11,
      "metadata": {
        "trusted": true
      },
      "outputs": [
        {
          "name": "stdout",
          "output_type": "stream",
          "text": [
            "7\n",
            "first value:  3\n"
          ]
        }
      ],
      "source": [
        "def Plus(a,b):\n",
        "    summation = a + b\n",
        "    return (summation, a)\n",
        "summation, a = Plus(3,4)\n",
        "print(summation)\n",
        "print(\"first value: \", a)"
      ]
    },
    {
      "cell_type": "markdown",
      "metadata": {},
      "source": [
        "### Funciones con argumentos por default"
      ]
    },
    {
      "cell_type": "code",
      "execution_count": 12,
      "metadata": {
        "trusted": true
      },
      "outputs": [
        {
          "name": "stdout",
          "output_type": "stream",
          "text": [
            "3\n"
          ]
        }
      ],
      "source": [
        "def Plus(a,b = 2):\n",
        "    return(a + b)\n",
        "    \n",
        "print(Plus(a=1))"
      ]
    },
    {
      "cell_type": "code",
      "execution_count": 13,
      "metadata": {
        "trusted": true
      },
      "outputs": [
        {
          "data": {
            "text/plain": [
              "4"
            ]
          },
          "execution_count": 13,
          "metadata": {},
          "output_type": "execute_result"
        }
      ],
      "source": [
        "Plus(a=1, b=3)"
      ]
    },
    {
      "cell_type": "code",
      "execution_count": 14,
      "metadata": {
        "trusted": true
      },
      "outputs": [
        {
          "data": {
            "text/plain": [
              "5"
            ]
          },
          "execution_count": 14,
          "metadata": {},
          "output_type": "execute_result"
        }
      ],
      "source": [
        "Plus(1,4)"
      ]
    },
    {
      "cell_type": "code",
      "execution_count": 15,
      "metadata": {
        "trusted": true
      },
      "outputs": [
        {
          "data": {
            "text/plain": [
              "3"
            ]
          },
          "execution_count": 15,
          "metadata": {},
          "output_type": "execute_result"
        }
      ],
      "source": [
        "Plus(1)"
      ]
    },
    {
      "cell_type": "markdown",
      "metadata": {},
      "source": [
        "#### Función con argumentos requeridos"
      ]
    },
    {
      "cell_type": "code",
      "execution_count": 17,
      "metadata": {
        "trusted": true
      },
      "outputs": [
        {
          "name": "stdout",
          "output_type": "stream",
          "text": [
            "11\n"
          ]
        }
      ],
      "source": [
        "def PlusReq(a,b):\n",
        "    return(a + b)\n",
        "    \n",
        "print(PlusReq(5,6))"
      ]
    },
    {
      "cell_type": "code",
      "execution_count": 18,
      "metadata": {
        "trusted": true
      },
      "outputs": [
        {
          "ename": "<class 'TypeError'>",
          "evalue": "PlusReq() missing 1 required positional argument: 'b'",
          "output_type": "error",
          "traceback": [
            "\u001b[0;31m---------------------------------------------------------------------------\u001b[0m",
            "\u001b[0;31mTypeError\u001b[0m                                 Traceback (most recent call last)",
            "Input \u001b[0;32mIn [18]\u001b[0m, in \u001b[0;36m<cell line: 1>\u001b[0;34m()\u001b[0m\n\u001b[0;32m----> 1\u001b[0m \u001b[43mPlusReq\u001b[49m\u001b[43m(\u001b[49m\u001b[38;5;241;43m2\u001b[39;49m\u001b[43m)\u001b[49m\n",
            "\u001b[0;31mTypeError\u001b[0m: PlusReq() missing 1 required positional argument: 'b'"
          ]
        }
      ],
      "source": [
        "PlusReq(2)"
      ]
    },
    {
      "cell_type": "markdown",
      "metadata": {},
      "source": [
        "#### Función con argumentos y keywords"
      ]
    },
    {
      "cell_type": "code",
      "execution_count": 19,
      "metadata": {
        "trusted": true
      },
      "outputs": [
        {
          "name": "stdout",
          "output_type": "stream",
          "text": [
            "2.0\n"
          ]
        }
      ],
      "source": [
        "def divide(a, b):\n",
        "    return a/b\n",
        "print(divide(10,5))"
      ]
    },
    {
      "cell_type": "code",
      "execution_count": 20,
      "metadata": {
        "trusted": true
      },
      "outputs": [
        {
          "data": {
            "text/plain": [
              "20.0"
            ]
          },
          "execution_count": 20,
          "metadata": {},
          "output_type": "execute_result"
        }
      ],
      "source": [
        "divide(a=100, b=5)"
      ]
    },
    {
      "cell_type": "code",
      "execution_count": 21,
      "metadata": {
        "trusted": true
      },
      "outputs": [
        {
          "data": {
            "text/plain": [
              "0.5"
            ]
          },
          "execution_count": 21,
          "metadata": {},
          "output_type": "execute_result"
        }
      ],
      "source": [
        "divide(b=10, a=5)"
      ]
    },
    {
      "cell_type": "markdown",
      "metadata": {},
      "source": [
        "#### Función con número variable de argumentos"
      ]
    },
    {
      "cell_type": "code",
      "execution_count": 23,
      "metadata": {
        "trusted": true
      },
      "outputs": [
        {
          "data": {
            "text/plain": [
              "10"
            ]
          },
          "execution_count": 23,
          "metadata": {},
          "output_type": "execute_result"
        }
      ],
      "source": [
        "def PlusMany(*args):\n",
        "    return sum(args)\n",
        "\n",
        "PlusMany(1,4,5)"
      ]
    },
    {
      "cell_type": "markdown",
      "metadata": {},
      "source": [
        "#### Si no tuviéramos definida sum"
      ]
    },
    {
      "cell_type": "code",
      "execution_count": 25,
      "metadata": {
        "trusted": true
      },
      "outputs": [
        {
          "data": {
            "text/plain": [
              "25"
            ]
          },
          "execution_count": 25,
          "metadata": {},
          "output_type": "execute_result"
        }
      ],
      "source": [
        "def PlusMany2(*args):\n",
        "    total = 0\n",
        "    for i in args:\n",
        "        total += i\n",
        "    return total\n",
        "\n",
        "PlusMany2(4,5,6,10)"
      ]
    },
    {
      "cell_type": "markdown",
      "metadata": {},
      "source": [
        "## Paso de valores\n",
        "La ejecución de una función introduce una nueva tabla de símbolos usada por las variables locales de la función​\n",
        "\n",
        "+ Paso por valor​\n",
        "\n",
        "Las variables globales y las variables de otras funciones no pueden ser modificadas desde dentro de una función a menos que pasen por referencia​\n",
        "+ Lo que pasa dentro de la función se queda en la función"
      ]
    },
    {
      "cell_type": "code",
      "execution_count": 26,
      "metadata": {
        "trusted": true
      },
      "outputs": [
        {
          "name": "stdout",
          "output_type": "stream",
          "text": [
            "Variable Global:  1\n"
          ]
        }
      ],
      "source": [
        "total = 1\n",
        "\n",
        "def VarLocal():\n",
        "    total = 19\n",
        "    return total\n",
        "\n",
        "print (\"Variable Global: \", total)\n"
      ]
    },
    {
      "cell_type": "code",
      "execution_count": 28,
      "metadata": {
        "trusted": true
      },
      "outputs": [
        {
          "ename": "<class 'NameError'>",
          "evalue": "name 'totalLocal' is not defined",
          "output_type": "error",
          "traceback": [
            "\u001b[0;31m---------------------------------------------------------------------------\u001b[0m",
            "\u001b[0;31mNameError\u001b[0m                                 Traceback (most recent call last)",
            "Input \u001b[0;32mIn [28]\u001b[0m, in \u001b[0;36m<cell line: 6>\u001b[0;34m()\u001b[0m\n\u001b[1;32m      3\u001b[0m     \u001b[38;5;28;01mreturn\u001b[39;00m totalLocal\n\u001b[1;32m      5\u001b[0m \u001b[38;5;66;03m#Esta variable solo existe dentro de la ejecución de la función\u001b[39;00m\n\u001b[0;32m----> 6\u001b[0m \u001b[43mtotalLocal\u001b[49m\n",
            "\u001b[0;31mNameError\u001b[0m: name 'totalLocal' is not defined"
          ]
        }
      ],
      "source": [
        "def OnlyVarLocal():\n",
        "    totalLocal = 19\n",
        "    return totalLocal\n",
        "\n",
        "#Esta variable solo existe dentro de la ejecución de la función\n",
        "totalLocal "
      ]
    },
    {
      "cell_type": "markdown",
      "metadata": {},
      "source": [
        "### Función que no regresa valor (procedimiento, regresa none)"
      ]
    },
    {
      "cell_type": "code",
      "execution_count": 31,
      "metadata": {
        "trusted": true
      },
      "outputs": [
        {
          "name": "stdout",
          "output_type": "stream",
          "text": [
            "0,1,1,2,3,5,8,13,21,34,55,89,144,\n"
          ]
        }
      ],
      "source": [
        "def fib(n):\n",
        "    a, b = 0, 1\n",
        "    while a < n:\n",
        "        print(a, end=',')\n",
        "        a, b = b, a + b\n",
        "    print()\n",
        "        \n",
        "fib(200)"
      ]
    },
    {
      "cell_type": "markdown",
      "metadata": {},
      "source": [
        "#### Función que sí regresa valor"
      ]
    },
    {
      "cell_type": "code",
      "execution_count": 32,
      "metadata": {
        "trusted": true
      },
      "outputs": [
        {
          "data": {
            "text/plain": [
              "[0, 1, 1, 2, 3, 5, 8, 13, 21, 34, 55, 89, 144]"
            ]
          },
          "execution_count": 32,
          "metadata": {},
          "output_type": "execute_result"
        }
      ],
      "source": [
        "def fib2(n):\n",
        "    result = []\n",
        "    a, b = 0, 1\n",
        "    while a < n:\n",
        "        result.append(a)\n",
        "        a, b = b, a + b\n",
        "    return result\n",
        "        \n",
        "flist = fib2(200)\n",
        "flist"
      ]
    },
    {
      "cell_type": "markdown",
      "metadata": {},
      "source": [
        "## Usando main() como funcíon\n",
        "En Python no es necesario pero es posible\n"
      ]
    },
    {
      "cell_type": "code",
      "execution_count": 37,
      "metadata": {
        "trusted": true
      },
      "outputs": [
        {
          "name": "stdout",
          "output_type": "stream",
          "text": [
            "Hello Pedro\n",
            "this is a main function\n"
          ]
        }
      ],
      "source": [
        "def main():\n",
        "    Hello(\"Pedro\")\n",
        "    print(\"this is a main function\")\n",
        "\n",
        "main()"
      ]
    },
    {
      "cell_type": "markdown",
      "metadata": {},
      "source": [
        "# Funciones anónimas en Python (Lambda)"
      ]
    },
    {
      "cell_type": "markdown",
      "metadata": {},
      "source": [
        "Se usan cuando se requiere una función sin nombre, por un periodo corto de tiempo y creada en tiempo de ejecución​"
      ]
    },
    {
      "cell_type": "code",
      "execution_count": 38,
      "metadata": {
        "trusted": true
      },
      "outputs": [
        {
          "data": {
            "text/plain": [
              "10"
            ]
          },
          "execution_count": 38,
          "metadata": {},
          "output_type": "execute_result"
        }
      ],
      "source": [
        "double = lambda x: x * 2\n",
        "\n",
        "double(5)"
      ]
    },
    {
      "cell_type": "markdown",
      "metadata": {},
      "source": [
        "Esto es similar a definir una función:\n"
      ]
    },
    {
      "cell_type": "code",
      "execution_count": null,
      "metadata": {},
      "outputs": [],
      "source": [
        "def double (x):\n",
        "    return x*2"
      ]
    },
    {
      "cell_type": "markdown",
      "metadata": {},
      "source": [
        "### Un ejemplo para usos de una función lambda "
      ]
    },
    {
      "cell_type": "code",
      "execution_count": 49,
      "metadata": {
        "trusted": true
      },
      "outputs": [
        {
          "data": {
            "text/plain": [
              "[1, 2, 3, 4, 5, 6, 7, 8, 9, 10]"
            ]
          },
          "execution_count": 49,
          "metadata": {},
          "output_type": "execute_result"
        }
      ],
      "source": [
        "myList = list(range(1,11))\n",
        "myList"
      ]
    },
    {
      "cell_type": "code",
      "execution_count": 45,
      "metadata": {
        "trusted": true
      },
      "outputs": [
        {
          "data": {
            "text/plain": [
              "[6, 7, 8, 9, 10]"
            ]
          },
          "execution_count": 45,
          "metadata": {},
          "output_type": "execute_result"
        }
      ],
      "source": [
        "filteredList = list(filter(lambda x: (x*2 > 10), myList))\n",
        "filteredList\n",
        "#filter extrae elementos de una estructura iterable y crea un nuevo iterador "
      ]
    },
    {
      "cell_type": "code",
      "execution_count": 46,
      "metadata": {
        "trusted": true
      },
      "outputs": [
        {
          "data": {
            "text/plain": [
              "[2, 4, 6, 8, 10, 12, 14, 16, 18, 20]"
            ]
          },
          "execution_count": 46,
          "metadata": {},
          "output_type": "execute_result"
        }
      ],
      "source": [
        "mappedList = list(map(lambda x: x*2, myList))\n",
        "mappedList\n",
        "#map opera cada elemento de un iterable y crea un nuevo iterador"
      ]
    },
    {
      "cell_type": "code",
      "execution_count": 50,
      "metadata": {
        "trusted": true
      },
      "outputs": [
        {
          "name": "stdout",
          "output_type": "stream",
          "text": [
            "2\n"
          ]
        }
      ],
      "source": [
        "# Example of lambda function using if-else\n",
        "Max = lambda a, b : a if(a > b) else b\n",
        " \n",
        "print(Max(1, 2))"
      ]
    },
    {
      "cell_type": "code",
      "execution_count": 52,
      "metadata": {
        "trusted": true
      },
      "outputs": [
        {
          "name": "stdout",
          "output_type": "stream",
          "text": [
            "['DOG', 'CAT', 'PARROT', 'RABBIT']\n"
          ]
        }
      ],
      "source": [
        "animals = ['dog', 'cat', 'parrot', 'rabbit']\n",
        " \n",
        "# here we intend to change all animal names\n",
        "# to upper case and return the same\n",
        "uppered_animals = list(map(lambda animal: str.upper(animal), animals))\n",
        " \n",
        "print(uppered_animals)"
      ]
    },
    {
      "cell_type": "markdown",
      "metadata": {},
      "source": [
        "### El siguiente ejemplo usa una lista de listas (una lista de dos dimensiones)"
      ]
    },
    {
      "cell_type": "markdown",
      "metadata": {},
      "source": [
        "Explica que sucede en el siguiente bloque de código"
      ]
    },
    {
      "cell_type": "code",
      "execution_count": 51,
      "metadata": {
        "trusted": true
      },
      "outputs": [
        {
          "name": "stdout",
          "output_type": "stream",
          "text": [
            "[3, 16, 9]\n"
          ]
        }
      ],
      "source": [
        "\n",
        "List2D = [[2,3,4],[1, 4, 16, 64],[3, 6, 9, 12]]\n",
        " \n",
        "# Sort each sublist\n",
        "sortList = lambda x: (sorted(i) for i in x)\n",
        " \n",
        "# Get the second largest element\n",
        "secondLargest = lambda x, f : [y[len(y)-2] for y in f(x)]\n",
        "res = secondLargest(List2D, sortList)\n",
        " \n",
        "print(res)"
      ]
    },
    {
      "cell_type": "markdown",
      "metadata": {},
      "source": [
        "¿que me dices del siguiente ejemplo?"
      ]
    },
    {
      "cell_type": "code",
      "execution_count": 53,
      "metadata": {
        "trusted": true
      },
      "outputs": [
        {
          "name": "stdout",
          "output_type": "stream",
          "text": [
            "The maximum element of the list is : 6\n"
          ]
        }
      ],
      "source": [
        "import functools\n",
        " \n",
        "# initializing list\n",
        "lis = [ 1 , 3, 5, 6, 2, ]\n",
        " \n",
        "# using reduce to compute maximum element from list\n",
        "print (\"The maximum element of the list is : \",end=\"\")\n",
        "print (functools.reduce(lambda a,b : a if a > b else b,lis))"
      ]
    }
  ],
  "metadata": {
    "kernelspec": {
      "display_name": "Python 3",
      "language": "python",
      "name": "python3"
    },
    "language_info": {
      "codemirror_mode": {
        "name": "ipython",
        "version": 3
      },
      "file_extension": ".py",
      "mimetype": "text/x-python",
      "name": "python",
      "nbconvert_exporter": "python",
      "pygments_lexer": "ipython3",
      "version": "3.12.1"
    }
  },
  "nbformat": 4,
  "nbformat_minor": 4
}
