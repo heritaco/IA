{
 "cells": [
  {
   "cell_type": "markdown",
   "metadata": {},
   "source": [
    "Es para un and\n",
    "\n",
    "Brute force changing the weight, adding and subtracting\n"
   ]
  },
  {
   "cell_type": "code",
   "execution_count": 2,
   "metadata": {},
   "outputs": [],
   "source": [
    "import random\n",
    "\n",
    "x1 = [1, 1, 0, 0]\n",
    "x2 = [1, 0, 1, 0]\n",
    "y = [0, 0, 0, 0]\n",
    "bias = 1\n",
    "expectedY = [1, 0, 0, 0]"
   ]
  },
  {
   "cell_type": "markdown",
   "metadata": {},
   "source": [
    "Ponemos los pesos"
   ]
  },
  {
   "cell_type": "code",
   "execution_count": 3,
   "metadata": {},
   "outputs": [
    {
     "name": "stdout",
     "output_type": "stream",
     "text": [
      "[-0.21387831225874843, 0.9991605646754431, 0.5841790842457488]\n"
     ]
    }
   ],
   "source": [
    "w1 = random.uniform(-1, 1)\n",
    "w2 = random.uniform(-1, 1)\n",
    "wb = random.uniform(-1, 1)\n",
    "\n",
    "weights = [w1, w2, wb]\n",
    "\n",
    "print(weights)"
   ]
  },
  {
   "cell_type": "code",
   "execution_count": 4,
   "metadata": {},
   "outputs": [
    {
     "name": "stdout",
     "output_type": "stream",
     "text": [
      "-0.21387831225874843 0.9991605646754431 0.5841790842457488\n"
     ]
    }
   ],
   "source": [
    "print(w1, w2, wb)"
   ]
  },
  {
   "cell_type": "code",
   "execution_count": 62,
   "metadata": {},
   "outputs": [],
   "source": [
    "def activationFunction(a:float)->float:\n",
    "    if a > 0:\n",
    "        y = 1\n",
    "    else:\n",
    "        y = 0\n",
    "    return y"
   ]
  },
  {
   "cell_type": "markdown",
   "metadata": {},
   "source": [
    "Calculamos nuestro Forward pass"
   ]
  },
  {
   "cell_type": "code",
   "execution_count": 63,
   "metadata": {},
   "outputs": [
    {
     "name": "stdout",
     "output_type": "stream",
     "text": [
      "1 1\n",
      "1 0\n",
      "0 0\n",
      "1 0\n"
     ]
    },
    {
     "data": {
      "text/plain": [
       "[1, 1, 0, 1]"
      ]
     },
     "execution_count": 63,
     "metadata": {},
     "output_type": "execute_result"
    }
   ],
   "source": [
    "for i in range(4):\n",
    "    a = x1[i]*w1 + x2[i]*w2 + bias*wb\n",
    "    y[i] = activationFunction(a)\n",
    "    print(y[i], expectedY[i])\n",
    "y"
   ]
  },
  {
   "cell_type": "code",
   "execution_count": 64,
   "metadata": {},
   "outputs": [],
   "source": [
    "learningRate = .1"
   ]
  },
  {
   "cell_type": "markdown",
   "metadata": {},
   "source": [
    "The training process"
   ]
  },
  {
   "cell_type": "code",
   "execution_count": 65,
   "metadata": {},
   "outputs": [],
   "source": [
    "# Train Function\n",
    "def train(x1, x2, y, expectedY:int , w1, w2, wb:float)->float   :\n",
    "    error = 0\n",
    "    print()\n",
    "    print(w1, w2, wb)\n",
    "    for i in range(4):\n",
    "        a = x1[i]*w1 + x2[i]*w2 + bias*wb # calculate the activation function\n",
    "        y[i] = activationFunction(a) # calculate the output\n",
    "        error = expectedY[i] - y[i] # calculate the error, expectedY - y\n",
    "        print(\"Expected \", expectedY[i], \"and got  \", y[i])\n",
    "        if error != 0:\n",
    "            print(\"Adjsuting weights...\")\n",
    "            w1 = w1 + learningRate*error\n",
    "            w2 = w2 + learningRate*error\n",
    "            wb = wb + learningRate*error\n",
    "            print(w1, w2, wb)"
   ]
  },
  {
   "cell_type": "code",
   "execution_count": null,
   "metadata": {},
   "outputs": [],
   "source": []
  },
  {
   "cell_type": "code",
   "execution_count": 66,
   "metadata": {},
   "outputs": [
    {
     "name": "stdout",
     "output_type": "stream",
     "text": [
      "0\n",
      "\n",
      "0.7123917865785239 -0.9174037624183276 0.2160404735714585\n",
      "Expected  1 and got   1\n",
      "Expected  0 and got   1\n",
      "Adjsuting weights...\n",
      "0.6123917865785239 -1.0174037624183276 0.1160404735714585\n",
      "Expected  0 and got   0\n",
      "Expected  0 and got   1\n",
      "Adjsuting weights...\n",
      "0.5123917865785239 -1.1174037624183277 0.01604047357145849\n",
      "1\n",
      "\n",
      "0.7123917865785239 -0.9174037624183276 0.2160404735714585\n",
      "Expected  1 and got   1\n",
      "Expected  0 and got   1\n",
      "Adjsuting weights...\n",
      "0.6123917865785239 -1.0174037624183276 0.1160404735714585\n",
      "Expected  0 and got   0\n",
      "Expected  0 and got   1\n",
      "Adjsuting weights...\n",
      "0.5123917865785239 -1.1174037624183277 0.01604047357145849\n",
      "2\n",
      "\n",
      "0.7123917865785239 -0.9174037624183276 0.2160404735714585\n",
      "Expected  1 and got   1\n",
      "Expected  0 and got   1\n",
      "Adjsuting weights...\n",
      "0.6123917865785239 -1.0174037624183276 0.1160404735714585\n",
      "Expected  0 and got   0\n",
      "Expected  0 and got   1\n",
      "Adjsuting weights...\n",
      "0.5123917865785239 -1.1174037624183277 0.01604047357145849\n",
      "3\n",
      "\n",
      "0.7123917865785239 -0.9174037624183276 0.2160404735714585\n",
      "Expected  1 and got   1\n",
      "Expected  0 and got   1\n",
      "Adjsuting weights...\n",
      "0.6123917865785239 -1.0174037624183276 0.1160404735714585\n",
      "Expected  0 and got   0\n",
      "Expected  0 and got   1\n",
      "Adjsuting weights...\n",
      "0.5123917865785239 -1.1174037624183277 0.01604047357145849\n",
      "4\n",
      "\n",
      "0.7123917865785239 -0.9174037624183276 0.2160404735714585\n",
      "Expected  1 and got   1\n",
      "Expected  0 and got   1\n",
      "Adjsuting weights...\n",
      "0.6123917865785239 -1.0174037624183276 0.1160404735714585\n",
      "Expected  0 and got   0\n",
      "Expected  0 and got   1\n",
      "Adjsuting weights...\n",
      "0.5123917865785239 -1.1174037624183277 0.01604047357145849\n",
      "5\n",
      "\n",
      "0.7123917865785239 -0.9174037624183276 0.2160404735714585\n",
      "Expected  1 and got   1\n",
      "Expected  0 and got   1\n",
      "Adjsuting weights...\n",
      "0.6123917865785239 -1.0174037624183276 0.1160404735714585\n",
      "Expected  0 and got   0\n",
      "Expected  0 and got   1\n",
      "Adjsuting weights...\n",
      "0.5123917865785239 -1.1174037624183277 0.01604047357145849\n",
      "6\n",
      "\n",
      "0.7123917865785239 -0.9174037624183276 0.2160404735714585\n",
      "Expected  1 and got   1\n",
      "Expected  0 and got   1\n",
      "Adjsuting weights...\n",
      "0.6123917865785239 -1.0174037624183276 0.1160404735714585\n",
      "Expected  0 and got   0\n",
      "Expected  0 and got   1\n",
      "Adjsuting weights...\n",
      "0.5123917865785239 -1.1174037624183277 0.01604047357145849\n",
      "7\n",
      "\n",
      "0.7123917865785239 -0.9174037624183276 0.2160404735714585\n",
      "Expected  1 and got   1\n",
      "Expected  0 and got   1\n",
      "Adjsuting weights...\n",
      "0.6123917865785239 -1.0174037624183276 0.1160404735714585\n",
      "Expected  0 and got   0\n",
      "Expected  0 and got   1\n",
      "Adjsuting weights...\n",
      "0.5123917865785239 -1.1174037624183277 0.01604047357145849\n",
      "8\n",
      "\n",
      "0.7123917865785239 -0.9174037624183276 0.2160404735714585\n",
      "Expected  1 and got   1\n",
      "Expected  0 and got   1\n",
      "Adjsuting weights...\n",
      "0.6123917865785239 -1.0174037624183276 0.1160404735714585\n",
      "Expected  0 and got   0\n",
      "Expected  0 and got   1\n",
      "Adjsuting weights...\n",
      "0.5123917865785239 -1.1174037624183277 0.01604047357145849\n",
      "9\n",
      "\n",
      "0.7123917865785239 -0.9174037624183276 0.2160404735714585\n",
      "Expected  1 and got   1\n",
      "Expected  0 and got   1\n",
      "Adjsuting weights...\n",
      "0.6123917865785239 -1.0174037624183276 0.1160404735714585\n",
      "Expected  0 and got   0\n",
      "Expected  0 and got   1\n",
      "Adjsuting weights...\n",
      "0.5123917865785239 -1.1174037624183277 0.01604047357145849\n"
     ]
    }
   ],
   "source": [
    "weights = [w1, w2, wb]\n",
    "\n",
    "for epoch in range(10):\n",
    "    print(epoch)\n",
    "    train(x1, x2, y, expectedY, w1, w2, wb)"
   ]
  },
  {
   "cell_type": "code",
   "execution_count": 67,
   "metadata": {},
   "outputs": [],
   "source": [
    "import random\n",
    "trainingset = [[1, 1, 1], [1, 0, 0], [0, 1, 0], [0, 0, 0]]\n",
    "eta = 0.3\n",
    "maxiterations = 100\n",
    "w1 = random.uniform(-0.2 , 0.2)\n",
    "w2 = random.uniform(-1, 1)\n",
    "wb = random.uniform(-1, 1)\n",
    "error = random.uniform(-1, 1)"
   ]
  },
  {
   "cell_type": "markdown",
   "metadata": {},
   "source": []
  }
 ],
 "metadata": {
  "kernelspec": {
   "display_name": "Python 3",
   "language": "python",
   "name": "python3"
  },
  "language_info": {
   "codemirror_mode": {
    "name": "ipython",
    "version": 3
   },
   "file_extension": ".py",
   "mimetype": "text/x-python",
   "name": "python",
   "nbconvert_exporter": "python",
   "pygments_lexer": "ipython3",
   "version": "3.12.1"
  }
 },
 "nbformat": 4,
 "nbformat_minor": 2
}
