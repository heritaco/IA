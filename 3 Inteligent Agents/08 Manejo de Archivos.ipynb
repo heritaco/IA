{
 "cells": [
  {
   "cell_type": "markdown",
   "id": "b364c6c8",
   "metadata": {},
   "source": [
    "# Abrir y leer un archivo de TEXTO"
   ]
  },
  {
   "cell_type": "code",
   "execution_count": 1,
   "id": "fe35b9fc",
   "metadata": {},
   "outputs": [
    {
     "name": "stdout",
     "output_type": "stream",
     "text": [
      "Netflix TV Shows and Movies\n",
      "https://www.kaggle.com/datasets/victorsoeiro/netflix-tv-shows-and-movies 1/1\n",
      "License: CC0: Public Domain\n",
      "Netflix - TV Shows and Movies\n",
      "This data set was created to list all shows available on Netflix streaming, and analyze the data to find interesting facts. This data was acquired\n",
      "in May 2022 containing data available in the United States.\n",
      "\n",
      "Content\n",
      "This dataset has two files containing the titles (titles.csv) and the cast (credits.csv) for the title.\n",
      "This dataset contains +5k unique titles on Netflix with 15 columns containing their information, including:\n",
      "ID: The title ID on JustWatch.\n",
      "title: The name of the title.\n",
      "show type: TV show or movie.\n",
      "description: A brief description.\n",
      "release year: The release year.\n",
      "age certification: The age certification.\n",
      "runtime: The length of the episode (SHOW) or movie.\n",
      "genres: A list of genres.\n",
      "production countries: A list of countries that produced the title.\n",
      "seasons: Number of seasons if it's a SHOW.\n",
      "IMDB ID: The title ID on IMDB.\n",
      "IMDB Score: Score on IMDB.\n",
      "IMDB Votes: Votes on IMDB.\n",
      "TMDB Popularity: Popularity on TMDB.\n",
      "TMDB Score: Score on TMDB.\n",
      "And over +77k credits of actors and directors\n",
      "Se cerró el archivo?  False\n",
      "Se cerró el archivo?  True\n"
     ]
    }
   ],
   "source": [
    "f = open('NetflixDatasetDescription.txt')\n",
    "filecontents = f.read()\n",
    "print(filecontents)\n",
    "print('Se cerró el archivo? ', f.closed)\n",
    "# se requiere cerrar el archivo explícitamente\n",
    "f.close()\n",
    "print('Se cerró el archivo? ', f.closed)"
   ]
  },
  {
   "cell_type": "code",
   "execution_count": null,
   "id": "a22c2897",
   "metadata": {},
   "outputs": [],
   "source": [
    "# Otra forma\n",
    "# al usar un ciclo de esta forma, no se requiere cerrar explícitamente el archivo con close()"
   ]
  },
  {
   "cell_type": "code",
   "execution_count": 6,
   "id": "208b7b03",
   "metadata": {},
   "outputs": [
    {
     "name": "stdout",
     "output_type": "stream",
     "text": [
      "Ne\n",
      "Se cerró el archivo?  True\n"
     ]
    }
   ],
   "source": [
    "with open('NetflixDatasetDescription.txt') as f:\n",
    "     filecontents = f.read()\n",
    "     print(filecontents)\n",
    "print('Se cerró el archivo? ', f.closed)"
   ]
  },
  {
   "cell_type": "code",
   "execution_count": null,
   "id": "1f0601dc",
   "metadata": {},
   "outputs": [],
   "source": [
    "# además se puede leer un archivo por partes:\n",
    "\"\"\"\n",
    "read([size]) lee todo el archivo si no se indica tamaño (en número de caracteres)\n",
    "readline() lee el texto hasta el final de la línea\n",
    "readlines() lee todas las líneas de texto del archivo y las pasa a una lista\n",
    "\"\"\""
   ]
  },
  {
   "cell_type": "code",
   "execution_count": 7,
   "id": "2835f827",
   "metadata": {},
   "outputs": [
    {
     "name": "stdout",
     "output_type": "stream",
     "text": [
      "Netflix TV\n"
     ]
    }
   ],
   "source": [
    "f = open('NetflixDatasetDescription.txt')\n",
    "print(f.read(10))\n",
    "f.close()"
   ]
  },
  {
   "cell_type": "code",
   "execution_count": 8,
   "id": "fd59ba9c",
   "metadata": {},
   "outputs": [
    {
     "name": "stdout",
     "output_type": "stream",
     "text": [
      "Netflix TV Shows and Movies\n",
      "\n"
     ]
    }
   ],
   "source": [
    "f = open('NetflixDatasetDescription.txt')\n",
    "print(f.readline())\n",
    "f.close()"
   ]
  },
  {
   "cell_type": "code",
   "execution_count": 10,
   "id": "fd2c5641",
   "metadata": {},
   "outputs": [
    {
     "name": "stdout",
     "output_type": "stream",
     "text": [
      "['Netflix TV Shows and Movies\\n', 'https://www.kaggle.com/datasets/victorsoeiro/netflix-tv-shows-and-movies 1/1\\n', 'License: CC0: Public Domain\\n', 'Netflix - TV Shows and Movies\\n', 'This data set was created to list all shows available on Netflix streaming, and analyze the data to find interesting facts. This data was acquired\\n', 'in May 2022 containing data available in the United States.\\n', '\\n', 'Content\\n', 'This dataset has two files containing the titles (titles.csv) and the cast (credits.csv) for the title.\\n', 'This dataset contains +5k unique titles on Netflix with 15 columns containing their information, including:\\n', 'ID: The title ID on JustWatch.\\n', 'title: The name of the title.\\n', 'show type: TV show or movie.\\n', 'description: A brief description.\\n', 'release year: The release year.\\n', 'age certification: The age certification.\\n', 'runtime: The length of the episode (SHOW) or movie.\\n', 'genres: A list of genres.\\n', 'production countries: A list of countries that produced the title.\\n', \"seasons: Number of seasons if it's a SHOW.\\n\", 'IMDB ID: The title ID on IMDB.\\n', 'IMDB Score: Score on IMDB.\\n', 'IMDB Votes: Votes on IMDB.\\n', 'TMDB Popularity: Popularity on TMDB.\\n', 'TMDB Score: Score on TMDB.\\n', 'And over +77k credits of actors and directors']\n"
     ]
    }
   ],
   "source": [
    "f = open('NetflixDatasetDescription.txt')\n",
    "filecontents = f.readlines()\n",
    "print(filecontents)\n",
    "f.close()"
   ]
  },
  {
   "cell_type": "code",
   "execution_count": 11,
   "id": "1ae5ed20",
   "metadata": {},
   "outputs": [
    {
     "name": "stdout",
     "output_type": "stream",
     "text": [
      "Netflix TV Shows and Movies\n",
      "\n",
      "https://www.kaggle.com/datasets/victorsoeiro/netflix-tv-shows-and-movies 1/1\n",
      "\n",
      "License: CC0: Public Domain\n",
      "\n",
      "Netflix - TV Shows and Movies\n",
      "\n",
      "This data set was created to list all shows available on Netflix streaming, and analyze the data to find interesting facts. This data was acquired\n",
      "\n",
      "in May 2022 containing data available in the United States.\n",
      "\n",
      "\n",
      "\n",
      "Content\n",
      "\n",
      "This dataset has two files containing the titles (titles.csv) and the cast (credits.csv) for the title.\n",
      "\n",
      "This dataset contains +5k unique titles on Netflix with 15 columns containing their information, including:\n",
      "\n",
      "ID: The title ID on JustWatch.\n",
      "\n",
      "title: The name of the title.\n",
      "\n",
      "show type: TV show or movie.\n",
      "\n",
      "description: A brief description.\n",
      "\n",
      "release year: The release year.\n",
      "\n",
      "age certification: The age certification.\n",
      "\n",
      "runtime: The length of the episode (SHOW) or movie.\n",
      "\n",
      "genres: A list of genres.\n",
      "\n",
      "production countries: A list of countries that produced the title.\n",
      "\n",
      "seasons: Number of seasons if it's a SHOW.\n",
      "\n",
      "IMDB ID: The title ID on IMDB.\n",
      "\n",
      "IMDB Score: Score on IMDB.\n",
      "\n",
      "IMDB Votes: Votes on IMDB.\n",
      "\n",
      "TMDB Popularity: Popularity on TMDB.\n",
      "\n",
      "TMDB Score: Score on TMDB.\n",
      "\n",
      "And over +77k credits of actors and directors\n"
     ]
    }
   ],
   "source": [
    "with open('NetflixDatasetDescription.txt') as f:\n",
    "# Reads in all lines first, then loops through.\n",
    "    for one_line in f.readlines():\n",
    "        print(one_line)"
   ]
  },
  {
   "cell_type": "code",
   "execution_count": 12,
   "id": "484a00cd",
   "metadata": {},
   "outputs": [],
   "source": [
    "# Tratando de leer un archivo en japonés como ASCII"
   ]
  },
  {
   "cell_type": "code",
   "execution_count": 14,
   "id": "b826795f",
   "metadata": {},
   "outputs": [
    {
     "ename": "UnicodeDecodeError",
     "evalue": "'charmap' codec can't decode byte 0x81 in position 65: character maps to <undefined>",
     "output_type": "error",
     "traceback": [
      "\u001b[1;31m---------------------------------------------------------------------------\u001b[0m",
      "\u001b[1;31mUnicodeDecodeError\u001b[0m                        Traceback (most recent call last)",
      "\u001b[1;32m~\\AppData\\Local\\Temp\\ipykernel_22964\\3337919084.py\u001b[0m in \u001b[0;36m<module>\u001b[1;34m\u001b[0m\n\u001b[0;32m      1\u001b[0m \u001b[1;32mwith\u001b[0m \u001b[0mopen\u001b[0m\u001b[1;33m(\u001b[0m\u001b[1;34m'TextoJaponés.txt'\u001b[0m\u001b[1;33m)\u001b[0m \u001b[1;32mas\u001b[0m \u001b[0mf\u001b[0m\u001b[1;33m:\u001b[0m\u001b[1;33m\u001b[0m\u001b[1;33m\u001b[0m\u001b[0m\n\u001b[1;32m----> 2\u001b[1;33m     \u001b[0mcontent\u001b[0m \u001b[1;33m=\u001b[0m \u001b[0mf\u001b[0m\u001b[1;33m.\u001b[0m\u001b[0mread\u001b[0m\u001b[1;33m(\u001b[0m\u001b[1;33m)\u001b[0m\u001b[1;33m\u001b[0m\u001b[1;33m\u001b[0m\u001b[0m\n\u001b[0m\u001b[0;32m      3\u001b[0m     \u001b[0mprint\u001b[0m\u001b[1;33m(\u001b[0m\u001b[0mcontent\u001b[0m\u001b[1;33m)\u001b[0m\u001b[1;33m\u001b[0m\u001b[1;33m\u001b[0m\u001b[0m\n",
      "\u001b[1;32mC:\\Anaconda3\\lib\\encodings\\cp1252.py\u001b[0m in \u001b[0;36mdecode\u001b[1;34m(self, input, final)\u001b[0m\n\u001b[0;32m     21\u001b[0m \u001b[1;32mclass\u001b[0m \u001b[0mIncrementalDecoder\u001b[0m\u001b[1;33m(\u001b[0m\u001b[0mcodecs\u001b[0m\u001b[1;33m.\u001b[0m\u001b[0mIncrementalDecoder\u001b[0m\u001b[1;33m)\u001b[0m\u001b[1;33m:\u001b[0m\u001b[1;33m\u001b[0m\u001b[1;33m\u001b[0m\u001b[0m\n\u001b[0;32m     22\u001b[0m     \u001b[1;32mdef\u001b[0m \u001b[0mdecode\u001b[0m\u001b[1;33m(\u001b[0m\u001b[0mself\u001b[0m\u001b[1;33m,\u001b[0m \u001b[0minput\u001b[0m\u001b[1;33m,\u001b[0m \u001b[0mfinal\u001b[0m\u001b[1;33m=\u001b[0m\u001b[1;32mFalse\u001b[0m\u001b[1;33m)\u001b[0m\u001b[1;33m:\u001b[0m\u001b[1;33m\u001b[0m\u001b[1;33m\u001b[0m\u001b[0m\n\u001b[1;32m---> 23\u001b[1;33m         \u001b[1;32mreturn\u001b[0m \u001b[0mcodecs\u001b[0m\u001b[1;33m.\u001b[0m\u001b[0mcharmap_decode\u001b[0m\u001b[1;33m(\u001b[0m\u001b[0minput\u001b[0m\u001b[1;33m,\u001b[0m\u001b[0mself\u001b[0m\u001b[1;33m.\u001b[0m\u001b[0merrors\u001b[0m\u001b[1;33m,\u001b[0m\u001b[0mdecoding_table\u001b[0m\u001b[1;33m)\u001b[0m\u001b[1;33m[\u001b[0m\u001b[1;36m0\u001b[0m\u001b[1;33m]\u001b[0m\u001b[1;33m\u001b[0m\u001b[1;33m\u001b[0m\u001b[0m\n\u001b[0m\u001b[0;32m     24\u001b[0m \u001b[1;33m\u001b[0m\u001b[0m\n\u001b[0;32m     25\u001b[0m \u001b[1;32mclass\u001b[0m \u001b[0mStreamWriter\u001b[0m\u001b[1;33m(\u001b[0m\u001b[0mCodec\u001b[0m\u001b[1;33m,\u001b[0m\u001b[0mcodecs\u001b[0m\u001b[1;33m.\u001b[0m\u001b[0mStreamWriter\u001b[0m\u001b[1;33m)\u001b[0m\u001b[1;33m:\u001b[0m\u001b[1;33m\u001b[0m\u001b[1;33m\u001b[0m\u001b[0m\n",
      "\u001b[1;31mUnicodeDecodeError\u001b[0m: 'charmap' codec can't decode byte 0x81 in position 65: character maps to <undefined>"
     ]
    }
   ],
   "source": [
    "with open('TextoJaponés.txt') as f:\n",
    "    content = f.read()\n",
    "    print(content)"
   ]
  },
  {
   "cell_type": "code",
   "execution_count": null,
   "id": "cd04c50b",
   "metadata": {},
   "outputs": [],
   "source": [
    "# Leyendo el mismo archivo con UTF-8"
   ]
  },
  {
   "cell_type": "code",
   "execution_count": 15,
   "id": "4db8a2d0",
   "metadata": {
    "scrolled": true
   },
   "outputs": [
    {
     "name": "stdout",
     "output_type": "stream",
     "text": [
      "from: http://www.nippontalk.com/en \"Japanese Daycares\"\n",
      "\n",
      "日本にほんでは、近頃ちかごろ多おおくの人ひとが保育園ほいくえん問題もんだいについて話はなしている。\n",
      "特とくに東京とうきょうでは十分じゅうぶんな施設しせつがないので、子こどもを保育園ほいくえんに入いれることがとても大変たいへんだ。\n",
      "In Japan many people are talking about the issues with daycare centers recently. \n",
      "It is very hard to get your kids into a daycare because of the lack of facilities especially in Tokyo.\n"
     ]
    }
   ],
   "source": [
    "with open('TextoJaponés.txt', 'r', encoding='utf-8') as f:\n",
    "    content = f.read()\n",
    "    print(content)"
   ]
  },
  {
   "cell_type": "code",
   "execution_count": 16,
   "id": "4cb4959f",
   "metadata": {},
   "outputs": [],
   "source": [
    "# Crear un archivo"
   ]
  },
  {
   "cell_type": "code",
   "execution_count": 21,
   "id": "c7d80970",
   "metadata": {},
   "outputs": [],
   "source": [
    "f = open('Lenguajes.txt', 'w')\n",
    "f.write(\"Java \\n\")\n",
    "f.write(\"Python\\n\")\n",
    "f.close()"
   ]
  },
  {
   "cell_type": "code",
   "execution_count": 22,
   "id": "46c09f5e",
   "metadata": {},
   "outputs": [],
   "source": [
    "# Agregar un nuevo lenguaje al archivo con marca de fin de línea.\n",
    "new_language = \"C++\\n\"\n",
    "with open('Lenguajes.txt', 'a') as f:\n",
    "    f.write(new_language) # también se puede realizar con encoding"
   ]
  },
  {
   "cell_type": "code",
   "execution_count": 20,
   "id": "66863b85",
   "metadata": {},
   "outputs": [],
   "source": [
    "# Leyendo un archivo CSV"
   ]
  },
  {
   "cell_type": "code",
   "execution_count": 24,
   "id": "9fe36886",
   "metadata": {},
   "outputs": [
    {
     "name": "stdout",
     "output_type": "stream",
     "text": [
      "0 ['id', 'title', 'type', 'release_year', 'age_certification', 'runtime', 'genres', 'production_countries', 'seasons', 'imdb_id', 'imdb_score']\n",
      "1 ['tm119281', 'Bonnie and Clyde', 'MOVIE', '1967', 'R', '110', \"['drama', 'crime', 'action']\", \"['US']\", '', 'tt0061418', '7.7']\n",
      "2 ['tm14491', 'The Queen', 'MOVIE', '1968', '', '68', \"['documentation']\", \"['US']\", '', 'tt0183686', '7.2']\n",
      "3 ['ts22164', \"Monty Python's Flying Circus\", 'SHOW', '1969', 'TV-14', '30', \"['comedy', 'european']\", \"['GB']\", '4', 'tt0063929', '8.8']\n",
      "4 ['tm84618', 'Taxi Driver', 'MOVIE', '1976', 'R', '113', \"['crime', 'drama']\", \"['US']\", '', 'tt0075314', '8.3']\n",
      "5 ['ts22082', 'Knight Rider', 'SHOW', '1982', 'TV-PG', '51', \"['action', 'scifi', 'crime', 'drama']\", \"['US']\", '4', 'tt0083437', '6.9']\n",
      "6 ['tm41289', 'Annie', 'MOVIE', '1982', 'PG', '127', \"['drama', 'family', 'comedy']\", \"['US']\", '', 'tt0083564', '6.6']\n",
      "7 ['ts20927', 'Star Trek: Deep Space Nine', 'SHOW', '1993', 'TV-PG', '47', \"['scifi', 'action', 'drama']\", \"['US']\", '7', 'tt0106145', '8.1']\n",
      "8 ['ts20960', 'Power Rangers', 'SHOW', '1993', 'TV-Y7', '22', \"['scifi', 'action', 'fantasy', 'family']\", \"['US']\", '29', 'tt0106064', '6.5']\n",
      "9 ['tm266628', 'LEGO Jurassic World: The Indominus Escape', 'MOVIE', '2016', 'G', '24', \"['family', 'animation', 'comedy']\", \"['US']\", '', '', '']\n",
      "10 ['ts53149', 'White Nights', 'SHOW', '2016', '', '62', \"['drama']\", \"['KR']\", '1', 'tt6168004', '6.9']\n",
      "11 ['tm285107', 'Victoria & Abdul', 'MOVIE', '2017', 'PG-13', '112', \"['drama', 'history']\", \"['GB', 'US']\", '', 'tt5816682', '6.8']\n",
      "12 ['tm217228', 'Death Note', 'MOVIE', '2017', 'NC-17', '101', \"['fantasy', 'horror', 'thriller', 'action', 'crime', 'drama']\", \"['US']\", '', 'tt1241317', '4.5']\n",
      "13 ['tm319818', 'Outlaw King', 'MOVIE', '2018', 'R', '121', \"['drama', 'action', 'history', 'war']\", \"['GB', 'US']\", '', 'tt6679794', '6.9']\n",
      "14 ['ts78558', 'Queer Eye', 'SHOW', '2018', 'TV-14', '47', \"['reality']\", \"['US']\", '6', 'tt7259746', '8.5']\n",
      "15 ['ts91039', 'The Chef Show', 'SHOW', '2019', 'TV-MA', '26', \"['documentation']\", \"['US']\", '2', 'tt10359446', '8.2']\n",
      "16 ['ts113506', 'The Last Czars', 'SHOW', '2019', 'TV-MA', '45', \"['documentation', 'drama', 'history', 'romance', 'war']\", \"['GB']\", '1', 'tt7949606', '7.3']\n",
      "17 ['ts89832', 'Abyss', 'SHOW', '2019', 'TV-14', '61', \"['scifi', 'crime', 'fantasy', 'romance', 'comedy']\", \"['KR']\", '1', 'tt10055734', '7.1']\n",
      "18 ['ts221891', 'Legend Quest: Masters of Myth', 'SHOW', '2019', 'TV-Y7', '25', \"['action', 'animation']\", \"['MX']\", '1', 'tt10228032', '7.6']\n",
      "19 ['ts89259', \"The Queen's Gambit\", 'SHOW', '2020', 'TV-MA', '56', \"['drama', 'sport']\", \"['US']\", '1', 'tt10048342', '8.6']\n",
      "20 ['ts87953', 'Locke & Key', 'SHOW', '2020', 'TV-14', '48', \"['scifi', 'thriller', 'drama', 'fantasy', 'horror']\", \"['US']\", '3', 'tt3007572', '7.4']\n",
      "21 ['tm950444', 'Skater Girl', 'MOVIE', '2021', 'PG', '107', \"['drama', 'family', 'sport']\", \"['IN', 'US']\", '', 'tt6964940', '6.6']\n",
      "22 ['ts307745', 'Money Heist: From Tokyo to Berlin', 'SHOW', '2021', 'TV-MA', '53', \"['documentation', 'crime', 'drama']\", \"['ES']\", '2', 'tt15384346', '7.7']\n",
      "23 ['tm1049290', 'In for a Murder', 'MOVIE', '2021', '', '105', \"['comedy', 'thriller', 'drama', 'scifi']\", \"['PL']\", '', 'tt13377488', '5.3']\n",
      "24 ['ts320335', 'Summer Heat', 'SHOW', '2022', 'TV-MA', '48', \"['drama', 'romance']\", \"['BR']\", '1', 'tt14655298', '5.5']\n",
      "FIN\n"
     ]
    }
   ],
   "source": [
    "import csv\n",
    "# Abrimos con UTF-8 encoding, y no leemos los caracteres de salto de línea (newline).\n",
    "with open('Netflix_titles_SHORT.csv', encoding='utf-8', newline='') as f:\n",
    "    # Creamos un contador de renglones y encabezado de cada renglón con enumarate.\n",
    "    contenido = enumerate(csv.reader(f))\n",
    "    # ciclo para leer un renglón a la vez, i es el contador\n",
    "    for i, renglon in contenido:\n",
    "        print(i, renglon)\n",
    "print('FIN')"
   ]
  },
  {
   "cell_type": "code",
   "execution_count": null,
   "id": "a2012f57",
   "metadata": {},
   "outputs": [],
   "source": [
    "# Nótese en el ejemplo anterior que todo lo que contiene el archivo csv se lee como string.\n",
    "# Por lo tanto, si queremos usarlos como números, debemos traducirlos,\n",
    "# para traducir un entero se usa 'int()', y se agrega 'or 0' para que sustituya con cero una celda vacía."
   ]
  },
  {
   "cell_type": "code",
   "execution_count": 34,
   "id": "7d74a6f1",
   "metadata": {},
   "outputs": [
    {
     "name": "stdout",
     "output_type": "stream",
     "text": [
      "24 ['ts320335', 'Summer Heat', 'SHOW', '2022', 'TV-MA', '48', \"['drama', 'romance']\", \"['BR']\", '1', 'tt14655298', '5.5'] 48\n"
     ]
    }
   ],
   "source": [
    "runtime = int(renglon[5] or 0)\n",
    "print(i, renglon, runtime)"
   ]
  },
  {
   "cell_type": "code",
   "execution_count": 35,
   "id": "7dd8508a",
   "metadata": {},
   "outputs": [],
   "source": [
    "# para traducir un float se usa 'float()', y se agrega 'or 0' para que sustituya con cero una celda vacía."
   ]
  },
  {
   "cell_type": "code",
   "execution_count": 36,
   "id": "6277726f",
   "metadata": {},
   "outputs": [
    {
     "name": "stdout",
     "output_type": "stream",
     "text": [
      "24 ['ts320335', 'Summer Heat', 'SHOW', '2022', 'TV-MA', '48', \"['drama', 'romance']\", \"['BR']\", '1', 'tt14655298', '5.5'] 5.5\n"
     ]
    }
   ],
   "source": [
    "imdb_score = float(renglon[10] or 0.0)\n",
    "print(i, renglon, imdb_score)"
   ]
  },
  {
   "cell_type": "code",
   "execution_count": 37,
   "id": "5b13a1e0",
   "metadata": {},
   "outputs": [],
   "source": [
    "# para traducir una fecha se usa la clase 'datetime' y el método strptime()', y se inserta en un bloque try para \n",
    "# cuando encuentre una celda vacía y no falle el programa."
   ]
  },
  {
   "cell_type": "code",
   "execution_count": 38,
   "id": "f5646ef0",
   "metadata": {},
   "outputs": [
    {
     "name": "stdout",
     "output_type": "stream",
     "text": [
      "24 ['ts320335', 'Summer Heat', 'SHOW', '2022', 'TV-MA', '48', \"['drama', 'romance']\", \"['BR']\", '1', 'tt14655298', '5.5'] 2022-01-01\n"
     ]
    }
   ],
   "source": [
    "import datetime as dt\n",
    "try:\n",
    "    año = dt.datetime.strptime(renglon[3],\"%Y\").date()\n",
    "except ValueError:\n",
    "    año = None\n",
    "print(i, renglon, año)"
   ]
  },
  {
   "cell_type": "code",
   "execution_count": 39,
   "id": "ee4a04e3",
   "metadata": {},
   "outputs": [],
   "source": [
    "# funciones para limpiar una cadena: replace() reemplaza símbolos, \n",
    "# split() crea una lista separando los elementos por el símbolo indicado"
   ]
  },
  {
   "cell_type": "code",
   "execution_count": 40,
   "id": "dc54b456",
   "metadata": {},
   "outputs": [
    {
     "name": "stdout",
     "output_type": "stream",
     "text": [
      "['drama', 'romance']\n",
      "'drama', 'romance'\n",
      "drama,romance\n",
      "['drama', 'romance']\n"
     ]
    }
   ],
   "source": [
    "try:\n",
    "    print(renglon[6])\n",
    "    categorias = renglon[6].replace('[','').replace(']','')\n",
    "    print(categorias)\n",
    "    categorias = categorias.replace('\\'', '').replace(' ','')\n",
    "    print(categorias)\n",
    "    categorias = categorias.split(',')\n",
    "    print(categorias)\n",
    "except:\n",
    "    categorias = \"\""
   ]
  },
  {
   "cell_type": "code",
   "execution_count": null,
   "id": "3bcf10cc",
   "metadata": {},
   "outputs": [],
   "source": [
    "# JSON"
   ]
  },
  {
   "cell_type": "code",
   "execution_count": null,
   "id": "329d5c7a",
   "metadata": {},
   "outputs": [],
   "source": [
    "import json\n",
    "# This is the Excel data (no keys)\n",
    "filename = 'Estudiantes.json'\n",
    "with open(filename, 'r', encoding='utf-8', newline='') as f:\n",
    "    students = json.load(f)\n",
    "print(students)"
   ]
  },
  {
   "cell_type": "code",
   "execution_count": null,
   "id": "671e7e4b",
   "metadata": {},
   "outputs": [],
   "source": [
    "for p in students:\n",
    "    print (p['ID_estudiante'], p['Nombre completo'], p['Dirección'], p['Programa Académico'])"
   ]
  }
 ],
 "metadata": {
  "kernelspec": {
   "display_name": "Python 3 (ipykernel)",
   "language": "python",
   "name": "python3"
  },
  "language_info": {
   "codemirror_mode": {
    "name": "ipython",
    "version": 3
   },
   "file_extension": ".py",
   "mimetype": "text/x-python",
   "name": "python",
   "nbconvert_exporter": "python",
   "pygments_lexer": "ipython3",
   "version": "3.9.13"
  }
 },
 "nbformat": 4,
 "nbformat_minor": 5
}
